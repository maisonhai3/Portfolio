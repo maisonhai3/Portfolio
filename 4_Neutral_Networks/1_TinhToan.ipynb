{
 "cells": [
  {
   "cell_type": "code",
   "execution_count": 1,
   "metadata": {},
   "outputs": [],
   "source": [
    "import numpy as np\n",
    "from scipy.special import expit as sigmoid"
   ]
  },
  {
   "cell_type": "markdown",
   "metadata": {},
   "source": [
    "# Computation of ANN"
   ]
  },
  {
   "cell_type": "code",
   "execution_count": 2,
   "metadata": {},
   "outputs": [
    {
     "name": "stdout",
     "output_type": "stream",
     "text": [
      "(3, 1)\n",
      "(2, 3)\n",
      "(1, 2)\n"
     ]
    }
   ],
   "source": [
    "X = np.array([[1],\n",
    "              [0.4],\n",
    "              [0.7]])\n",
    "\n",
    "w1 = np.array([[0.1, 0.1, 0.2],\n",
    "               [0.2, 0.3, -0.1]])\n",
    "b1 = 0\n",
    "\n",
    "w2 = np.array([[0.1, 0.5]])\n",
    "b2 = 0\n",
    "\n",
    "for matrices in [X, w1, w2]:\n",
    "    print(matrices.shape)"
   ]
  },
  {
   "cell_type": "code",
   "execution_count": 3,
   "metadata": {},
   "outputs": [
    {
     "name": "stdout",
     "output_type": "stream",
     "text": [
      "z1 :\n",
      " [[0.28]\n",
      " [0.25]]\n",
      "a1: \n",
      " [[0.56954622]\n",
      " [0.5621765 ]]\n",
      "z2: \n",
      " [[0.33804287]]\n",
      "a2: \n",
      " [[0.58371504]]\n"
     ]
    }
   ],
   "source": [
    "# Forward computation\n",
    "\n",
    "## Layer 1\n",
    "z1 = np.dot(w1, X) + b1\n",
    "print('z1 :\\n', z1)\n",
    "\n",
    "a1 = sigmoid(z1)\n",
    "print('a1: \\n', a1)\n",
    "\n",
    "# Layer 2\n",
    "z2 = np.dot(w2, a1) + b2\n",
    "print('z2: \\n', z2)\n",
    "\n",
    "a2 = sigmoid(z2)\n",
    "print('a2: \\n', a2)"
   ]
  },
  {
   "cell_type": "markdown",
   "metadata": {},
   "source": [
    "So, our model outputs final results ***a2 = 0.58***, which means predict label is 1.  \n",
    "Given the ground truth ***y = 1***, we are computing."
   ]
  },
  {
   "cell_type": "code",
   "execution_count": 4,
   "metadata": {},
   "outputs": [
    {
     "name": "stdout",
     "output_type": "stream",
     "text": [
      "da2 :\n",
      " [[-1.71316471]]\n",
      "-------\n",
      "dz2 :\n",
      " [[-0.41628496]]\n",
      "-------\n",
      "db2 :\n",
      " [[-0.41628496]]\n",
      "-------\n",
      "dw2: \n",
      " [[-0.23709353 -0.23402562]]\n",
      "-------\n",
      "da1: \n",
      " [[-0.0416285 ]\n",
      " [-0.20814248]]\n",
      "-------\n",
      "dz1: \n",
      " [[-0.01020578]\n",
      " [-0.05123096]]\n",
      "-------\n",
      "db1: \n",
      " [[-0.01020578]\n",
      " [-0.05123096]]\n",
      "-------\n",
      "dw1 :\n",
      " [[-0.01020578 -0.00408231 -0.00714405]\n",
      " [-0.05123096 -0.02049238 -0.03586167]]\n",
      "-------\n"
     ]
    }
   ],
   "source": [
    "# Back propagation\n",
    "y = 1\n",
    "\n",
    "## Layer 2\n",
    "da2 = -y/a2 + (1-y)/(1-a2)\n",
    "print('da2 :\\n', da2)\n",
    "print('-------')\n",
    "\n",
    "dz2 = a2 - y\n",
    "print('dz2 :\\n', dz2)\n",
    "print('-------')\n",
    "\n",
    "db2 = np.sum(dz2, keepdims=True) # in case dz2's shape of (n, )\n",
    "print('db2 :\\n', dz2)\n",
    "print('-------')\n",
    "\n",
    "dw2 = dz2 * a1.T\n",
    "print('dw2: \\n', dw2)\n",
    "print('-------')\n",
    "\n",
    "## Layer 1\n",
    "da1 = dz2 * w2.T\n",
    "print('da1: \\n', da1)\n",
    "print('-------')\n",
    "\n",
    "dz1 = da1 * sigmoid(z1) * (1 - sigmoid(z1))\n",
    "print('dz1: \\n', dz1)\n",
    "print('-------')\n",
    "\n",
    "db1 = np.sum(dz1, axis=1, keepdims=True)\n",
    "print('db1: \\n', db1)\n",
    "print('-------')\n",
    "\n",
    "dw1 = dz1 * X.T\n",
    "print('dw1 :\\n', dw1)\n",
    "print('-------')"
   ]
  },
  {
   "cell_type": "markdown",
   "metadata": {},
   "source": [
    "## Updating Weights - Final Results"
   ]
  },
  {
   "cell_type": "code",
   "execution_count": 5,
   "metadata": {},
   "outputs": [
    {
     "name": "stdout",
     "output_type": "stream",
     "text": [
      "w1_iter1 :\n",
      " [[ 0.08979422  0.09591769  0.19285595]\n",
      " [ 0.14876904  0.27950762 -0.13586167]]\n",
      "-------\n",
      "w1_iter2 :\n",
      " [[-0.13709353  0.26597438]]\n",
      "-------\n"
     ]
    }
   ],
   "source": [
    "w1_iter1 = w1 + dw1\n",
    "print('w1_iter1 :\\n', w1_iter1)\n",
    "print('-------')\n",
    "\n",
    "w2_iter1 = w2 + dw2\n",
    "print('w1_iter2 :\\n', w2_iter1)\n",
    "print('-------')"
   ]
  }
 ],
 "metadata": {
  "kernelspec": {
   "display_name": "Python 3",
   "language": "python",
   "name": "python3"
  },
  "language_info": {
   "codemirror_mode": {
    "name": "ipython",
    "version": 3
   },
   "file_extension": ".py",
   "mimetype": "text/x-python",
   "name": "python",
   "nbconvert_exporter": "python",
   "pygments_lexer": "ipython3",
   "version": "3.7.6"
  }
 },
 "nbformat": 4,
 "nbformat_minor": 4
}
