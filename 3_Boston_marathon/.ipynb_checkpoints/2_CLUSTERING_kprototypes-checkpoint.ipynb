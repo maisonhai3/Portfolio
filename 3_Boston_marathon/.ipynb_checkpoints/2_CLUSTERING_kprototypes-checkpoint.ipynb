{
 "cells": [
  {
   "cell_type": "code",
   "execution_count": 1,
   "metadata": {
    "_cell_guid": "b1076dfc-b9ad-4769-8c92-a6c4dae69d19",
    "_uuid": "8f2839f25d086af736a60e9eeb907d3b93b6e0e5",
    "jupyter": {
     "source_hidden": true
    }
   },
   "outputs": [],
   "source": [
    "'''General Libraries'''\n",
    "import numpy as np \n",
    "import pandas as pd \n",
    "pd.set_option('display.max_columns', 500)\n",
    "\n",
    "'''Statistic'''\n",
    "import scipy\n",
    "from scipy import stats\n",
    "from scipy.stats import norm\n",
    "import datetime\n",
    "\n",
    "'''Scikit Learn'''\n",
    "from sklearn.preprocessing import OneHotEncoder, LabelEncoder, StandardScaler, MinMaxScaler\n",
    "from sklearn.decomposition import PCA\n",
    "\n",
    "from sklearn.pipeline import Pipeline\n",
    "from sklearn.model_selection import train_test_split,cross_val_score, GridSearchCV\n",
    "from sklearn.linear_model import LinearRegression, Ridge, RidgeCV\n",
    "\n",
    "from sklearn.cluster import KMeans, OPTICS \n",
    "from sklearn.metrics import silhouette_samples, silhouette_score\n",
    "\n",
    "'''Ploting Libraries'''\n",
    "from plotly.offline import iplot, plot\n",
    "from plotly.subplots import make_subplots\n",
    "import plotly.graph_objects as go\n",
    "import plotly.express as px\n",
    "import plotly.figure_factory as ff\n",
    "import plotly.io as pio\n",
    "pio.renderers.default = \"iframe\" \n",
    "\n",
    "import matplotlib.pyplot as plt\n",
    "import matplotlib.cm as cm\n",
    "from matplotlib import style \n",
    "style.use(\"fivethirtyeight\") \n",
    "\n",
    "import seaborn as sns\n",
    "sns.set_palette('RdBu')\n",
    "\n",
    "import warnings\n",
    "warnings.filterwarnings(\"ignore\")\n",
    "\n",
    "'''Miscellaneous'''\n",
    "\n",
    "'''Seeds'''\n",
    "import random\n",
    "random.seed(10)\n",
    "np.random.seed(11)"
   ]
  },
  {
   "cell_type": "markdown",
   "metadata": {},
   "source": [
    "# The Dataset"
   ]
  },
  {
   "cell_type": "code",
   "execution_count": 2,
   "metadata": {},
   "outputs": [],
   "source": [
    "df = pd.read_csv('data_Preprocessed_noneOnehot.csv')"
   ]
  },
  {
   "cell_type": "code",
   "execution_count": 23,
   "metadata": {},
   "outputs": [
    {
     "data": {
      "text/html": [
       "<div>\n",
       "<style scoped>\n",
       "    .dataframe tbody tr th:only-of-type {\n",
       "        vertical-align: middle;\n",
       "    }\n",
       "\n",
       "    .dataframe tbody tr th {\n",
       "        vertical-align: top;\n",
       "    }\n",
       "\n",
       "    .dataframe thead th {\n",
       "        text-align: right;\n",
       "    }\n",
       "</style>\n",
       "<table border=\"1\" class=\"dataframe\">\n",
       "  <thead>\n",
       "    <tr style=\"text-align: right;\">\n",
       "      <th></th>\n",
       "      <th>official</th>\n",
       "      <th>age</th>\n",
       "      <th>gender</th>\n",
       "      <th>country</th>\n",
       "    </tr>\n",
       "  </thead>\n",
       "  <tbody>\n",
       "    <tr>\n",
       "      <th>0</th>\n",
       "      <td>0.012196</td>\n",
       "      <td>0.460317</td>\n",
       "      <td>M</td>\n",
       "      <td>JPN</td>\n",
       "    </tr>\n",
       "    <tr>\n",
       "      <th>1</th>\n",
       "      <td>0.153041</td>\n",
       "      <td>0.238095</td>\n",
       "      <td>F</td>\n",
       "      <td>KEN</td>\n",
       "    </tr>\n",
       "    <tr>\n",
       "      <th>2</th>\n",
       "      <td>0.000000</td>\n",
       "      <td>0.365079</td>\n",
       "      <td>M</td>\n",
       "      <td>RSA</td>\n",
       "    </tr>\n",
       "    <tr>\n",
       "      <th>3</th>\n",
       "      <td>0.157316</td>\n",
       "      <td>0.095238</td>\n",
       "      <td>F</td>\n",
       "      <td>ETH</td>\n",
       "    </tr>\n",
       "    <tr>\n",
       "      <th>4</th>\n",
       "      <td>0.001652</td>\n",
       "      <td>0.349206</td>\n",
       "      <td>M</td>\n",
       "      <td>JPN</td>\n",
       "    </tr>\n",
       "  </tbody>\n",
       "</table>\n",
       "</div>"
      ],
      "text/plain": [
       "   official       age gender country\n",
       "0  0.012196  0.460317      M     JPN\n",
       "1  0.153041  0.238095      F     KEN\n",
       "2  0.000000  0.365079      M     RSA\n",
       "3  0.157316  0.095238      F     ETH\n",
       "4  0.001652  0.349206      M     JPN"
      ]
     },
     "execution_count": 23,
     "metadata": {},
     "output_type": "execute_result"
    }
   ],
   "source": [
    "df.head()"
   ]
  },
  {
   "cell_type": "code",
   "execution_count": 24,
   "metadata": {},
   "outputs": [
    {
     "data": {
      "text/plain": [
       "official    float64\n",
       "age         float64\n",
       "gender       object\n",
       "country      object\n",
       "dtype: object"
      ]
     },
     "execution_count": 24,
     "metadata": {},
     "output_type": "execute_result"
    }
   ],
   "source": [
    "df.dtypes"
   ]
  },
  {
   "cell_type": "markdown",
   "metadata": {},
   "source": [
    "# K-Prototypes Clustering"
   ]
  },
  {
   "cell_type": "code",
   "execution_count": 3,
   "metadata": {},
   "outputs": [
    {
     "name": "stdout",
     "output_type": "stream",
     "text": [
      "[2, 3]\n"
     ]
    }
   ],
   "source": [
    "# Get indices of categorical columns, a arguments for k-prototypes\n",
    "categories = ['gender', 'country']\n",
    "categories = [df.columns.get_loc(col) for col in categories if col in df]\n",
    "\n",
    "print(categories)"
   ]
  },
  {
   "cell_type": "code",
   "execution_count": 4,
   "metadata": {},
   "outputs": [
    {
     "name": "stdout",
     "output_type": "stream",
     "text": [
      "Best run was number 4\n"
     ]
    }
   ],
   "source": [
    "# K-Prototypes\n",
    "from kmodes.kmodes import KModes\n",
    "from kmodes.kprototypes import KPrototypes\n",
    "\n",
    "n_clusters = 5   # where 6 is the optimum K got in CLUSTERING_kmeans notebook.\n",
    "\n",
    "## Clustering\n",
    "clusterer = KPrototypes(n_clusters=n_clusters, init='Huang', n_init=5, verbose=1,\n",
    "                        n_jobs=-1,\n",
    "                        max_iter=500,\n",
    "                        gamma=0.1)\n",
    "## The labels\n",
    "cluster_labels = clusterer.fit_predict(df, categorical=categories)"
   ]
  },
  {
   "cell_type": "markdown",
   "metadata": {},
   "source": [
    "# Evaluation with Onehot Encoding"
   ]
  },
  {
   "cell_type": "markdown",
   "metadata": {},
   "source": [
    "***Experiment 1:***  \n",
    "Divide features into: a Numerical set and Onehot encoding set, then compute scores respectively.\n"
   ]
  },
  {
   "cell_type": "code",
   "execution_count": 1,
   "metadata": {},
   "outputs": [
    {
     "ename": "NameError",
     "evalue": "name 'df' is not defined",
     "output_type": "error",
     "traceback": [
      "\u001b[0;31m---------------------------------------------------------------------------\u001b[0m",
      "\u001b[0;31mNameError\u001b[0m                                 Traceback (most recent call last)",
      "\u001b[0;32m<ipython-input-1-15b9c8bd3968>\u001b[0m in \u001b[0;36m<module>\u001b[0;34m\u001b[0m\n\u001b[1;32m      1\u001b[0m \u001b[0;31m# Experiment 1: Splitting\u001b[0m\u001b[0;34m\u001b[0m\u001b[0;34m\u001b[0m\u001b[0;34m\u001b[0m\u001b[0m\n\u001b[0;32m----> 2\u001b[0;31m \u001b[0mdf_num\u001b[0m \u001b[0;34m=\u001b[0m \u001b[0mdf\u001b[0m\u001b[0;34m[\u001b[0m\u001b[0;34m[\u001b[0m\u001b[0;34m'official'\u001b[0m\u001b[0;34m,\u001b[0m \u001b[0;34m'age'\u001b[0m\u001b[0;34m]\u001b[0m\u001b[0;34m]\u001b[0m\u001b[0;34m\u001b[0m\u001b[0;34m\u001b[0m\u001b[0m\n\u001b[0m\u001b[1;32m      3\u001b[0m \u001b[0;34m\u001b[0m\u001b[0m\n\u001b[1;32m      4\u001b[0m \u001b[0mdf_cat\u001b[0m \u001b[0;34m=\u001b[0m \u001b[0mdf\u001b[0m\u001b[0;34m[\u001b[0m\u001b[0;34m[\u001b[0m\u001b[0;34m'gender'\u001b[0m\u001b[0;34m,\u001b[0m \u001b[0;34m'country'\u001b[0m\u001b[0;34m]\u001b[0m\u001b[0;34m]\u001b[0m\u001b[0;34m\u001b[0m\u001b[0;34m\u001b[0m\u001b[0m\n\u001b[1;32m      5\u001b[0m \u001b[0mdf_cat\u001b[0m \u001b[0;34m=\u001b[0m \u001b[0mpd\u001b[0m\u001b[0;34m.\u001b[0m\u001b[0mget_dummies\u001b[0m\u001b[0;34m(\u001b[0m\u001b[0mdf_cat\u001b[0m\u001b[0;34m)\u001b[0m\u001b[0;34m\u001b[0m\u001b[0;34m\u001b[0m\u001b[0m\n",
      "\u001b[0;31mNameError\u001b[0m: name 'df' is not defined"
     ]
    }
   ],
   "source": [
    "# Experiment 1: splitting\n",
    "df_num = df[['official', 'age']]\n",
    "\n",
    "df_cat = df[['gender', 'country']]\n",
    "df_cat = pd.get_dummies(df_cat)"
   ]
  },
  {
   "cell_type": "code",
   "execution_count": 33,
   "metadata": {},
   "outputs": [],
   "source": [
    "# Calculate the Silhouette score each part\n",
    "silScore_num = silhouette_score(df_num, cluster_labels, metric='euclidean')\n",
    "silScore_cate = silhouette_score(df_cat, cluster_labels, metric='hamming')\n",
    "\n",
    "# The final score\n",
    "silScore = (silScore_num + silScore_cate) / 2\n",
    "\n",
    "# \n",
    "print('Silhouette score of KMeans for Numericals: ', silScore_num)\n",
    "print('Silhouette score of KModes for Categoricals with Onehot: ', silScore_cate)\n",
    "print('Average Silhouette score of KPrototypes: ', silScore)"
   ]
  },
  {
   "cell_type": "markdown",
   "metadata": {},
   "source": [
    "***Experiment 2:***  \n",
    "We run onehot encoding over all of columns then scoring the whole data with the Hamming metric."
   ]
  },
  {
   "cell_type": "code",
   "execution_count": 35,
   "metadata": {},
   "outputs": [],
   "source": [
    "# Experiments 2: the whole\n",
    "df_test = pd.get_dummies(df)\n",
    "\n",
    "score = silhouette_score(df_test, cluster_labels, metric='hamming')\n",
    "print('Silhouette score: ', score)"
   ]
  },
  {
   "cell_type": "code",
   "execution_count": 36,
   "metadata": {},
   "outputs": [
    {
     "name": "stdout",
     "output_type": "stream",
     "text": [
      "Silhouette score:  -0.046710612573966505\n"
     ]
    }
   ],
   "source": [
    "print('Silhouette score: ', score)"
   ]
  },
  {
   "cell_type": "markdown",
   "metadata": {},
   "source": [
    "***Conclusion***  \n",
    "Why the score is so bad??"
   ]
  },
  {
   "cell_type": "markdown",
   "metadata": {},
   "source": [
    "## Evaluate with HEOM -- didn't work"
   ]
  },
  {
   "cell_type": "markdown",
   "metadata": {},
   "source": [
    " ***HEOM - Heterogeneous Euclidean-Overlap Metric***. \n",
    " As Silhouette_score of sklearn doesn't work with categorical values, or more concisely, its metric functions don't work with categories, so I need to find another measure. And then I found this idea of HEOM on medium.com and decide to give it a shot."
   ]
  },
  {
   "cell_type": "code",
   "execution_count": 19,
   "metadata": {},
   "outputs": [
    {
     "data": {
      "text/html": [
       "<div>\n",
       "<style scoped>\n",
       "    .dataframe tbody tr th:only-of-type {\n",
       "        vertical-align: middle;\n",
       "    }\n",
       "\n",
       "    .dataframe tbody tr th {\n",
       "        vertical-align: top;\n",
       "    }\n",
       "\n",
       "    .dataframe thead th {\n",
       "        text-align: right;\n",
       "    }\n",
       "</style>\n",
       "<table border=\"1\" class=\"dataframe\">\n",
       "  <thead>\n",
       "    <tr style=\"text-align: right;\">\n",
       "      <th></th>\n",
       "      <th>official</th>\n",
       "      <th>age</th>\n",
       "      <th>gender</th>\n",
       "      <th>country</th>\n",
       "    </tr>\n",
       "  </thead>\n",
       "  <tbody>\n",
       "    <tr>\n",
       "      <th>0</th>\n",
       "      <td>0.012196</td>\n",
       "      <td>0.460317</td>\n",
       "      <td>1</td>\n",
       "      <td>41</td>\n",
       "    </tr>\n",
       "    <tr>\n",
       "      <th>1</th>\n",
       "      <td>0.153041</td>\n",
       "      <td>0.238095</td>\n",
       "      <td>0</td>\n",
       "      <td>42</td>\n",
       "    </tr>\n",
       "    <tr>\n",
       "      <th>2</th>\n",
       "      <td>0.000000</td>\n",
       "      <td>0.365079</td>\n",
       "      <td>1</td>\n",
       "      <td>59</td>\n",
       "    </tr>\n",
       "    <tr>\n",
       "      <th>3</th>\n",
       "      <td>0.157316</td>\n",
       "      <td>0.095238</td>\n",
       "      <td>0</td>\n",
       "      <td>26</td>\n",
       "    </tr>\n",
       "    <tr>\n",
       "      <th>4</th>\n",
       "      <td>0.001652</td>\n",
       "      <td>0.349206</td>\n",
       "      <td>1</td>\n",
       "      <td>41</td>\n",
       "    </tr>\n",
       "    <tr>\n",
       "      <th>...</th>\n",
       "      <td>...</td>\n",
       "      <td>...</td>\n",
       "      <td>...</td>\n",
       "      <td>...</td>\n",
       "    </tr>\n",
       "    <tr>\n",
       "      <th>31629</th>\n",
       "      <td>0.343982</td>\n",
       "      <td>0.222222</td>\n",
       "      <td>1</td>\n",
       "      <td>74</td>\n",
       "    </tr>\n",
       "    <tr>\n",
       "      <th>31630</th>\n",
       "      <td>0.582055</td>\n",
       "      <td>0.253968</td>\n",
       "      <td>1</td>\n",
       "      <td>74</td>\n",
       "    </tr>\n",
       "    <tr>\n",
       "      <th>31631</th>\n",
       "      <td>0.528235</td>\n",
       "      <td>0.047619</td>\n",
       "      <td>0</td>\n",
       "      <td>74</td>\n",
       "    </tr>\n",
       "    <tr>\n",
       "      <th>31632</th>\n",
       "      <td>0.582606</td>\n",
       "      <td>0.317460</td>\n",
       "      <td>0</td>\n",
       "      <td>74</td>\n",
       "    </tr>\n",
       "    <tr>\n",
       "      <th>31633</th>\n",
       "      <td>0.387390</td>\n",
       "      <td>0.571429</td>\n",
       "      <td>1</td>\n",
       "      <td>74</td>\n",
       "    </tr>\n",
       "  </tbody>\n",
       "</table>\n",
       "<p>31634 rows × 4 columns</p>\n",
       "</div>"
      ],
      "text/plain": [
       "       official       age  gender  country\n",
       "0      0.012196  0.460317       1       41\n",
       "1      0.153041  0.238095       0       42\n",
       "2      0.000000  0.365079       1       59\n",
       "3      0.157316  0.095238       0       26\n",
       "4      0.001652  0.349206       1       41\n",
       "...         ...       ...     ...      ...\n",
       "31629  0.343982  0.222222       1       74\n",
       "31630  0.582055  0.253968       1       74\n",
       "31631  0.528235  0.047619       0       74\n",
       "31632  0.582606  0.317460       0       74\n",
       "31633  0.387390  0.571429       1       74\n",
       "\n",
       "[31634 rows x 4 columns]"
      ]
     },
     "execution_count": 19,
     "metadata": {},
     "output_type": "execute_result"
    }
   ],
   "source": [
    "test = df.copy()\n",
    "\n",
    "# Label Encoding of categories to compute distances with the HEOM metrics\n",
    "lb = LabelEncoder()\n",
    "test['gender'], test['country'] = lb.fit_transform(df['gender']), lb.fit_transform(df['country'])\n",
    "\n",
    "test"
   ]
  },
  {
   "cell_type": "code",
   "execution_count": null,
   "metadata": {},
   "outputs": [],
   "source": [
    "# Sihouette score with HEOM\n",
    "\n",
    "## A custom metric\n",
    "from distython import HEOM # a custom metric class\n",
    "heom_metric = HEOM(test, cat_ix=categories, normalised='normal')\n",
    "\n",
    "## \n",
    "score = silhouette_score(test, cluster_labels, metric = heom_metric.heom)\n",
    "print('Silhouette score of k-prototypes clustering: ', score)"
   ]
  },
  {
   "cell_type": "markdown",
   "metadata": {},
   "source": [
    "The computation of Silhouette score never ends. It took over 12 hours, over my patience, so I shut it down.\n",
    "\n",
    "I am searching for the why."
   ]
  },
  {
   "cell_type": "markdown",
   "metadata": {},
   "source": [
    "# Verdict\n",
    "With k = 5, which inherit from optimum k of K-means, K-prototypes didn't score very well, or badly indeed. Its score is close to 0."
   ]
  }
 ],
 "metadata": {
  "kernelspec": {
   "display_name": "Python 3",
   "language": "python",
   "name": "python3"
  },
  "language_info": {
   "codemirror_mode": {
    "name": "ipython",
    "version": 3
   },
   "file_extension": ".py",
   "mimetype": "text/x-python",
   "name": "python",
   "nbconvert_exporter": "python",
   "pygments_lexer": "ipython3",
   "version": "3.7.6"
  }
 },
 "nbformat": 4,
 "nbformat_minor": 4
}
