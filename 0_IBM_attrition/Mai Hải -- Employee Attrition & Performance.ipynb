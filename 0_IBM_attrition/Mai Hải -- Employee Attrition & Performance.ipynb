{
 "cells": [
  {
   "cell_type": "code",
   "execution_count": 1,
   "metadata": {
    "scrolled": true
   },
   "outputs": [],
   "source": [
    "# Libraries\n",
    "'''Ploting Libraries'''\n",
    "import matplotlib.pyplot as plt\n",
    "import seaborn as sns\n",
    "\n",
    "from plotly.offline import iplot, plot\n",
    "from plotly.subplots import make_subplots\n",
    "import plotly.graph_objects as go\n",
    "import plotly.express as px\n",
    "import plotly.figure_factory as ff\n",
    "import plotly.io as pio\n",
    "pio.renderers.default = \"iframe\" \n",
    "\n",
    "sns.set_palette('RdBu')\n",
    "\n",
    "import numpy as np\n",
    "import pandas as pd\n",
    "import scipy\n",
    "from scipy import stats\n",
    "from sklearn.preprocessing import LabelEncoder\n",
    "\n"
   ]
  },
  {
   "cell_type": "markdown",
   "metadata": {},
   "source": [
    "<center><h1> IBM HR analysis</h1></center>"
   ]
  },
  {
   "cell_type": "markdown",
   "metadata": {},
   "source": [
    "<center>![alkir/Thinkstock](https://compote.slate.com/images/75d251f2-6d54-4839-bfb1-96f40b237ef4.jpg) </center>"
   ]
  },
  {
   "cell_type": "markdown",
   "metadata": {},
   "source": [
    "## Introduction\n",
    "\n",
    "Hello everyone,  this notebook is an assignment in CBD Robotics internship, in order to exploit my basic acknowledge.\n",
    "\n",
    "***The assignment concludes 2 main parts.***  \n",
    "#### First, show off fundamental EDA skills, include:  \n",
    " * Visulization with matplotlib.pyplot, seaborn, and plotly\n",
    " * Missing value treatment with isnull()..\n",
    " * pd.DataFrame's methods: info(), describe(), head(), tail()..  \n",
    "\n",
    "#### Second, statistically questions:\n",
    " * Which key factors influence attrition rates?\n",
    " * Which key factors influence satisfaction rates?\n",
    "\n",
    "Also, the statistics  must use ***following testing***:\n",
    " * T-test  \n",
    " * ANOVA and MANOVA\n",
    " * Correlation calculation in Pearman method."
   ]
  },
  {
   "cell_type": "markdown",
   "metadata": {},
   "source": [
    "# Table of Contents\n",
    "\n",
    "1. Take a look at the dataset\n",
    "2. Missing data\n",
    "3. Descriptive statistic\n",
    "4. EDA\n",
    "5. Statistic Tesing\n",
    " * Which key factors to Attrition?\n",
    " * Which key factors to Job Satisfaction?\n",
    "6. Final verdict\n",
    "7. My potential mistakes"
   ]
  },
  {
   "cell_type": "markdown",
   "metadata": {},
   "source": [
    "# 1. Take a look"
   ]
  },
  {
   "cell_type": "code",
   "execution_count": 2,
   "metadata": {
    "_cell_guid": "79c7e3d0-c299-4dcb-8224-4455121ee9b0",
    "_uuid": "d629ff2d2480ee46fbb7e2d37f6b5fab8052498a",
    "scrolled": true
   },
   "outputs": [],
   "source": [
    "df = pd.read_csv('HR-Employee-Attrition.csv')"
   ]
  },
  {
   "cell_type": "code",
   "execution_count": 3,
   "metadata": {},
   "outputs": [
    {
     "name": "stdout",
     "output_type": "stream",
     "text": [
      "Observations                                   :  1470\n",
      "Features -- exclude Attrition and Satisfication:  33\n"
     ]
    }
   ],
   "source": [
    "print('Observations                                   : ', df.shape[0])\n",
    "print('Features -- exclude Attrition and Satisfication: ', df.shape[1] - 2)"
   ]
  },
  {
   "cell_type": "code",
   "execution_count": 4,
   "metadata": {},
   "outputs": [
    {
     "data": {
      "text/html": [
       "<div>\n",
       "<style scoped>\n",
       "    .dataframe tbody tr th:only-of-type {\n",
       "        vertical-align: middle;\n",
       "    }\n",
       "\n",
       "    .dataframe tbody tr th {\n",
       "        vertical-align: top;\n",
       "    }\n",
       "\n",
       "    .dataframe thead th {\n",
       "        text-align: right;\n",
       "    }\n",
       "</style>\n",
       "<table border=\"1\" class=\"dataframe\">\n",
       "  <thead>\n",
       "    <tr style=\"text-align: right;\">\n",
       "      <th></th>\n",
       "      <th>Age</th>\n",
       "      <th>Attrition</th>\n",
       "      <th>BusinessTravel</th>\n",
       "      <th>DailyRate</th>\n",
       "      <th>Department</th>\n",
       "      <th>DistanceFromHome</th>\n",
       "      <th>Education</th>\n",
       "      <th>EducationField</th>\n",
       "      <th>EmployeeCount</th>\n",
       "      <th>EmployeeNumber</th>\n",
       "      <th>...</th>\n",
       "      <th>RelationshipSatisfaction</th>\n",
       "      <th>StandardHours</th>\n",
       "      <th>StockOptionLevel</th>\n",
       "      <th>TotalWorkingYears</th>\n",
       "      <th>TrainingTimesLastYear</th>\n",
       "      <th>WorkLifeBalance</th>\n",
       "      <th>YearsAtCompany</th>\n",
       "      <th>YearsInCurrentRole</th>\n",
       "      <th>YearsSinceLastPromotion</th>\n",
       "      <th>YearsWithCurrManager</th>\n",
       "    </tr>\n",
       "  </thead>\n",
       "  <tbody>\n",
       "    <tr>\n",
       "      <th>0</th>\n",
       "      <td>41</td>\n",
       "      <td>Yes</td>\n",
       "      <td>Travel_Rarely</td>\n",
       "      <td>1102</td>\n",
       "      <td>Sales</td>\n",
       "      <td>1</td>\n",
       "      <td>2</td>\n",
       "      <td>Life Sciences</td>\n",
       "      <td>1</td>\n",
       "      <td>1</td>\n",
       "      <td>...</td>\n",
       "      <td>1</td>\n",
       "      <td>80</td>\n",
       "      <td>0</td>\n",
       "      <td>8</td>\n",
       "      <td>0</td>\n",
       "      <td>1</td>\n",
       "      <td>6</td>\n",
       "      <td>4</td>\n",
       "      <td>0</td>\n",
       "      <td>5</td>\n",
       "    </tr>\n",
       "    <tr>\n",
       "      <th>1</th>\n",
       "      <td>49</td>\n",
       "      <td>No</td>\n",
       "      <td>Travel_Frequently</td>\n",
       "      <td>279</td>\n",
       "      <td>Research &amp; Development</td>\n",
       "      <td>8</td>\n",
       "      <td>1</td>\n",
       "      <td>Life Sciences</td>\n",
       "      <td>1</td>\n",
       "      <td>2</td>\n",
       "      <td>...</td>\n",
       "      <td>4</td>\n",
       "      <td>80</td>\n",
       "      <td>1</td>\n",
       "      <td>10</td>\n",
       "      <td>3</td>\n",
       "      <td>3</td>\n",
       "      <td>10</td>\n",
       "      <td>7</td>\n",
       "      <td>1</td>\n",
       "      <td>7</td>\n",
       "    </tr>\n",
       "    <tr>\n",
       "      <th>2</th>\n",
       "      <td>37</td>\n",
       "      <td>Yes</td>\n",
       "      <td>Travel_Rarely</td>\n",
       "      <td>1373</td>\n",
       "      <td>Research &amp; Development</td>\n",
       "      <td>2</td>\n",
       "      <td>2</td>\n",
       "      <td>Other</td>\n",
       "      <td>1</td>\n",
       "      <td>4</td>\n",
       "      <td>...</td>\n",
       "      <td>2</td>\n",
       "      <td>80</td>\n",
       "      <td>0</td>\n",
       "      <td>7</td>\n",
       "      <td>3</td>\n",
       "      <td>3</td>\n",
       "      <td>0</td>\n",
       "      <td>0</td>\n",
       "      <td>0</td>\n",
       "      <td>0</td>\n",
       "    </tr>\n",
       "    <tr>\n",
       "      <th>3</th>\n",
       "      <td>33</td>\n",
       "      <td>No</td>\n",
       "      <td>Travel_Frequently</td>\n",
       "      <td>1392</td>\n",
       "      <td>Research &amp; Development</td>\n",
       "      <td>3</td>\n",
       "      <td>4</td>\n",
       "      <td>Life Sciences</td>\n",
       "      <td>1</td>\n",
       "      <td>5</td>\n",
       "      <td>...</td>\n",
       "      <td>3</td>\n",
       "      <td>80</td>\n",
       "      <td>0</td>\n",
       "      <td>8</td>\n",
       "      <td>3</td>\n",
       "      <td>3</td>\n",
       "      <td>8</td>\n",
       "      <td>7</td>\n",
       "      <td>3</td>\n",
       "      <td>0</td>\n",
       "    </tr>\n",
       "    <tr>\n",
       "      <th>4</th>\n",
       "      <td>27</td>\n",
       "      <td>No</td>\n",
       "      <td>Travel_Rarely</td>\n",
       "      <td>591</td>\n",
       "      <td>Research &amp; Development</td>\n",
       "      <td>2</td>\n",
       "      <td>1</td>\n",
       "      <td>Medical</td>\n",
       "      <td>1</td>\n",
       "      <td>7</td>\n",
       "      <td>...</td>\n",
       "      <td>4</td>\n",
       "      <td>80</td>\n",
       "      <td>1</td>\n",
       "      <td>6</td>\n",
       "      <td>3</td>\n",
       "      <td>3</td>\n",
       "      <td>2</td>\n",
       "      <td>2</td>\n",
       "      <td>2</td>\n",
       "      <td>2</td>\n",
       "    </tr>\n",
       "    <tr>\n",
       "      <th>5</th>\n",
       "      <td>32</td>\n",
       "      <td>No</td>\n",
       "      <td>Travel_Frequently</td>\n",
       "      <td>1005</td>\n",
       "      <td>Research &amp; Development</td>\n",
       "      <td>2</td>\n",
       "      <td>2</td>\n",
       "      <td>Life Sciences</td>\n",
       "      <td>1</td>\n",
       "      <td>8</td>\n",
       "      <td>...</td>\n",
       "      <td>3</td>\n",
       "      <td>80</td>\n",
       "      <td>0</td>\n",
       "      <td>8</td>\n",
       "      <td>2</td>\n",
       "      <td>2</td>\n",
       "      <td>7</td>\n",
       "      <td>7</td>\n",
       "      <td>3</td>\n",
       "      <td>6</td>\n",
       "    </tr>\n",
       "    <tr>\n",
       "      <th>6</th>\n",
       "      <td>59</td>\n",
       "      <td>No</td>\n",
       "      <td>Travel_Rarely</td>\n",
       "      <td>1324</td>\n",
       "      <td>Research &amp; Development</td>\n",
       "      <td>3</td>\n",
       "      <td>3</td>\n",
       "      <td>Medical</td>\n",
       "      <td>1</td>\n",
       "      <td>10</td>\n",
       "      <td>...</td>\n",
       "      <td>1</td>\n",
       "      <td>80</td>\n",
       "      <td>3</td>\n",
       "      <td>12</td>\n",
       "      <td>3</td>\n",
       "      <td>2</td>\n",
       "      <td>1</td>\n",
       "      <td>0</td>\n",
       "      <td>0</td>\n",
       "      <td>0</td>\n",
       "    </tr>\n",
       "    <tr>\n",
       "      <th>7</th>\n",
       "      <td>30</td>\n",
       "      <td>No</td>\n",
       "      <td>Travel_Rarely</td>\n",
       "      <td>1358</td>\n",
       "      <td>Research &amp; Development</td>\n",
       "      <td>24</td>\n",
       "      <td>1</td>\n",
       "      <td>Life Sciences</td>\n",
       "      <td>1</td>\n",
       "      <td>11</td>\n",
       "      <td>...</td>\n",
       "      <td>2</td>\n",
       "      <td>80</td>\n",
       "      <td>1</td>\n",
       "      <td>1</td>\n",
       "      <td>2</td>\n",
       "      <td>3</td>\n",
       "      <td>1</td>\n",
       "      <td>0</td>\n",
       "      <td>0</td>\n",
       "      <td>0</td>\n",
       "    </tr>\n",
       "    <tr>\n",
       "      <th>8</th>\n",
       "      <td>38</td>\n",
       "      <td>No</td>\n",
       "      <td>Travel_Frequently</td>\n",
       "      <td>216</td>\n",
       "      <td>Research &amp; Development</td>\n",
       "      <td>23</td>\n",
       "      <td>3</td>\n",
       "      <td>Life Sciences</td>\n",
       "      <td>1</td>\n",
       "      <td>12</td>\n",
       "      <td>...</td>\n",
       "      <td>2</td>\n",
       "      <td>80</td>\n",
       "      <td>0</td>\n",
       "      <td>10</td>\n",
       "      <td>2</td>\n",
       "      <td>3</td>\n",
       "      <td>9</td>\n",
       "      <td>7</td>\n",
       "      <td>1</td>\n",
       "      <td>8</td>\n",
       "    </tr>\n",
       "    <tr>\n",
       "      <th>9</th>\n",
       "      <td>36</td>\n",
       "      <td>No</td>\n",
       "      <td>Travel_Rarely</td>\n",
       "      <td>1299</td>\n",
       "      <td>Research &amp; Development</td>\n",
       "      <td>27</td>\n",
       "      <td>3</td>\n",
       "      <td>Medical</td>\n",
       "      <td>1</td>\n",
       "      <td>13</td>\n",
       "      <td>...</td>\n",
       "      <td>2</td>\n",
       "      <td>80</td>\n",
       "      <td>2</td>\n",
       "      <td>17</td>\n",
       "      <td>3</td>\n",
       "      <td>2</td>\n",
       "      <td>7</td>\n",
       "      <td>7</td>\n",
       "      <td>7</td>\n",
       "      <td>7</td>\n",
       "    </tr>\n",
       "  </tbody>\n",
       "</table>\n",
       "<p>10 rows × 35 columns</p>\n",
       "</div>"
      ],
      "text/plain": [
       "   Age Attrition     BusinessTravel  DailyRate              Department  \\\n",
       "0   41       Yes      Travel_Rarely       1102                   Sales   \n",
       "1   49        No  Travel_Frequently        279  Research & Development   \n",
       "2   37       Yes      Travel_Rarely       1373  Research & Development   \n",
       "3   33        No  Travel_Frequently       1392  Research & Development   \n",
       "4   27        No      Travel_Rarely        591  Research & Development   \n",
       "5   32        No  Travel_Frequently       1005  Research & Development   \n",
       "6   59        No      Travel_Rarely       1324  Research & Development   \n",
       "7   30        No      Travel_Rarely       1358  Research & Development   \n",
       "8   38        No  Travel_Frequently        216  Research & Development   \n",
       "9   36        No      Travel_Rarely       1299  Research & Development   \n",
       "\n",
       "   DistanceFromHome  Education EducationField  EmployeeCount  EmployeeNumber  \\\n",
       "0                 1          2  Life Sciences              1               1   \n",
       "1                 8          1  Life Sciences              1               2   \n",
       "2                 2          2          Other              1               4   \n",
       "3                 3          4  Life Sciences              1               5   \n",
       "4                 2          1        Medical              1               7   \n",
       "5                 2          2  Life Sciences              1               8   \n",
       "6                 3          3        Medical              1              10   \n",
       "7                24          1  Life Sciences              1              11   \n",
       "8                23          3  Life Sciences              1              12   \n",
       "9                27          3        Medical              1              13   \n",
       "\n",
       "   ...  RelationshipSatisfaction StandardHours  StockOptionLevel  \\\n",
       "0  ...                         1            80                 0   \n",
       "1  ...                         4            80                 1   \n",
       "2  ...                         2            80                 0   \n",
       "3  ...                         3            80                 0   \n",
       "4  ...                         4            80                 1   \n",
       "5  ...                         3            80                 0   \n",
       "6  ...                         1            80                 3   \n",
       "7  ...                         2            80                 1   \n",
       "8  ...                         2            80                 0   \n",
       "9  ...                         2            80                 2   \n",
       "\n",
       "   TotalWorkingYears  TrainingTimesLastYear WorkLifeBalance  YearsAtCompany  \\\n",
       "0                  8                      0               1               6   \n",
       "1                 10                      3               3              10   \n",
       "2                  7                      3               3               0   \n",
       "3                  8                      3               3               8   \n",
       "4                  6                      3               3               2   \n",
       "5                  8                      2               2               7   \n",
       "6                 12                      3               2               1   \n",
       "7                  1                      2               3               1   \n",
       "8                 10                      2               3               9   \n",
       "9                 17                      3               2               7   \n",
       "\n",
       "  YearsInCurrentRole  YearsSinceLastPromotion  YearsWithCurrManager  \n",
       "0                  4                        0                     5  \n",
       "1                  7                        1                     7  \n",
       "2                  0                        0                     0  \n",
       "3                  7                        3                     0  \n",
       "4                  2                        2                     2  \n",
       "5                  7                        3                     6  \n",
       "6                  0                        0                     0  \n",
       "7                  0                        0                     0  \n",
       "8                  7                        1                     8  \n",
       "9                  7                        7                     7  \n",
       "\n",
       "[10 rows x 35 columns]"
      ]
     },
     "execution_count": 4,
     "metadata": {},
     "output_type": "execute_result"
    }
   ],
   "source": [
    "df.head(10)"
   ]
  },
  {
   "cell_type": "code",
   "execution_count": 5,
   "metadata": {},
   "outputs": [
    {
     "data": {
      "text/html": [
       "<div>\n",
       "<style scoped>\n",
       "    .dataframe tbody tr th:only-of-type {\n",
       "        vertical-align: middle;\n",
       "    }\n",
       "\n",
       "    .dataframe tbody tr th {\n",
       "        vertical-align: top;\n",
       "    }\n",
       "\n",
       "    .dataframe thead th {\n",
       "        text-align: right;\n",
       "    }\n",
       "</style>\n",
       "<table border=\"1\" class=\"dataframe\">\n",
       "  <thead>\n",
       "    <tr style=\"text-align: right;\">\n",
       "      <th></th>\n",
       "      <th>Age</th>\n",
       "      <th>Attrition</th>\n",
       "      <th>BusinessTravel</th>\n",
       "      <th>DailyRate</th>\n",
       "      <th>Department</th>\n",
       "      <th>DistanceFromHome</th>\n",
       "      <th>Education</th>\n",
       "      <th>EducationField</th>\n",
       "      <th>EmployeeCount</th>\n",
       "      <th>EmployeeNumber</th>\n",
       "      <th>...</th>\n",
       "      <th>RelationshipSatisfaction</th>\n",
       "      <th>StandardHours</th>\n",
       "      <th>StockOptionLevel</th>\n",
       "      <th>TotalWorkingYears</th>\n",
       "      <th>TrainingTimesLastYear</th>\n",
       "      <th>WorkLifeBalance</th>\n",
       "      <th>YearsAtCompany</th>\n",
       "      <th>YearsInCurrentRole</th>\n",
       "      <th>YearsSinceLastPromotion</th>\n",
       "      <th>YearsWithCurrManager</th>\n",
       "    </tr>\n",
       "  </thead>\n",
       "  <tbody>\n",
       "    <tr>\n",
       "      <th>1460</th>\n",
       "      <td>29</td>\n",
       "      <td>No</td>\n",
       "      <td>Travel_Rarely</td>\n",
       "      <td>468</td>\n",
       "      <td>Research &amp; Development</td>\n",
       "      <td>28</td>\n",
       "      <td>4</td>\n",
       "      <td>Medical</td>\n",
       "      <td>1</td>\n",
       "      <td>2054</td>\n",
       "      <td>...</td>\n",
       "      <td>2</td>\n",
       "      <td>80</td>\n",
       "      <td>0</td>\n",
       "      <td>5</td>\n",
       "      <td>3</td>\n",
       "      <td>1</td>\n",
       "      <td>5</td>\n",
       "      <td>4</td>\n",
       "      <td>0</td>\n",
       "      <td>4</td>\n",
       "    </tr>\n",
       "    <tr>\n",
       "      <th>1461</th>\n",
       "      <td>50</td>\n",
       "      <td>Yes</td>\n",
       "      <td>Travel_Rarely</td>\n",
       "      <td>410</td>\n",
       "      <td>Sales</td>\n",
       "      <td>28</td>\n",
       "      <td>3</td>\n",
       "      <td>Marketing</td>\n",
       "      <td>1</td>\n",
       "      <td>2055</td>\n",
       "      <td>...</td>\n",
       "      <td>2</td>\n",
       "      <td>80</td>\n",
       "      <td>1</td>\n",
       "      <td>20</td>\n",
       "      <td>3</td>\n",
       "      <td>3</td>\n",
       "      <td>3</td>\n",
       "      <td>2</td>\n",
       "      <td>2</td>\n",
       "      <td>0</td>\n",
       "    </tr>\n",
       "    <tr>\n",
       "      <th>1462</th>\n",
       "      <td>39</td>\n",
       "      <td>No</td>\n",
       "      <td>Travel_Rarely</td>\n",
       "      <td>722</td>\n",
       "      <td>Sales</td>\n",
       "      <td>24</td>\n",
       "      <td>1</td>\n",
       "      <td>Marketing</td>\n",
       "      <td>1</td>\n",
       "      <td>2056</td>\n",
       "      <td>...</td>\n",
       "      <td>1</td>\n",
       "      <td>80</td>\n",
       "      <td>1</td>\n",
       "      <td>21</td>\n",
       "      <td>2</td>\n",
       "      <td>2</td>\n",
       "      <td>20</td>\n",
       "      <td>9</td>\n",
       "      <td>9</td>\n",
       "      <td>6</td>\n",
       "    </tr>\n",
       "    <tr>\n",
       "      <th>1463</th>\n",
       "      <td>31</td>\n",
       "      <td>No</td>\n",
       "      <td>Non-Travel</td>\n",
       "      <td>325</td>\n",
       "      <td>Research &amp; Development</td>\n",
       "      <td>5</td>\n",
       "      <td>3</td>\n",
       "      <td>Medical</td>\n",
       "      <td>1</td>\n",
       "      <td>2057</td>\n",
       "      <td>...</td>\n",
       "      <td>2</td>\n",
       "      <td>80</td>\n",
       "      <td>0</td>\n",
       "      <td>10</td>\n",
       "      <td>2</td>\n",
       "      <td>3</td>\n",
       "      <td>9</td>\n",
       "      <td>4</td>\n",
       "      <td>1</td>\n",
       "      <td>7</td>\n",
       "    </tr>\n",
       "    <tr>\n",
       "      <th>1464</th>\n",
       "      <td>26</td>\n",
       "      <td>No</td>\n",
       "      <td>Travel_Rarely</td>\n",
       "      <td>1167</td>\n",
       "      <td>Sales</td>\n",
       "      <td>5</td>\n",
       "      <td>3</td>\n",
       "      <td>Other</td>\n",
       "      <td>1</td>\n",
       "      <td>2060</td>\n",
       "      <td>...</td>\n",
       "      <td>4</td>\n",
       "      <td>80</td>\n",
       "      <td>0</td>\n",
       "      <td>5</td>\n",
       "      <td>2</td>\n",
       "      <td>3</td>\n",
       "      <td>4</td>\n",
       "      <td>2</td>\n",
       "      <td>0</td>\n",
       "      <td>0</td>\n",
       "    </tr>\n",
       "    <tr>\n",
       "      <th>1465</th>\n",
       "      <td>36</td>\n",
       "      <td>No</td>\n",
       "      <td>Travel_Frequently</td>\n",
       "      <td>884</td>\n",
       "      <td>Research &amp; Development</td>\n",
       "      <td>23</td>\n",
       "      <td>2</td>\n",
       "      <td>Medical</td>\n",
       "      <td>1</td>\n",
       "      <td>2061</td>\n",
       "      <td>...</td>\n",
       "      <td>3</td>\n",
       "      <td>80</td>\n",
       "      <td>1</td>\n",
       "      <td>17</td>\n",
       "      <td>3</td>\n",
       "      <td>3</td>\n",
       "      <td>5</td>\n",
       "      <td>2</td>\n",
       "      <td>0</td>\n",
       "      <td>3</td>\n",
       "    </tr>\n",
       "    <tr>\n",
       "      <th>1466</th>\n",
       "      <td>39</td>\n",
       "      <td>No</td>\n",
       "      <td>Travel_Rarely</td>\n",
       "      <td>613</td>\n",
       "      <td>Research &amp; Development</td>\n",
       "      <td>6</td>\n",
       "      <td>1</td>\n",
       "      <td>Medical</td>\n",
       "      <td>1</td>\n",
       "      <td>2062</td>\n",
       "      <td>...</td>\n",
       "      <td>1</td>\n",
       "      <td>80</td>\n",
       "      <td>1</td>\n",
       "      <td>9</td>\n",
       "      <td>5</td>\n",
       "      <td>3</td>\n",
       "      <td>7</td>\n",
       "      <td>7</td>\n",
       "      <td>1</td>\n",
       "      <td>7</td>\n",
       "    </tr>\n",
       "    <tr>\n",
       "      <th>1467</th>\n",
       "      <td>27</td>\n",
       "      <td>No</td>\n",
       "      <td>Travel_Rarely</td>\n",
       "      <td>155</td>\n",
       "      <td>Research &amp; Development</td>\n",
       "      <td>4</td>\n",
       "      <td>3</td>\n",
       "      <td>Life Sciences</td>\n",
       "      <td>1</td>\n",
       "      <td>2064</td>\n",
       "      <td>...</td>\n",
       "      <td>2</td>\n",
       "      <td>80</td>\n",
       "      <td>1</td>\n",
       "      <td>6</td>\n",
       "      <td>0</td>\n",
       "      <td>3</td>\n",
       "      <td>6</td>\n",
       "      <td>2</td>\n",
       "      <td>0</td>\n",
       "      <td>3</td>\n",
       "    </tr>\n",
       "    <tr>\n",
       "      <th>1468</th>\n",
       "      <td>49</td>\n",
       "      <td>No</td>\n",
       "      <td>Travel_Frequently</td>\n",
       "      <td>1023</td>\n",
       "      <td>Sales</td>\n",
       "      <td>2</td>\n",
       "      <td>3</td>\n",
       "      <td>Medical</td>\n",
       "      <td>1</td>\n",
       "      <td>2065</td>\n",
       "      <td>...</td>\n",
       "      <td>4</td>\n",
       "      <td>80</td>\n",
       "      <td>0</td>\n",
       "      <td>17</td>\n",
       "      <td>3</td>\n",
       "      <td>2</td>\n",
       "      <td>9</td>\n",
       "      <td>6</td>\n",
       "      <td>0</td>\n",
       "      <td>8</td>\n",
       "    </tr>\n",
       "    <tr>\n",
       "      <th>1469</th>\n",
       "      <td>34</td>\n",
       "      <td>No</td>\n",
       "      <td>Travel_Rarely</td>\n",
       "      <td>628</td>\n",
       "      <td>Research &amp; Development</td>\n",
       "      <td>8</td>\n",
       "      <td>3</td>\n",
       "      <td>Medical</td>\n",
       "      <td>1</td>\n",
       "      <td>2068</td>\n",
       "      <td>...</td>\n",
       "      <td>1</td>\n",
       "      <td>80</td>\n",
       "      <td>0</td>\n",
       "      <td>6</td>\n",
       "      <td>3</td>\n",
       "      <td>4</td>\n",
       "      <td>4</td>\n",
       "      <td>3</td>\n",
       "      <td>1</td>\n",
       "      <td>2</td>\n",
       "    </tr>\n",
       "  </tbody>\n",
       "</table>\n",
       "<p>10 rows × 35 columns</p>\n",
       "</div>"
      ],
      "text/plain": [
       "      Age Attrition     BusinessTravel  DailyRate              Department  \\\n",
       "1460   29        No      Travel_Rarely        468  Research & Development   \n",
       "1461   50       Yes      Travel_Rarely        410                   Sales   \n",
       "1462   39        No      Travel_Rarely        722                   Sales   \n",
       "1463   31        No         Non-Travel        325  Research & Development   \n",
       "1464   26        No      Travel_Rarely       1167                   Sales   \n",
       "1465   36        No  Travel_Frequently        884  Research & Development   \n",
       "1466   39        No      Travel_Rarely        613  Research & Development   \n",
       "1467   27        No      Travel_Rarely        155  Research & Development   \n",
       "1468   49        No  Travel_Frequently       1023                   Sales   \n",
       "1469   34        No      Travel_Rarely        628  Research & Development   \n",
       "\n",
       "      DistanceFromHome  Education EducationField  EmployeeCount  \\\n",
       "1460                28          4        Medical              1   \n",
       "1461                28          3      Marketing              1   \n",
       "1462                24          1      Marketing              1   \n",
       "1463                 5          3        Medical              1   \n",
       "1464                 5          3          Other              1   \n",
       "1465                23          2        Medical              1   \n",
       "1466                 6          1        Medical              1   \n",
       "1467                 4          3  Life Sciences              1   \n",
       "1468                 2          3        Medical              1   \n",
       "1469                 8          3        Medical              1   \n",
       "\n",
       "      EmployeeNumber  ...  RelationshipSatisfaction StandardHours  \\\n",
       "1460            2054  ...                         2            80   \n",
       "1461            2055  ...                         2            80   \n",
       "1462            2056  ...                         1            80   \n",
       "1463            2057  ...                         2            80   \n",
       "1464            2060  ...                         4            80   \n",
       "1465            2061  ...                         3            80   \n",
       "1466            2062  ...                         1            80   \n",
       "1467            2064  ...                         2            80   \n",
       "1468            2065  ...                         4            80   \n",
       "1469            2068  ...                         1            80   \n",
       "\n",
       "      StockOptionLevel  TotalWorkingYears  TrainingTimesLastYear  \\\n",
       "1460                 0                  5                      3   \n",
       "1461                 1                 20                      3   \n",
       "1462                 1                 21                      2   \n",
       "1463                 0                 10                      2   \n",
       "1464                 0                  5                      2   \n",
       "1465                 1                 17                      3   \n",
       "1466                 1                  9                      5   \n",
       "1467                 1                  6                      0   \n",
       "1468                 0                 17                      3   \n",
       "1469                 0                  6                      3   \n",
       "\n",
       "     WorkLifeBalance  YearsAtCompany YearsInCurrentRole  \\\n",
       "1460               1               5                  4   \n",
       "1461               3               3                  2   \n",
       "1462               2              20                  9   \n",
       "1463               3               9                  4   \n",
       "1464               3               4                  2   \n",
       "1465               3               5                  2   \n",
       "1466               3               7                  7   \n",
       "1467               3               6                  2   \n",
       "1468               2               9                  6   \n",
       "1469               4               4                  3   \n",
       "\n",
       "      YearsSinceLastPromotion  YearsWithCurrManager  \n",
       "1460                        0                     4  \n",
       "1461                        2                     0  \n",
       "1462                        9                     6  \n",
       "1463                        1                     7  \n",
       "1464                        0                     0  \n",
       "1465                        0                     3  \n",
       "1466                        1                     7  \n",
       "1467                        0                     3  \n",
       "1468                        0                     8  \n",
       "1469                        1                     2  \n",
       "\n",
       "[10 rows x 35 columns]"
      ]
     },
     "execution_count": 5,
     "metadata": {},
     "output_type": "execute_result"
    }
   ],
   "source": [
    "df.tail(10)"
   ]
  },
  {
   "cell_type": "code",
   "execution_count": 6,
   "metadata": {},
   "outputs": [
    {
     "data": {
      "text/plain": [
       "Index(['Age', 'Attrition', 'BusinessTravel', 'DailyRate', 'Department',\n",
       "       'DistanceFromHome', 'Education', 'EducationField', 'EmployeeCount',\n",
       "       'EmployeeNumber', 'EnvironmentSatisfaction', 'Gender', 'HourlyRate',\n",
       "       'JobInvolvement', 'JobLevel', 'JobRole', 'JobSatisfaction',\n",
       "       'MaritalStatus', 'MonthlyIncome', 'MonthlyRate', 'NumCompaniesWorked',\n",
       "       'Over18', 'OverTime', 'PercentSalaryHike', 'PerformanceRating',\n",
       "       'RelationshipSatisfaction', 'StandardHours', 'StockOptionLevel',\n",
       "       'TotalWorkingYears', 'TrainingTimesLastYear', 'WorkLifeBalance',\n",
       "       'YearsAtCompany', 'YearsInCurrentRole', 'YearsSinceLastPromotion',\n",
       "       'YearsWithCurrManager'],\n",
       "      dtype='object')"
      ]
     },
     "execution_count": 6,
     "metadata": {},
     "output_type": "execute_result"
    }
   ],
   "source": [
    "df.columns"
   ]
  },
  {
   "cell_type": "markdown",
   "metadata": {},
   "source": [
    "# 2. Missing data\n",
    "\n",
    "I ran isnull(), read data desciption, manually look for any kind of missing data. There is no NaN nor any type of missing data in this set.  \n",
    "\n",
    "*** This dataset is way so clean.***"
   ]
  },
  {
   "cell_type": "code",
   "execution_count": 7,
   "metadata": {},
   "outputs": [
    {
     "name": "stdout",
     "output_type": "stream",
     "text": [
      "Nan data points:  0\n"
     ]
    }
   ],
   "source": [
    "print('Nan data points: ', df.isnull().sum().sum())"
   ]
  },
  {
   "cell_type": "markdown",
   "metadata": {},
   "source": [
    "# 3. Descriptive statistic"
   ]
  },
  {
   "cell_type": "markdown",
   "metadata": {},
   "source": [
    "Both Attrition and JobSafisfaction are categorical, so there is just small room for descriptive statistic here, which is: ***count*** and ***percentage***."
   ]
  },
  {
   "cell_type": "code",
   "execution_count": 8,
   "metadata": {},
   "outputs": [
    {
     "data": {
      "text/plain": [
       "count     1470\n",
       "unique       2\n",
       "top         No\n",
       "freq      1233\n",
       "Name: Attrition, dtype: object"
      ]
     },
     "execution_count": 8,
     "metadata": {},
     "output_type": "execute_result"
    }
   ],
   "source": [
    "df.Attrition.describe()"
   ]
  },
  {
   "cell_type": "code",
   "execution_count": 9,
   "metadata": {},
   "outputs": [
    {
     "data": {
      "text/plain": [
       "No     1233\n",
       "Yes     237\n",
       "Name: Attrition, dtype: int64"
      ]
     },
     "execution_count": 9,
     "metadata": {},
     "output_type": "execute_result"
    }
   ],
   "source": [
    "df.Attrition.value_counts()"
   ]
  },
  {
   "cell_type": "code",
   "execution_count": 10,
   "metadata": {},
   "outputs": [
    {
     "data": {
      "text/plain": [
       "count    1470.000000\n",
       "mean        2.728571\n",
       "std         1.102846\n",
       "min         1.000000\n",
       "1%          1.000000\n",
       "45%         3.000000\n",
       "50%         3.000000\n",
       "90%         4.000000\n",
       "max         4.000000\n",
       "Name: JobSatisfaction, dtype: float64"
      ]
     },
     "execution_count": 10,
     "metadata": {},
     "output_type": "execute_result"
    }
   ],
   "source": [
    "df.JobSatisfaction.describe(percentiles=[0.01, 0.45, 0.90])"
   ]
  },
  {
   "cell_type": "markdown",
   "metadata": {},
   "source": [
    "# 4. EDA"
   ]
  },
  {
   "cell_type": "code",
   "execution_count": 11,
   "metadata": {},
   "outputs": [
    {
     "data": {
      "text/html": [
       "<iframe\n",
       "    scrolling=\"no\"\n",
       "    width=\"100%\"\n",
       "    height=\"545px\"\n",
       "    src=\"iframe_figures/figure_11.html\"\n",
       "    frameborder=\"0\"\n",
       "    allowfullscreen\n",
       "></iframe>\n"
      ]
     },
     "metadata": {},
     "output_type": "display_data"
    }
   ],
   "source": [
    "# The big picture\n",
    "fig = make_subplots(rows=1, cols=2,\n",
    "                   specs=[[{\"type\": \"bar\"}, {\"type\": \"domain\"}]])\n",
    "\n",
    "# Sketch smaller details\n",
    "trace0 = go.Histogram(x=df['Attrition'], name='In number', marker={'color':['red', 'blue']},\n",
    "                     showlegend=False)\n",
    "trace1 = go.Pie(values=df['Attrition'].value_counts(), name='Percentage', labels=['No', 'Yes'],\n",
    "               textinfo='label+percent')\n",
    "\n",
    "# Add traces\n",
    "fig.append_trace(trace0, 1, 1)\n",
    "fig.append_trace(trace1, 1, 2)\n",
    "\n",
    "# Customize\n",
    "fig.update(layout_title_text='<b> Attrition </b>')\n",
    "fig.update_layout(showlegend=False)\n",
    "\n",
    "# Done\n",
    "fig.show()"
   ]
  },
  {
   "cell_type": "code",
   "execution_count": 12,
   "metadata": {},
   "outputs": [
    {
     "data": {
      "text/html": [
       "<iframe\n",
       "    scrolling=\"no\"\n",
       "    width=\"100%\"\n",
       "    height=\"545px\"\n",
       "    src=\"iframe_figures/figure_12.html\"\n",
       "    frameborder=\"0\"\n",
       "    allowfullscreen\n",
       "></iframe>\n"
      ]
     },
     "metadata": {},
     "output_type": "display_data"
    }
   ],
   "source": [
    "# The big picture\n",
    "fig = make_subplots(rows=3, cols=2,\n",
    "                   specs=[[{'rowspan':3}, {\"type\": \"domain\"}],\n",
    "                          [None,          {\"type\": \"domain\"}],\n",
    "                          [None,          {\"type\": \"domain\"}]])\n",
    "\n",
    "# Sketch smaller details\n",
    "\n",
    "## The bar chart - with Yes = negative columns.\n",
    "labels = ['R&D', 'Sales', 'HR']\n",
    "\n",
    "yes = df['Department'][df.Attrition=='Yes'].value_counts()\n",
    "trace_yes = go.Bar(x=labels, y=-yes, marker={'color':'red'}, showlegend=False) \n",
    "\n",
    "no  = df['Department'][df.Attrition=='No'].value_counts()\n",
    "trace_no  = go.Bar(x=labels, y=no, marker={'color':'blue'}, showlegend=False )\n",
    "\n",
    "## Pie 1 -- upper right\n",
    "RD = df['Attrition'][df.Department=='Research & Development'].value_counts()\n",
    "trace_3   = go.Pie(labels=['No', 'Yes'], values=RD, name='RD')\n",
    "\n",
    "## Pie 2\n",
    "Sales = df['Attrition'][df.Department=='Sales'].value_counts()\n",
    "trace_4   = go.Pie(labels=['No', 'Yes'], values=Sales, name='Sales')\n",
    "\n",
    "## Pie 3\n",
    "HR = df['Attrition'][df.Department=='Human Resources'].value_counts()\n",
    "trace_5   = go.Pie(labels=['No', 'Yes'], values=HR, name='HR')\n",
    "\n",
    "# Add traces\n",
    "fig.append_trace(trace_yes, 1, 1)\n",
    "fig.append_trace(trace_no, 1, 1)\n",
    "\n",
    "fig.append_trace(trace_3, 1, 2)\n",
    "fig.append_trace(trace_4, 2, 2)\n",
    "fig.append_trace(trace_5, 3, 2)\n",
    "\n",
    "# Customize\n",
    "fig.update(layout_title_text='<b> Attrition by Department </b>')\n",
    "\n",
    "# Done\n",
    "fig.show()"
   ]
  },
  {
   "cell_type": "code",
   "execution_count": 13,
   "metadata": {},
   "outputs": [
    {
     "data": {
      "text/html": [
       "<iframe\n",
       "    scrolling=\"no\"\n",
       "    width=\"100%\"\n",
       "    height=\"545px\"\n",
       "    src=\"iframe_figures/figure_13.html\"\n",
       "    frameborder=\"0\"\n",
       "    allowfullscreen\n",
       "></iframe>\n"
      ]
     },
     "metadata": {},
     "output_type": "display_data"
    }
   ],
   "source": [
    "fig = px.box(df, y='MonthlyIncome', x='Gender', color='Gender', \n",
    "             points='all', \n",
    "             color_discrete_map={'Female':'red', 'Male':'Green'})\n",
    "\n",
    "fig.update(layout_title_text='<b> Monthly Income by Gender </b>')\n",
    "fig.update_layout(showlegend=False)\n",
    "\n",
    "fig.show()"
   ]
  },
  {
   "cell_type": "code",
   "execution_count": 14,
   "metadata": {},
   "outputs": [
    {
     "data": {
      "text/html": [
       "<iframe\n",
       "    scrolling=\"no\"\n",
       "    width=\"100%\"\n",
       "    height=\"545px\"\n",
       "    src=\"iframe_figures/figure_14.html\"\n",
       "    frameborder=\"0\"\n",
       "    allowfullscreen\n",
       "></iframe>\n"
      ]
     },
     "metadata": {},
     "output_type": "display_data"
    }
   ],
   "source": [
    "# The big picture\n",
    "fig = make_subplots(rows=6, cols=2,\n",
    "                   specs=[[{'rowspan':6}, {\"type\": \"domain\"}], # 1  --  1\n",
    "                          [None,          {\"type\": \"domain\"}], # 0  --  2\n",
    "                          [None,          {\"type\": \"domain\"}], # 0  --  3\n",
    "                          [None,          {\"type\": \"domain\"}], # 0  --  4\n",
    "                          [None,          {\"type\": \"domain\"}], # 0  --  5\n",
    "                          [None,          {\"type\": \"domain\"}]])# 0  --  6\n",
    "\n",
    "# Sketching\n",
    "## Bar chart\n",
    "labels=['Life Sciences', 'Medical','Marketing', 'Technical Degree', 'Other', 'Human Resources']\n",
    "\n",
    "yes = df['EducationField'][df.Attrition=='Yes'].value_counts(ascending=False)\n",
    "no = df['EducationField'][df.Attrition=='No'].value_counts(ascending=False)\n",
    "\n",
    "fig.add_bar(y=-yes, x=labels, col=1, row=1, marker={'color':'red'},  showlegend=False)\n",
    "fig.add_bar(y=no,   x=labels, col=1, row=1, marker={'color':'blue'}, showlegend=False)\n",
    "\n",
    "## Pie chart\n",
    "LS     = df['Attrition'][df.EducationField=='Life Sciences'].value_counts()\n",
    "Med    = df['Attrition'][df.EducationField=='Medical'].value_counts()\n",
    "Mar    = df['Attrition'][df.EducationField=='Marketing'].value_counts()\n",
    "Tech   = df['Attrition'][df.EducationField=='Technical Degree'].value_counts()\n",
    "Other  = df['Attrition'][df.EducationField=='Other'].value_counts()\n",
    "HR     = df['Attrition'][df.EducationField=='Human Resources'].value_counts()\n",
    "\n",
    "fig.add_pie(labels=['No', 'Yes'], values=LS,    name='LS',    col=2, row=1)\n",
    "fig.add_pie(labels=['No', 'Yes'], values=Med,   name='Med',   col=2, row=2)\n",
    "fig.add_pie(labels=['No', 'Yes'], values=Mar,   name='Mar',   col=2, row=3)\n",
    "fig.add_pie(labels=['No', 'Yes'], values=Tech,  name='Tech',  col=2, row=4)\n",
    "fig.add_pie(labels=['No', 'Yes'], values=Other, name='Other', col=2, row=5)\n",
    "fig.add_pie(labels=['No', 'Yes'], values=HR,    name='HR',    col=2, row=6)\n",
    "\n",
    "# Customize\n",
    "fig.update(layout_title_text='<b> Attrition by Education Field </b>')\n",
    "# Done\n",
    "fig.show()"
   ]
  },
  {
   "cell_type": "code",
   "execution_count": 15,
   "metadata": {},
   "outputs": [
    {
     "data": {
      "text/html": [
       "<iframe\n",
       "    scrolling=\"no\"\n",
       "    width=\"100%\"\n",
       "    height=\"545px\"\n",
       "    src=\"iframe_figures/figure_15.html\"\n",
       "    frameborder=\"0\"\n",
       "    allowfullscreen\n",
       "></iframe>\n"
      ]
     },
     "metadata": {},
     "output_type": "display_data"
    }
   ],
   "source": [
    "fig = make_subplots(rows=2, cols=2)\n",
    "\n",
    "trace0 = go.Histogram(x=df['Department'], y=df['JobSatisfaction'], histfunc='avg')\n",
    "trace1 = go.Histogram(x=df['EducationField'], y=df['JobSatisfaction'], histfunc='avg')\n",
    "trace2 = go.Histogram(x=df['OverTime'], y=df['JobSatisfaction'], histfunc='avg')\n",
    "trace3 = go.Histogram(x=df['MaritalStatus'], y=df['JobSatisfaction'], histfunc='avg')\n",
    "\n",
    "fig.add_trace(trace0, 1, 1)\n",
    "fig.add_trace(trace1, 1, 2)\n",
    "fig.add_trace(trace2, 2, 1)\n",
    "fig.add_trace(trace3, 2, 2)\n",
    "#fig = px.histogram(df, x='Department', y='JobSatisfaction',  histfunc='avg')\n",
    "\n",
    "\n",
    "fig.show()"
   ]
  },
  {
   "cell_type": "code",
   "execution_count": 16,
   "metadata": {},
   "outputs": [
    {
     "data": {
      "text/plain": [
       "<seaborn.axisgrid.FacetGrid at 0x7f061823ae90>"
      ]
     },
     "execution_count": 16,
     "metadata": {},
     "output_type": "execute_result"
    },
    {
     "data": {
      "image/png": "[encoded data removed]",
      "text/plain": [
       "<Figure size 864x432 with 8 Axes>"
      ]
     },
     "metadata": {
      "needs_background": "light"
     },
     "output_type": "display_data"
    }
   ],
   "source": [
    "g = sns.FacetGrid(data=df, row = 'Attrition', col = 'JobSatisfaction')\n",
    "g.map(plt.hist, 'MonthlyIncome', bins=10)"
   ]
  },
  {
   "cell_type": "code",
   "execution_count": 17,
   "metadata": {},
   "outputs": [
    {
     "data": {
      "text/plain": [
       "(array([0, 1, 2, 3, 4, 5]), <a list of 6 Text major ticklabel objects>)"
      ]
     },
     "execution_count": 17,
     "metadata": {},
     "output_type": "execute_result"
    },
    {
     "data": {
      "image/png": "[encoded data removed]",
      "text/plain": [
       "<Figure size 360x360 with 1 Axes>"
      ]
     },
     "metadata": {
      "needs_background": "light"
     },
     "output_type": "display_data"
    }
   ],
   "source": [
    "sns.catplot(x='EducationField', y='MonthlyIncome',  data=df,\n",
    "           kind='violin')\n",
    "plt.xticks(rotation=45)"
   ]
  },
  {
   "cell_type": "code",
   "execution_count": 18,
   "metadata": {},
   "outputs": [
    {
     "data": {
      "text/plain": [
       "<matplotlib.axes._subplots.AxesSubplot at 0x7f0616fa1c50>"
      ]
     },
     "execution_count": 18,
     "metadata": {},
     "output_type": "execute_result"
    },
    {
     "data": {
      "image/png": "[encoded data removed]",
      "text/plain": [
       "<Figure size 432x288 with 1 Axes>"
      ]
     },
     "metadata": {
      "needs_background": "light"
     },
     "output_type": "display_data"
    }
   ],
   "source": [
    "sns.countplot(x='DistanceFromHome', data=df)"
   ]
  },
  {
   "cell_type": "code",
   "execution_count": 19,
   "metadata": {},
   "outputs": [
    {
     "data": {
      "text/plain": [
       "<seaborn.axisgrid.FacetGrid at 0x7f0616e78e10>"
      ]
     },
     "execution_count": 19,
     "metadata": {},
     "output_type": "execute_result"
    },
    {
     "data": {
      "image/png": "[encoded data removed]",
      "text/plain": [
       "<Figure size 360x360 with 1 Axes>"
      ]
     },
     "metadata": {
      "needs_background": "light"
     },
     "output_type": "display_data"
    }
   ],
   "source": [
    "# DistanceFromHome -- Attrition\n",
    "sns.catplot(x='Attrition', y='DistanceFromHome', data=df,\n",
    "           kind='box')"
   ]
  },
  {
   "cell_type": "code",
   "execution_count": 20,
   "metadata": {},
   "outputs": [
    {
     "data": {
      "text/html": [
       "<iframe\n",
       "    scrolling=\"no\"\n",
       "    width=\"100%\"\n",
       "    height=\"545px\"\n",
       "    src=\"iframe_figures/figure_20.html\"\n",
       "    frameborder=\"0\"\n",
       "    allowfullscreen\n",
       "></iframe>\n"
      ]
     },
     "metadata": {},
     "output_type": "display_data"
    }
   ],
   "source": [
    "fig = px.histogram(df, x='JobSatisfaction', color='JobSatisfaction')\n",
    "\n",
    "fig.update_layout(title='<b> JobSatisfaction </b>',\n",
    "                  xaxis={'tickmode': 'array',\n",
    "                         'tickvals': [1, 2, 3, 4]})\n",
    "\n",
    "fig.show()"
   ]
  },
  {
   "cell_type": "markdown",
   "metadata": {},
   "source": [
    "# 5. Statistic Tesing\n"
   ]
  },
  {
   "cell_type": "markdown",
   "metadata": {},
   "source": [
    "## My thoughts\n",
    "\n",
    "### The questions:\n",
    " * Which key factors influence attrition rates?\n",
    " * Which key factors influence satisfaction rates?\n",
    "\n",
    "### I am thinking\n",
    "\n",
    "1. ***I have not known any how-influence measure.*** I have several basic tools of hypothesis testing: t-test, ANOVA and MANOVA, but none of them directly returns whether this influences that, just giving statistic testing of mean, variance, and so on.  \n",
    "\n",
    " So, I paraphrase questions which key factors influence become: In the population of feature A (ex: MonthlyIncome), *** whether Yes-Attrition mean is statiscal different from No-Attrition mean?  ***\n",
    "If the differences are significant, we conclusion this features **influences** the attrition rate.\n",
    "\n",
    "\n",
    "2. ***T-test downside is only working with every pair of variable***. One variable must be our target, Attrition or Satisfaction, the underconsidering features would be the other one. Therefore, it is impossible to directly apply t-test across all of features.  \n",
    "\n",
    " So, I make a work around. ***For *feature* in *all features*, does this feature influence Attrition or Satisfication***. Then each pair will outputs a conclusion.\n",
    "\n",
    "\n",
    "3. ***ANOVA and MANOVA have drawbacks, too.*** While put a set of features under the test, they can not tell specifically which one differs from which one. They give an alert that something wrong happen, that's all.  \n",
    "\n",
    " \n",
    "4. ***The correlation, as this measure is tailored for examining the relationship between numerical variables,*** so I would save it for *** Job Satisfication*** and its relationships.\n",
    "\n",
    "The mention of correlation measure and numerical variables reminds to a crucial issue: datatypes. ***Which tests are suitable to apply with different datatypes?*** I will propose a solution right later.\n",
    "\n",
    "\n",
    "\n",
    "\n",
    "    "
   ]
  },
  {
   "cell_type": "markdown",
   "metadata": {},
   "source": [
    "## Determining statistic methods according to datatypes\n",
    "\n",
    "To select the suitable methods, we need to answer two major questions:\n",
    "* What is **datatype** of the **target**?  \n",
    "* What is **datatype** of the **feature**?  \n",
    "\n",
    "The below diagram will give us the answers.\n",
    "\n",
    "![Workflow.jpg](https://www.upsieutoc.com/images/2020/04/13/Workflow.jpg)\n",
    " "
   ]
  },
  {
   "cell_type": "markdown",
   "metadata": {},
   "source": [
    "## Which features should be analyzed?  \n",
    "\n",
    "Having know how to choose statistic methods due to the filter, now I have to pick out a number of features put in it.  \n",
    "\n",
    "***Running tests throughout all features is not necessary.*** If this notebook were a business project, it would be a must absolutely. However, the assignment is not a business but aiming to help to  get familiar with hypothesis testing, so I do not.\n",
    "\n",
    "\n",
    "Besides, I want to know if my answers are corrent, so the analyzing features should consist:\n",
    " * ***True positive*** - features really affect Attrition and Satisfaction.\n",
    " * ***True negative*** - features do not. \n",
    " * ***the Unknown*** - clueless, for my exploration.\n",
    "\n",
    "Also, ***None of T-test nor ANOVA*** can handle pairs of ***a categorical target and a non-binary categorical features***, so I intently will not choose this kind of pair.\n"
   ]
  },
  {
   "cell_type": "markdown",
   "metadata": {},
   "source": [
    "## Which features should be analyzed?  \n",
    "\n",
    "### For the Attrition\n",
    "*** True Positives *** are choosen according to [Attrition in an Organization || Why Workers Quit?](https://www.kaggle.com/janiobachmann/attrition-in-an-organization-why-workers-quit), there are:\n",
    "* Over Time\n",
    "* Monthly Income\n",
    "* Age. \n",
    "\n",
    "*** True Negatives *** should be:\n",
    "* Distance From Home\n",
    "* Total Working Years \n",
    "* Martial Status.\n",
    "\n",
    "*** The Unknown *** are:\n",
    "* Job Level, Num Companies Worked, Years Since Last Promotion,  \n",
    "* Years With Curr Manager, Training Times Last Year, Monthly Rate  \n",
    "* Education, Percent Salary Hike.\n",
    "\n",
    "### For Job Satisfication\n",
    "The features are ***exactly the same*** without any clue of which True Positive, True Negative, or the Unknown is."
   ]
  },
  {
   "cell_type": "code",
   "execution_count": 21,
   "metadata": {},
   "outputs": [
    {
     "name": "stdout",
     "output_type": "stream",
     "text": [
      "['Age', 'DistanceFromHome', 'Education', 'JobLevel', 'MaritalStatus', 'MonthlyIncome', 'MonthlyRate', 'NumCompaniesWorked', 'OverTime', 'PercentSalaryHike', 'TotalWorkingYears', 'TrainingTimesLastYear', 'YearsSinceLastPromotion', 'YearsWithCurrManager']\n"
     ]
    }
   ],
   "source": [
    "features_to_analysis =      ['OverTime',         'MonthlyIncome',         'Age',\n",
    "                             'DistanceFromHome', 'TotalWorkingYears',     'MaritalStatus',\n",
    "                             'JobLevel',         'NumCompaniesWorked',    'YearsSinceLastPromotion',\n",
    "                             'MonthlyRate',      'TrainingTimesLastYear', 'YearsWithCurrManager',\n",
    "                             'Education',        'PercentSalaryHike']\n",
    "features_to_analysis.sort()\n",
    "print(features_to_analysis)"
   ]
  },
  {
   "cell_type": "markdown",
   "metadata": {},
   "source": [
    "### 1. Datatypes of Features"
   ]
  },
  {
   "cell_type": "code",
   "execution_count": 22,
   "metadata": {
    "scrolled": true
   },
   "outputs": [
    {
     "name": "stdout",
     "output_type": "stream",
     "text": [
      "                   Features Datatype\n",
      "0                       Age    int64\n",
      "1          DistanceFromHome    int64\n",
      "2                 Education    int64\n",
      "3                  JobLevel    int64\n",
      "4             MaritalStatus   object\n",
      "5             MonthlyIncome    int64\n",
      "6               MonthlyRate    int64\n",
      "7        NumCompaniesWorked    int64\n",
      "8                  OverTime   object\n",
      "9         PercentSalaryHike    int64\n",
      "10        TotalWorkingYears    int64\n",
      "11    TrainingTimesLastYear    int64\n",
      "12  YearsSinceLastPromotion    int64\n",
      "13     YearsWithCurrManager    int64\n"
     ]
    }
   ],
   "source": [
    "# Create table of feature datatypes.\n",
    "table_datatypes = pd.DataFrame(columns=['Features', 'Datatype'])\n",
    "\n",
    "# 1st column: Features\n",
    "table_datatypes['Features'] = features_to_analysis\n",
    "\n",
    "# 2nd column: Datatypes\n",
    "table_datatypes['Datatype'] = [df[feature].dtypes for feature in features_to_analysis]\n",
    "\n",
    "print(table_datatypes)"
   ]
  },
  {
   "cell_type": "markdown",
   "metadata": {},
   "source": [
    "The above table classifies:\n",
    " * *** Binary categories:*** OverTime -> needed to encode to 0 - 1 format.\n",
    " * *** Trinary categories: *** MaritalStatus -> ANOVA could be appropriate.\n",
    " * *** Nominal:*** Education and JobLevel -> should be considered numerical.\n",
    " * *** Numerical:*** All the rest. \n",
    " "
   ]
  },
  {
   "cell_type": "markdown",
   "metadata": {},
   "source": [
    "### 2. Preprocessing features"
   ]
  },
  {
   "cell_type": "code",
   "execution_count": 23,
   "metadata": {
    "scrolled": true
   },
   "outputs": [],
   "source": [
    "# Binary encoding: MaritalStatus and OverTime:\n",
    "lb = LabelEncoder()\n",
    "\n",
    "df['MaritalStatus_encoded'] = lb.fit_transform(df['MaritalStatus']).astype(int)\n",
    "df['OverTime_encoded'] = lb.fit_transform(df['OverTime']).astype(int)\n",
    "\n",
    "# Origins replaced by encoded\n",
    "features_to_analysis = ['MaritalStatus_encoded' if x=='MaritalStatus' else x for x in features_to_analysis]\n",
    "features_to_analysis = ['OverTime_encoded' if x=='OverTime' else x for x in features_to_analysis]"
   ]
  },
  {
   "cell_type": "markdown",
   "metadata": {},
   "source": [
    "### 3. The Filter suggests methods based on Datatypes\n",
    "\n",
    "Let's drop targets and features down the filter, we will find the way.\n",
    "\n",
    "#### Attrition: a binary category, so:\n",
    " * All the Features to analysis: using Hypothesis testing, includes MaritalStatus and Overtime which already encoded.\n",
    " \n",
    "#### Job Satisfication is orinal, but let deem it numerical for now.\n",
    " * MaritalStatus and OverTime: are partly categorical -> using Hypothesis testing.\n",
    " * All the rest: Correlation."
   ]
  },
  {
   "cell_type": "markdown",
   "metadata": {},
   "source": [
    "### 4. Which key factors to Attrition?"
   ]
  },
  {
   "cell_type": "markdown",
   "metadata": {},
   "source": [
    "### Hypothesis Testing"
   ]
  },
  {
   "cell_type": "markdown",
   "metadata": {},
   "source": [
    "1. ***Populations***  \n",
    "\n",
    " * Population Yes: All employees who 'Yes' to Attrition.\n",
    " * Population No : All employee who 'No' to Attrition."
   ]
  },
  {
   "cell_type": "markdown",
   "metadata": {},
   "source": [
    "2. ***Statements***  \n",
    "\n",
    "For each feature in the list of undertest features.  \n",
    " * H0: Mean of Population Yes == Mean of Population No  \n",
    " * H1: Mean of Population Yes != Mean of Population No"
   ]
  },
  {
   "cell_type": "markdown",
   "metadata": {},
   "source": [
    "3. ***Calculation***"
   ]
  },
  {
   "cell_type": "code",
   "execution_count": 24,
   "metadata": {
    "scrolled": true
   },
   "outputs": [
    {
     "name": "stdout",
     "output_type": "stream",
     "text": [
      "Feature:  Age\n",
      "t-statistic: -6.28 -- p-value: 0.0000 \n",
      "\n",
      "Feature:  DistanceFromHome\n",
      "t-statistic: 3.13 -- p-value: 0.0020 \n",
      "\n",
      "Feature:  Education\n",
      "t-statistic: -1.33 -- p-value: 0.1836 \n",
      "\n",
      "Feature:  JobLevel\n",
      "t-statistic: -8.33 -- p-value: 0.0000 \n",
      "\n",
      "Feature:  MaritalStatus_encoded\n",
      "t-statistic: 6.91 -- p-value: 0.0000 \n",
      "\n",
      "Feature:  MonthlyIncome\n",
      "t-statistic: -8.65 -- p-value: 0.0000 \n",
      "\n",
      "Feature:  MonthlyRate\n",
      "t-statistic: 0.63 -- p-value: 0.5313 \n",
      "\n",
      "Feature:  NumCompaniesWorked\n",
      "t-statistic: 1.70 -- p-value: 0.0909 \n",
      "\n",
      "Feature:  OverTime_encoded\n",
      "t-statistic: 9.29 -- p-value: 0.0000 \n",
      "\n",
      "Feature:  PercentSalaryHike\n",
      "t-statistic: -0.55 -- p-value: 0.5845 \n",
      "\n",
      "Feature:  TotalWorkingYears\n",
      "t-statistic: -7.77 -- p-value: 0.0000 \n",
      "\n",
      "Feature:  TrainingTimesLastYear\n",
      "t-statistic: -2.56 -- p-value: 0.0112 \n",
      "\n",
      "Feature:  YearsSinceLastPromotion\n",
      "t-statistic: -1.41 -- p-value: 0.1592 \n",
      "\n",
      "Feature:  YearsWithCurrManager\n",
      "t-statistic: -7.42 -- p-value: 0.0000 \n",
      "\n"
     ]
    }
   ],
   "source": [
    "# Split df to Yes-No Attrition\n",
    "df_Attrition_yes = df[df.Attrition == 'Yes']\n",
    "df_Attrition_no = df[df.Attrition == 'No']\n",
    "\n",
    "# Run: One sample Two-sided T-test\n",
    "t_statistic = []\n",
    "p_value     = []\n",
    "\n",
    "for feature in features_to_analysis:\n",
    "    # t-test\n",
    "    sample  = df_Attrition_yes[feature]\n",
    "    popmean = df_Attrition_no[feature].mean() # mean of population\n",
    "    t_stats, p = stats.ttest_1samp(sample, popmean)\n",
    "           \n",
    "    t_statistic.append(t_stats)\n",
    "    p_value.append(p)    \n",
    "    \n",
    "    print('Feature: ', feature)\n",
    "    print('t-statistic: %4.2f -- p-value: %4.4f \\n' %(t_stats, p))"
   ]
  },
  {
   "cell_type": "markdown",
   "metadata": {},
   "source": [
    "4. ***Conclusions***"
   ]
  },
  {
   "cell_type": "code",
   "execution_count": 25,
   "metadata": {
    "scrolled": true
   },
   "outputs": [
    {
     "name": "stdout",
     "output_type": "stream",
     "text": [
      "                   Features         Decisions Key factors\n",
      "0                       Age          Rejected         Yes\n",
      "1          DistanceFromHome          Rejected         Yes\n",
      "3                  JobLevel          Rejected         Yes\n",
      "4     MaritalStatus_encoded          Rejected         Yes\n",
      "5             MonthlyIncome          Rejected         Yes\n",
      "8          OverTime_encoded          Rejected         Yes\n",
      "10        TotalWorkingYears          Rejected         Yes\n",
      "11    TrainingTimesLastYear          Rejected         Yes\n",
      "13     YearsWithCurrManager          Rejected         Yes\n",
      "2                 Education  Failed to reject          No\n",
      "6               MonthlyRate  Failed to reject          No\n",
      "7        NumCompaniesWorked  Failed to reject          No\n",
      "9         PercentSalaryHike  Failed to reject          No\n",
      "12  YearsSinceLastPromotion  Failed to reject          No\n"
     ]
    }
   ],
   "source": [
    "# Create tabel\n",
    "table = pd.DataFrame()\n",
    "table['Features'] = features_to_analysis\n",
    "table['t-statistic'] = t_statistic\n",
    "table['p-value'] = p_value\n",
    "\n",
    "# Conclusions\n",
    "alpha = 0.05\n",
    "table['Decisions'] = ['Rejected' if x<alpha else 'Failed to reject' for x in table['p-value']]\n",
    "table['Key factors'] = ['Yes' if x=='Rejected' else 'No' for x in table['Decisions']]\n",
    "\n",
    "# Drop not-needed\n",
    "#table = table.drop(['t-statistic', 'p-value'], axis=1)\n",
    "\n",
    "print(table[['Features', 'Decisions', 'Key factors']].sort_values(by='Key factors', ascending=False))\n",
    "\n",
    "#print(table.sort_values(by='Decisions'))"
   ]
  },
  {
   "cell_type": "markdown",
   "metadata": {},
   "source": [
    "5. Comments  \n",
    "\n",
    " * ***True Positives*** - Age, MonthlyIncome, and OverTime: all correct.\n",
    " * ***True Negatives*** - DistanceFromHome, TotalWorkingYears, and MaritalStatus: the hypothesis testing considers them key factors.\n",
    " * ***For-curious features*** - Age and Years WithCurr Manager are key factors."
   ]
  },
  {
   "cell_type": "markdown",
   "metadata": {},
   "source": [
    "### 4. Which key factors to Job Satisfaction?"
   ]
  },
  {
   "cell_type": "markdown",
   "metadata": {},
   "source": [
    "Look back to its distribution first."
   ]
  },
  {
   "cell_type": "markdown",
   "metadata": {},
   "source": [
    "## Hypothesis Testing for MaritalStatus and OverTime"
   ]
  },
  {
   "cell_type": "markdown",
   "metadata": {},
   "source": [
    "1. ***Populations***  \n",
    "\n",
    " * Population: whole employees.\n",
    " * Samples:\n",
    "     * Sample 1: employees who is Single   and  Yes-OverTime.\n",
    "     * Sample 2: employees who is Married  and  Yes-OverTime.\n",
    "     * Sample 3: employees who is Divorced and  Yes-OverTime.\n",
    "     * Sample 4: employees who is Single   and  No-OverTime.\n",
    "     * Sample 5: employees who is Married  and  No-OverTime.\n",
    "     * Sample 6: employees who is Divorced and  No-OverTime."
   ]
  },
  {
   "cell_type": "code",
   "execution_count": 26,
   "metadata": {},
   "outputs": [],
   "source": [
    "# Preparing samples for ANOVA\n",
    "population = df[['MaritalStatus', 'OverTime', 'JobSatisfaction']]\n",
    "\n",
    "anova_samples = {}\n",
    "i = 1\n",
    "\n",
    "# Create Samples by conditions\n",
    "for MS in population['MaritalStatus'].unique():\n",
    "    for OT in population['OverTime'].unique():\n",
    "        sample = population['JobSatisfaction'][(df.MaritalStatus==MS) & (df.OverTime==OT)]\n",
    "        sample.reset_index(drop=True, inplace=True)\n",
    "        anova_samples[i] = sample\n",
    "        \n",
    "        i += 1"
   ]
  },
  {
   "cell_type": "markdown",
   "metadata": {},
   "source": [
    "2. ***Statements***  \n",
    "\n",
    " * H0: Means of JobSatisfaction in 6 samples are equal.  \n",
    " * H1: Existing at least one pair that breaks H0.\n",
    " \n",
    " ***Level of Significant***: 0.05"
   ]
  },
  {
   "cell_type": "markdown",
   "metadata": {},
   "source": [
    "3. ***Calculation***\n",
    "\n",
    "Test: One way ANOVA"
   ]
  },
  {
   "cell_type": "code",
   "execution_count": 27,
   "metadata": {},
   "outputs": [
    {
     "name": "stdout",
     "output_type": "stream",
     "text": [
      "F-statistic: 1.09\n",
      "p-value    : 0.36\n"
     ]
    }
   ],
   "source": [
    "f, p = stats.f_oneway(anova_samples[1],\n",
    "                      anova_samples[2],\n",
    "                      anova_samples[3],\n",
    "                      anova_samples[4],\n",
    "                      anova_samples[5],\n",
    "                      anova_samples[6])\n",
    "\n",
    "print('F-statistic: %4.2f' %(f))\n",
    "print('p-value    : %4.2f' %(p))"
   ]
  },
  {
   "cell_type": "markdown",
   "metadata": {},
   "source": [
    "4. ***Conclusions***\n",
    "\n",
    " * p-value 0.36 > 0.05 -> ***Failed to reject*** H<sub>0</sub>: all 6 samples mean of Job Satisfaction are equal.  \n",
    " * MarituaStatus and OverTime: ***is not*** key values to JobSatisfaction"
   ]
  },
  {
   "cell_type": "markdown",
   "metadata": {},
   "source": [
    "## Correlation determination for the rest of Features to Analysis"
   ]
  },
  {
   "cell_type": "code",
   "execution_count": 28,
   "metadata": {},
   "outputs": [
    {
     "name": "stdout",
     "output_type": "stream",
     "text": [
      "['Age', 'DistanceFromHome', 'Education', 'JobLevel', 'MonthlyIncome', 'MonthlyRate', 'NumCompaniesWorked', 'PercentSalaryHike', 'TotalWorkingYears', 'TrainingTimesLastYear', 'YearsSinceLastPromotion', 'YearsWithCurrManager', 'JobSatisfaction']\n"
     ]
    }
   ],
   "source": [
    "## Features to run correlation\n",
    "\n",
    "# Those be analyzed already.\n",
    "features_to_analysis.remove('MaritalStatus_encoded')\n",
    "features_to_analysis.remove('OverTime_encoded')\n",
    "\n",
    "# Put JobSatisfaction in to determine Correlation matrix latter\n",
    "features_to_analysis.append('JobSatisfaction')\n",
    "\n",
    "print(features_to_analysis)"
   ]
  },
  {
   "cell_type": "code",
   "execution_count": 29,
   "metadata": {},
   "outputs": [
    {
     "data": {
      "image/png": "[encoded data removed]",
      "text/plain": [
       "<Figure size 1152x864 with 2 Axes>"
      ]
     },
     "metadata": {
      "needs_background": "light"
     },
     "output_type": "display_data"
    }
   ],
   "source": [
    "corr_matrix = df[features_to_analysis].corr()\n",
    "\n",
    "# The heatmap\n",
    "figure = plt.figure(figsize=(16,12))\n",
    "\n",
    "mask = np.triu(corr_matrix) # Hide the upper part.\n",
    "sns.heatmap(corr_matrix, annot=True, fmt='.2f', linewidths=0.5, cmap=\"YlGnBu\", mask=mask)\n",
    "\n",
    "plt.show()"
   ]
  },
  {
   "cell_type": "markdown",
   "metadata": {},
   "source": [
    "### Unbelievable!!!\n",
    "\n",
    "None of Features analysising seems to have any dang correlation to JobSatisfaction!!"
   ]
  },
  {
   "cell_type": "markdown",
   "metadata": {},
   "source": [
    "# 6. Final Verdict\n",
    "1. Key factors to Attrition.  \n",
    "\n",
    " * Age, DistanceFromHome, JobLevel,\n",
    " * MaritalStatus, MonthlyIncome, OverTime,\n",
    " * TotalWorkingYears, TrainingTimesLastYear, YearsWithCurrManager.\n",
    "\n",
    "Though there is a drawback: we just know they influence the Attrition, but how much?? T-test can not give the answer.\n",
    "\n",
    "2. Key factors to Job Satisfaction.\n",
    "\n",
    "My procedure is unable to point out key factors influence the Job Satisfaction, but it indicates those does not:\n",
    " * Age, DistanceFromHome, Education,\n",
    " * JobLevel, MaritalStatus, MonthlyIncome,\n",
    " * MonthlyRate, NumCompaniesWorked, OverTime,\n",
    " * PercentSalaryHike, TotalWorkingYears, TrainingTimesLastYear, \n",
    " * YearsSinceLastPromotion, YearsWithCurrManager"
   ]
  },
  {
   "cell_type": "markdown",
   "metadata": {},
   "source": [
    "# 7. My potential mistakes\n",
    "1. ***Lacking of Assumptions checking***. T-test and ANOVA working based on concrete assumptions. If the data are not suitable for them, the testing could be incorrect.\n",
    "\n",
    "\n",
    "2. ***Problems with ordinal data.*** I ran ANOVA with assumption that Job Satisfaction is simply a integer, but it is not. Job Satisfaction is an ordinal, which by far different from a ninteger, so this assumption badly effects on ANOVA at certain level."
   ]
  }
 ],
 "metadata": {
  "kernelspec": {
   "display_name": "Python 3",
   "language": "python",
   "name": "python3"
  },
  "language_info": {
   "codemirror_mode": {
    "name": "ipython",
    "version": 3
   },
   "file_extension": ".py",
   "mimetype": "text/x-python",
   "name": "python",
   "nbconvert_exporter": "python",
   "pygments_lexer": "ipython3",
   "version": "3.7.6"
  }
 },
 "nbformat": 4,
 "nbformat_minor": 4
}
