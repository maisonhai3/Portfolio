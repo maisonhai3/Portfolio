{
 "cells": [
  {
   "cell_type": "markdown",
   "metadata": {},
   "source": [
    "# Introduction\n",
    "\n"
   ]
  },
  {
   "cell_type": "markdown",
   "metadata": {},
   "source": [
    "# Table of Contents"
   ]
  },
  {
   "cell_type": "code",
   "execution_count": 1,
   "metadata": {
    "_cell_guid": "b1076dfc-b9ad-4769-8c92-a6c4dae69d19",
    "_uuid": "8f2839f25d086af736a60e9eeb907d3b93b6e0e5"
   },
   "outputs": [],
   "source": [
    "'''General Libraries'''\n",
    "import numpy as np \n",
    "import pandas as pd \n",
    "pd.set_option('display.max_columns', 500)\n",
    "\n",
    "'''Scikit Learn'''\n",
    "from sklearn.preprocessing import OneHotEncoder, LabelEncoder, StandardScaler\n",
    "from sklearn.decomposition import PCA\n",
    "\n",
    "'''Ploting Libraries'''\n",
    "from plotly.offline import iplot, plot\n",
    "from plotly.subplots import make_subplots\n",
    "import plotly.graph_objects as go\n",
    "import plotly.express as px\n",
    "import plotly.figure_factory as ff\n",
    "import plotly.io as pio\n",
    "pio.renderers.default = \"notebook\" \n",
    "\n",
    "\n",
    "import matplotlib.pyplot as plt\n",
    "import seaborn as sns\n",
    "import warnings\n",
    "warnings.filterwarnings(\"ignore\")\n",
    "sns.set_palette('RdBu')\n",
    "\n",
    "'''Miscellaneous'''\n",
    "from feature_engine import outlier_removers\n",
    "\n",
    "\n",
    "'''Seeds'''\n",
    "import random\n",
    "random.seed(10)\n",
    "np.random.seed(11)\n"
   ]
  },
  {
   "cell_type": "code",
   "execution_count": 2,
   "metadata": {},
   "outputs": [],
   "source": [
    "import numpy as np \n",
    "import pandas as pd \n",
    "pd.set_option('display.max_columns', 500)"
   ]
  },
  {
   "cell_type": "markdown",
   "metadata": {},
   "source": [
    "## A very first glance"
   ]
  },
  {
   "cell_type": "code",
   "execution_count": 3,
   "metadata": {},
   "outputs": [],
   "source": [
    "df = pd.read_csv('results.csv').sort_index(axis=1)"
   ]
  },
  {
   "cell_type": "code",
   "execution_count": 4,
   "metadata": {},
   "outputs": [
    {
     "name": "stdout",
     "output_type": "stream",
     "text": [
      "Observations                 :  31984\n",
      "Features                     :  21\n"
     ]
    }
   ],
   "source": [
    "print('Observations                 : ', df.shape[0])\n",
    "print('Features                     : ', df.shape[1])"
   ]
  },
  {
   "cell_type": "code",
   "execution_count": 5,
   "metadata": {},
   "outputs": [
    {
     "data": {
      "text/html": [
       "<div>\n",
       "<style scoped>\n",
       "    .dataframe tbody tr th:only-of-type {\n",
       "        vertical-align: middle;\n",
       "    }\n",
       "\n",
       "    .dataframe tbody tr th {\n",
       "        vertical-align: top;\n",
       "    }\n",
       "\n",
       "    .dataframe thead th {\n",
       "        text-align: right;\n",
       "    }\n",
       "</style>\n",
       "<table border=\"1\" class=\"dataframe\">\n",
       "  <thead>\n",
       "    <tr style=\"text-align: right;\">\n",
       "      <th></th>\n",
       "      <th>10k</th>\n",
       "      <th>20k</th>\n",
       "      <th>25k</th>\n",
       "      <th>30k</th>\n",
       "      <th>35k</th>\n",
       "      <th>40k</th>\n",
       "      <th>5k</th>\n",
       "      <th>age</th>\n",
       "      <th>bib</th>\n",
       "      <th>city</th>\n",
       "      <th>country</th>\n",
       "      <th>ctz</th>\n",
       "      <th>division</th>\n",
       "      <th>gender</th>\n",
       "      <th>genderdiv</th>\n",
       "      <th>half</th>\n",
       "      <th>name</th>\n",
       "      <th>official</th>\n",
       "      <th>overall</th>\n",
       "      <th>pace</th>\n",
       "      <th>state</th>\n",
       "    </tr>\n",
       "  </thead>\n",
       "  <tbody>\n",
       "    <tr>\n",
       "      <th>17308</th>\n",
       "      <td>47.70</td>\n",
       "      <td>94.05</td>\n",
       "      <td>120.22</td>\n",
       "      <td>148.05</td>\n",
       "      <td>177.07</td>\n",
       "      <td>207.73</td>\n",
       "      <td>24.13</td>\n",
       "      <td>60</td>\n",
       "      <td>19790</td>\n",
       "      <td>Riverview</td>\n",
       "      <td>CAN</td>\n",
       "      <td>NaN</td>\n",
       "      <td>147</td>\n",
       "      <td>M</td>\n",
       "      <td>8943</td>\n",
       "      <td>99.25</td>\n",
       "      <td>Forbes, Robert A.</td>\n",
       "      <td>221.52</td>\n",
       "      <td>12875</td>\n",
       "      <td>8.45</td>\n",
       "      <td>NB</td>\n",
       "    </tr>\n",
       "    <tr>\n",
       "      <th>13037</th>\n",
       "      <td>47.90</td>\n",
       "      <td>96.35</td>\n",
       "      <td>121.13</td>\n",
       "      <td>147.07</td>\n",
       "      <td>173.83</td>\n",
       "      <td>200.85</td>\n",
       "      <td>23.97</td>\n",
       "      <td>61</td>\n",
       "      <td>14920</td>\n",
       "      <td>Lac St-Joseph</td>\n",
       "      <td>CAN</td>\n",
       "      <td>NaN</td>\n",
       "      <td>3</td>\n",
       "      <td>F</td>\n",
       "      <td>2567</td>\n",
       "      <td>101.67</td>\n",
       "      <td>Grenon, Helene</td>\n",
       "      <td>213.20</td>\n",
       "      <td>10285</td>\n",
       "      <td>8.13</td>\n",
       "      <td>QC</td>\n",
       "    </tr>\n",
       "    <tr>\n",
       "      <th>12810</th>\n",
       "      <td>48.55</td>\n",
       "      <td>96.62</td>\n",
       "      <td>120.80</td>\n",
       "      <td>146.13</td>\n",
       "      <td>171.87</td>\n",
       "      <td>199.47</td>\n",
       "      <td>24.70</td>\n",
       "      <td>36</td>\n",
       "      <td>14662</td>\n",
       "      <td>Caracas</td>\n",
       "      <td>VEN</td>\n",
       "      <td>NaN</td>\n",
       "      <td>1714</td>\n",
       "      <td>F</td>\n",
       "      <td>2293</td>\n",
       "      <td>101.90</td>\n",
       "      <td>Fuentes H, Carolina</td>\n",
       "      <td>211.40</td>\n",
       "      <td>9742</td>\n",
       "      <td>8.07</td>\n",
       "      <td>NaN</td>\n",
       "    </tr>\n",
       "    <tr>\n",
       "      <th>30974</th>\n",
       "      <td>56.13</td>\n",
       "      <td>109.97</td>\n",
       "      <td>137.00</td>\n",
       "      <td>165.03</td>\n",
       "      <td>194.37</td>\n",
       "      <td>224.02</td>\n",
       "      <td>28.22</td>\n",
       "      <td>43</td>\n",
       "      <td>34821</td>\n",
       "      <td>Erpeldange</td>\n",
       "      <td>LUX</td>\n",
       "      <td>NaN</td>\n",
       "      <td>1811</td>\n",
       "      <td>M</td>\n",
       "      <td>10816</td>\n",
       "      <td>116.00</td>\n",
       "      <td>Osch, Eric</td>\n",
       "      <td>237.10</td>\n",
       "      <td>17295</td>\n",
       "      <td>9.05</td>\n",
       "      <td>NaN</td>\n",
       "    </tr>\n",
       "    <tr>\n",
       "      <th>29590</th>\n",
       "      <td>62.13</td>\n",
       "      <td>125.93</td>\n",
       "      <td>158.23</td>\n",
       "      <td>197.42</td>\n",
       "      <td>235.15</td>\n",
       "      <td>273.17</td>\n",
       "      <td>30.52</td>\n",
       "      <td>53</td>\n",
       "      <td>33230</td>\n",
       "      <td>Ponte Vedra Beach</td>\n",
       "      <td>USA</td>\n",
       "      <td>NaN</td>\n",
       "      <td>2134</td>\n",
       "      <td>M</td>\n",
       "      <td>14807</td>\n",
       "      <td>132.92</td>\n",
       "      <td>Hawes, Tim</td>\n",
       "      <td>290.07</td>\n",
       "      <td>26136</td>\n",
       "      <td>11.07</td>\n",
       "      <td>FL</td>\n",
       "    </tr>\n",
       "    <tr>\n",
       "      <th>13537</th>\n",
       "      <td>46.63</td>\n",
       "      <td>93.97</td>\n",
       "      <td>117.98</td>\n",
       "      <td>143.13</td>\n",
       "      <td>169.28</td>\n",
       "      <td>195.58</td>\n",
       "      <td>23.05</td>\n",
       "      <td>63</td>\n",
       "      <td>15480</td>\n",
       "      <td>Mill Creek</td>\n",
       "      <td>USA</td>\n",
       "      <td>NaN</td>\n",
       "      <td>52</td>\n",
       "      <td>M</td>\n",
       "      <td>6698</td>\n",
       "      <td>99.18</td>\n",
       "      <td>Beyerlein, Douglas</td>\n",
       "      <td>207.05</td>\n",
       "      <td>8388</td>\n",
       "      <td>7.90</td>\n",
       "      <td>WA</td>\n",
       "    </tr>\n",
       "    <tr>\n",
       "      <th>24456</th>\n",
       "      <td>59.25</td>\n",
       "      <td>124.72</td>\n",
       "      <td>158.00</td>\n",
       "      <td>195.37</td>\n",
       "      <td>235.78</td>\n",
       "      <td>277.30</td>\n",
       "      <td>29.12</td>\n",
       "      <td>33</td>\n",
       "      <td>27711</td>\n",
       "      <td>Watertown</td>\n",
       "      <td>USA</td>\n",
       "      <td>NaN</td>\n",
       "      <td>5550</td>\n",
       "      <td>F</td>\n",
       "      <td>11484</td>\n",
       "      <td>131.28</td>\n",
       "      <td>McCourt, Caitlin E.</td>\n",
       "      <td>292.93</td>\n",
       "      <td>26453</td>\n",
       "      <td>11.18</td>\n",
       "      <td>MA</td>\n",
       "    </tr>\n",
       "    <tr>\n",
       "      <th>30140</th>\n",
       "      <td>55.32</td>\n",
       "      <td>110.17</td>\n",
       "      <td>138.63</td>\n",
       "      <td>170.33</td>\n",
       "      <td>204.93</td>\n",
       "      <td>238.92</td>\n",
       "      <td>28.27</td>\n",
       "      <td>30</td>\n",
       "      <td>33843</td>\n",
       "      <td>Dorchester</td>\n",
       "      <td>USA</td>\n",
       "      <td>NaN</td>\n",
       "      <td>4381</td>\n",
       "      <td>F</td>\n",
       "      <td>8495</td>\n",
       "      <td>116.23</td>\n",
       "      <td>Hobin, Michelle C.</td>\n",
       "      <td>254.25</td>\n",
       "      <td>20841</td>\n",
       "      <td>9.70</td>\n",
       "      <td>MA</td>\n",
       "    </tr>\n",
       "  </tbody>\n",
       "</table>\n",
       "</div>"
      ],
      "text/plain": [
       "         10k     20k     25k     30k     35k     40k     5k  age    bib  \\\n",
       "17308  47.70   94.05  120.22  148.05  177.07  207.73  24.13   60  19790   \n",
       "13037  47.90   96.35  121.13  147.07  173.83  200.85  23.97   61  14920   \n",
       "12810  48.55   96.62  120.80  146.13  171.87  199.47  24.70   36  14662   \n",
       "30974  56.13  109.97  137.00  165.03  194.37  224.02  28.22   43  34821   \n",
       "29590  62.13  125.93  158.23  197.42  235.15  273.17  30.52   53  33230   \n",
       "13537  46.63   93.97  117.98  143.13  169.28  195.58  23.05   63  15480   \n",
       "24456  59.25  124.72  158.00  195.37  235.78  277.30  29.12   33  27711   \n",
       "30140  55.32  110.17  138.63  170.33  204.93  238.92  28.27   30  33843   \n",
       "\n",
       "                    city country  ctz  division gender  genderdiv    half  \\\n",
       "17308          Riverview     CAN  NaN       147      M       8943   99.25   \n",
       "13037      Lac St-Joseph     CAN  NaN         3      F       2567  101.67   \n",
       "12810            Caracas     VEN  NaN      1714      F       2293  101.90   \n",
       "30974         Erpeldange     LUX  NaN      1811      M      10816  116.00   \n",
       "29590  Ponte Vedra Beach     USA  NaN      2134      M      14807  132.92   \n",
       "13537         Mill Creek     USA  NaN        52      M       6698   99.18   \n",
       "24456          Watertown     USA  NaN      5550      F      11484  131.28   \n",
       "30140         Dorchester     USA  NaN      4381      F       8495  116.23   \n",
       "\n",
       "                      name  official  overall   pace state  \n",
       "17308    Forbes, Robert A.    221.52    12875   8.45    NB  \n",
       "13037       Grenon, Helene    213.20    10285   8.13    QC  \n",
       "12810  Fuentes H, Carolina    211.40     9742   8.07   NaN  \n",
       "30974           Osch, Eric    237.10    17295   9.05   NaN  \n",
       "29590           Hawes, Tim    290.07    26136  11.07    FL  \n",
       "13537   Beyerlein, Douglas    207.05     8388   7.90    WA  \n",
       "24456  McCourt, Caitlin E.    292.93    26453  11.18    MA  \n",
       "30140   Hobin, Michelle C.    254.25    20841   9.70    MA  "
      ]
     },
     "execution_count": 5,
     "metadata": {},
     "output_type": "execute_result"
    }
   ],
   "source": [
    "df.sample(8)"
   ]
  },
  {
   "cell_type": "markdown",
   "metadata": {},
   "source": [
    "# Rearrange Columns for Better Neat"
   ]
  },
  {
   "cell_type": "code",
   "execution_count": 6,
   "metadata": {},
   "outputs": [],
   "source": [
    "cols = ['name',\n",
    "        '5k', '10k', '20k', 'half', '25k', '30k', '35k', '40k', 'official', 'pace', \n",
    "        'overall', 'genderdiv', 'division', # competitors rank in divisions\n",
    "        'age', 'gender',  # competitors charactersitics\n",
    "        'ctz', 'country', 'state', 'city', 'bib']\n",
    "\n",
    "df = df[cols]"
   ]
  },
  {
   "cell_type": "markdown",
   "metadata": {},
   "source": [
    "# Rename Columns for Better Understandable"
   ]
  },
  {
   "cell_type": "code",
   "execution_count": 7,
   "metadata": {},
   "outputs": [],
   "source": [
    "df.rename({'division' : 'rank_in_division', \n",
    "           'genderdiv': 'rank_in_gender_only',\n",
    "           'overall'  : 'rank_overall'},\n",
    "          axis=1, inplace=True)"
   ]
  },
  {
   "cell_type": "code",
   "execution_count": 8,
   "metadata": {},
   "outputs": [
    {
     "data": {
      "text/html": [
       "<div>\n",
       "<style scoped>\n",
       "    .dataframe tbody tr th:only-of-type {\n",
       "        vertical-align: middle;\n",
       "    }\n",
       "\n",
       "    .dataframe tbody tr th {\n",
       "        vertical-align: top;\n",
       "    }\n",
       "\n",
       "    .dataframe thead th {\n",
       "        text-align: right;\n",
       "    }\n",
       "</style>\n",
       "<table border=\"1\" class=\"dataframe\">\n",
       "  <thead>\n",
       "    <tr style=\"text-align: right;\">\n",
       "      <th></th>\n",
       "      <th>name</th>\n",
       "      <th>5k</th>\n",
       "      <th>10k</th>\n",
       "      <th>20k</th>\n",
       "      <th>half</th>\n",
       "      <th>25k</th>\n",
       "      <th>30k</th>\n",
       "      <th>35k</th>\n",
       "      <th>40k</th>\n",
       "      <th>official</th>\n",
       "      <th>pace</th>\n",
       "      <th>rank_overall</th>\n",
       "      <th>rank_in_gender_only</th>\n",
       "      <th>rank_in_division</th>\n",
       "      <th>age</th>\n",
       "      <th>gender</th>\n",
       "      <th>ctz</th>\n",
       "      <th>country</th>\n",
       "      <th>state</th>\n",
       "      <th>city</th>\n",
       "      <th>bib</th>\n",
       "    </tr>\n",
       "  </thead>\n",
       "  <tbody>\n",
       "    <tr>\n",
       "      <th>0</th>\n",
       "      <td>Yamamoto, Hiroyuki</td>\n",
       "      <td>8.02</td>\n",
       "      <td>17.37</td>\n",
       "      <td>37.65</td>\n",
       "      <td>39.72</td>\n",
       "      <td>47.67</td>\n",
       "      <td>59.18</td>\n",
       "      <td>71.40</td>\n",
       "      <td>80.43</td>\n",
       "      <td>85.25</td>\n",
       "      <td>3.27</td>\n",
       "      <td>8</td>\n",
       "      <td>8</td>\n",
       "      <td>8</td>\n",
       "      <td>47</td>\n",
       "      <td>M</td>\n",
       "      <td>NaN</td>\n",
       "      <td>JPN</td>\n",
       "      <td>NaN</td>\n",
       "      <td>Fukuoka</td>\n",
       "      <td>W1</td>\n",
       "    </tr>\n",
       "    <tr>\n",
       "      <th>1</th>\n",
       "      <td>Jeptoo, Rita</td>\n",
       "      <td>16.22</td>\n",
       "      <td>32.58</td>\n",
       "      <td>65.83</td>\n",
       "      <td>69.47</td>\n",
       "      <td>82.43</td>\n",
       "      <td>99.33</td>\n",
       "      <td>116.37</td>\n",
       "      <td>132.10</td>\n",
       "      <td>138.95</td>\n",
       "      <td>5.30</td>\n",
       "      <td>21</td>\n",
       "      <td>1</td>\n",
       "      <td>1</td>\n",
       "      <td>33</td>\n",
       "      <td>F</td>\n",
       "      <td>NaN</td>\n",
       "      <td>KEN</td>\n",
       "      <td>NaN</td>\n",
       "      <td>Eldoret</td>\n",
       "      <td>F1</td>\n",
       "    </tr>\n",
       "    <tr>\n",
       "      <th>2</th>\n",
       "      <td>Van Dyk, Ernst F.</td>\n",
       "      <td>7.75</td>\n",
       "      <td>16.62</td>\n",
       "      <td>36.10</td>\n",
       "      <td>38.03</td>\n",
       "      <td>45.80</td>\n",
       "      <td>56.45</td>\n",
       "      <td>67.42</td>\n",
       "      <td>76.10</td>\n",
       "      <td>80.60</td>\n",
       "      <td>3.08</td>\n",
       "      <td>1</td>\n",
       "      <td>1</td>\n",
       "      <td>1</td>\n",
       "      <td>41</td>\n",
       "      <td>M</td>\n",
       "      <td>NaN</td>\n",
       "      <td>RSA</td>\n",
       "      <td>NaN</td>\n",
       "      <td>Paarl</td>\n",
       "      <td>W2</td>\n",
       "    </tr>\n",
       "    <tr>\n",
       "      <th>3</th>\n",
       "      <td>Dibaba, Mare</td>\n",
       "      <td>16.20</td>\n",
       "      <td>32.57</td>\n",
       "      <td>65.83</td>\n",
       "      <td>69.47</td>\n",
       "      <td>82.43</td>\n",
       "      <td>99.33</td>\n",
       "      <td>116.37</td>\n",
       "      <td>132.95</td>\n",
       "      <td>140.58</td>\n",
       "      <td>5.37</td>\n",
       "      <td>27</td>\n",
       "      <td>3</td>\n",
       "      <td>3</td>\n",
       "      <td>24</td>\n",
       "      <td>F</td>\n",
       "      <td>NaN</td>\n",
       "      <td>ETH</td>\n",
       "      <td>NaN</td>\n",
       "      <td>Shoa</td>\n",
       "      <td>F2</td>\n",
       "    </tr>\n",
       "    <tr>\n",
       "      <th>4</th>\n",
       "      <td>Hokinoue, Kota</td>\n",
       "      <td>8.02</td>\n",
       "      <td>17.12</td>\n",
       "      <td>36.58</td>\n",
       "      <td>38.60</td>\n",
       "      <td>46.37</td>\n",
       "      <td>57.03</td>\n",
       "      <td>67.83</td>\n",
       "      <td>76.72</td>\n",
       "      <td>81.23</td>\n",
       "      <td>3.10</td>\n",
       "      <td>2</td>\n",
       "      <td>2</td>\n",
       "      <td>2</td>\n",
       "      <td>40</td>\n",
       "      <td>M</td>\n",
       "      <td>NaN</td>\n",
       "      <td>JPN</td>\n",
       "      <td>NaN</td>\n",
       "      <td>Nogata Fukuoka</td>\n",
       "      <td>W3</td>\n",
       "    </tr>\n",
       "  </tbody>\n",
       "</table>\n",
       "</div>"
      ],
      "text/plain": [
       "                 name     5k    10k    20k   half    25k    30k     35k  \\\n",
       "0  Yamamoto, Hiroyuki   8.02  17.37  37.65  39.72  47.67  59.18   71.40   \n",
       "1        Jeptoo, Rita  16.22  32.58  65.83  69.47  82.43  99.33  116.37   \n",
       "2   Van Dyk, Ernst F.   7.75  16.62  36.10  38.03  45.80  56.45   67.42   \n",
       "3        Dibaba, Mare  16.20  32.57  65.83  69.47  82.43  99.33  116.37   \n",
       "4      Hokinoue, Kota   8.02  17.12  36.58  38.60  46.37  57.03   67.83   \n",
       "\n",
       "      40k  official  pace  rank_overall  rank_in_gender_only  \\\n",
       "0   80.43     85.25  3.27             8                    8   \n",
       "1  132.10    138.95  5.30            21                    1   \n",
       "2   76.10     80.60  3.08             1                    1   \n",
       "3  132.95    140.58  5.37            27                    3   \n",
       "4   76.72     81.23  3.10             2                    2   \n",
       "\n",
       "   rank_in_division  age gender  ctz country state            city bib  \n",
       "0                 8   47      M  NaN     JPN   NaN         Fukuoka  W1  \n",
       "1                 1   33      F  NaN     KEN   NaN         Eldoret  F1  \n",
       "2                 1   41      M  NaN     RSA   NaN           Paarl  W2  \n",
       "3                 3   24      F  NaN     ETH   NaN            Shoa  F2  \n",
       "4                 2   40      M  NaN     JPN   NaN  Nogata Fukuoka  W3  "
      ]
     },
     "execution_count": 8,
     "metadata": {},
     "output_type": "execute_result"
    }
   ],
   "source": [
    "df.head()"
   ]
  },
  {
   "cell_type": "markdown",
   "metadata": {},
   "source": [
    "# Data Type Correction"
   ]
  },
  {
   "cell_type": "markdown",
   "metadata": {},
   "source": [
    "### To Float64 with Numericals"
   ]
  },
  {
   "cell_type": "code",
   "execution_count": 9,
   "metadata": {},
   "outputs": [
    {
     "data": {
      "text/plain": [
       "name                    object\n",
       "5k                      object\n",
       "10k                     object\n",
       "20k                     object\n",
       "half                    object\n",
       "25k                     object\n",
       "30k                     object\n",
       "35k                     object\n",
       "40k                     object\n",
       "official               float64\n",
       "pace                   float64\n",
       "rank_overall             int64\n",
       "rank_in_gender_only      int64\n",
       "rank_in_division         int64\n",
       "age                      int64\n",
       "gender                  object\n",
       "ctz                     object\n",
       "country                 object\n",
       "state                   object\n",
       "city                    object\n",
       "bib                     object\n",
       "dtype: object"
      ]
     },
     "execution_count": 9,
     "metadata": {},
     "output_type": "execute_result"
    }
   ],
   "source": [
    "df.dtypes"
   ]
  },
  {
   "cell_type": "markdown",
   "metadata": {},
   "source": [
    "***Alert***\n",
    "I found some rows are strings of '-', which error my astype(). There kind of rows would be marked as np.nan then impute latter."
   ]
  },
  {
   "cell_type": "code",
   "execution_count": 10,
   "metadata": {},
   "outputs": [
    {
     "data": {
      "text/plain": [
       "ctz      30740\n",
       "state     2576\n",
       "25k        216\n",
       "half        72\n",
       "5k          52\n",
       "20k         51\n",
       "10k         50\n",
       "30k         40\n",
       "40k         39\n",
       "35k         34\n",
       "city         1\n",
       "bib          0\n",
       "pace         0\n",
       "dtype: int64"
      ]
     },
     "execution_count": 10,
     "metadata": {},
     "output_type": "execute_result"
    }
   ],
   "source": [
    "# Replace \"-\" = NaN\n",
    "df = df.replace('-', np.nan)\n",
    "\n",
    "df.isna().sum().sort_values(ascending=False).head(13)"
   ]
  },
  {
   "cell_type": "code",
   "execution_count": 11,
   "metadata": {},
   "outputs": [
    {
     "data": {
      "text/plain": [
       "name                    object\n",
       "5k                     float64\n",
       "10k                    float64\n",
       "20k                    float64\n",
       "half                   float64\n",
       "25k                    float64\n",
       "30k                    float64\n",
       "35k                    float64\n",
       "40k                    float64\n",
       "official               float64\n",
       "pace                   float64\n",
       "rank_overall             int64\n",
       "rank_in_gender_only      int64\n",
       "rank_in_division         int64\n",
       "age                      int64\n",
       "gender                  object\n",
       "ctz                     object\n",
       "country                 object\n",
       "state                   object\n",
       "city                    object\n",
       "bib                     object\n",
       "dtype: object"
      ]
     },
     "execution_count": 11,
     "metadata": {},
     "output_type": "execute_result"
    }
   ],
   "source": [
    "# To float64\n",
    "to_float64 = ['5k', '10k', '20k', 'half', '25k', '30k', '35k', '40k']\n",
    "df[to_float64] = df[to_float64].astype('float64')\n",
    "\n",
    "# Double check\n",
    "df.dtypes"
   ]
  },
  {
   "cell_type": "markdown",
   "metadata": {},
   "source": [
    "### To Category"
   ]
  },
  {
   "cell_type": "code",
   "execution_count": 12,
   "metadata": {},
   "outputs": [
    {
     "data": {
      "text/plain": [
       "name                     object\n",
       "5k                      float64\n",
       "10k                     float64\n",
       "20k                     float64\n",
       "half                    float64\n",
       "25k                     float64\n",
       "30k                     float64\n",
       "35k                     float64\n",
       "40k                     float64\n",
       "official                float64\n",
       "pace                    float64\n",
       "rank_overall           category\n",
       "rank_in_gender_only    category\n",
       "rank_in_division       category\n",
       "age                       int64\n",
       "gender                   object\n",
       "ctz                      object\n",
       "country                  object\n",
       "state                    object\n",
       "city                     object\n",
       "bib                      object\n",
       "dtype: object"
      ]
     },
     "execution_count": 12,
     "metadata": {},
     "output_type": "execute_result"
    }
   ],
   "source": [
    "# To category\n",
    "to_cate = ['rank_overall', 'rank_in_gender_only', 'rank_in_division']\n",
    "df[to_cate] = df[to_cate].astype('category')\n",
    "\n",
    "# Double check\n",
    "df.dtypes"
   ]
  },
  {
   "cell_type": "markdown",
   "metadata": {},
   "source": [
    "# Missing Data"
   ]
  },
  {
   "cell_type": "code",
   "execution_count": 13,
   "metadata": {},
   "outputs": [
    {
     "name": "stdout",
     "output_type": "stream",
     "text": [
      "       Numbers   Percent\n",
      "ctz      30740  0.961106\n",
      "state     2576  0.080540\n",
      "25k        216  0.006753\n",
      "half        72  0.002251\n",
      "5k          52  0.001626\n",
      "20k         51  0.001595\n",
      "10k         50  0.001563\n",
      "30k         40  0.001251\n",
      "40k         39  0.001219\n",
      "35k         34  0.001063\n",
      "city         1  0.000031\n",
      "bib          0  0.000000\n"
     ]
    },
    {
     "data": {
      "text/plain": [
       "<matplotlib.axes._subplots.AxesSubplot at 0x7f2fba55cbd0>"
      ]
     },
     "execution_count": 13,
     "metadata": {},
     "output_type": "execute_result"
    },
    {
     "data": {
      "image/png": "[encoded data removed]",
      "text/plain": [
       "<Figure size 432x288 with 1 Axes>"
      ]
     },
     "metadata": {
      "needs_background": "light"
     },
     "output_type": "display_data"
    }
   ],
   "source": [
    "# A Brief of Missing data\n",
    "\n",
    "total_miss   = df.isnull().sum().sort_values(ascending=False)\n",
    "percent      = total_miss / df.shape[0]\n",
    "\n",
    "table = pd.concat([total_miss, percent], axis=1, keys=['Numbers', 'Percent'])\n",
    "\n",
    "print(table.head(12))\n",
    "table.Percent.plot(kind='bar', title='Missing data - %')"
   ]
  },
  {
   "cell_type": "markdown",
   "metadata": {},
   "source": [
    "Missing points\n",
    "\n",
    "* ***ctz***: there is 96 percents of data are NaN, we are droping it. \n",
    "* ***state***: only 8% is missing, where competitors come from countries but USA.\n",
    "* ***The rest***: just a small minor of rows, drop them."
   ]
  },
  {
   "cell_type": "markdown",
   "metadata": {},
   "source": [
    "### List-wise remove"
   ]
  },
  {
   "cell_type": "code",
   "execution_count": 14,
   "metadata": {},
   "outputs": [],
   "source": [
    "df.drop('ctz', axis=1, inplace=True)\n",
    "\n",
    "df.dropna(subset=['25k', 'half', '5k', '20k', '10k', '30k', '40k', '35k', 'city'], axis=0, inplace=True)"
   ]
  },
  {
   "cell_type": "markdown",
   "metadata": {},
   "source": [
    "### Convert: NaN of 'state' to Others"
   ]
  },
  {
   "cell_type": "markdown",
   "metadata": {},
   "source": [
    "Assumption.\n",
    "\n",
    "Competitors from countries but USA had ***state*** values are NaN. Let's check it out."
   ]
  },
  {
   "cell_type": "code",
   "execution_count": 15,
   "metadata": {},
   "outputs": [
    {
     "data": {
      "text/html": [
       "<div>\n",
       "<style scoped>\n",
       "    .dataframe tbody tr th:only-of-type {\n",
       "        vertical-align: middle;\n",
       "    }\n",
       "\n",
       "    .dataframe tbody tr th {\n",
       "        vertical-align: top;\n",
       "    }\n",
       "\n",
       "    .dataframe thead th {\n",
       "        text-align: right;\n",
       "    }\n",
       "</style>\n",
       "<table border=\"1\" class=\"dataframe\">\n",
       "  <thead>\n",
       "    <tr style=\"text-align: right;\">\n",
       "      <th></th>\n",
       "      <th>city</th>\n",
       "      <th>country</th>\n",
       "      <th>state</th>\n",
       "    </tr>\n",
       "  </thead>\n",
       "  <tbody>\n",
       "    <tr>\n",
       "      <th>20881</th>\n",
       "      <td>Mexico City</td>\n",
       "      <td>MEX</td>\n",
       "      <td>NaN</td>\n",
       "    </tr>\n",
       "    <tr>\n",
       "      <th>11329</th>\n",
       "      <td>Santiago</td>\n",
       "      <td>CHI</td>\n",
       "      <td>NaN</td>\n",
       "    </tr>\n",
       "    <tr>\n",
       "      <th>13392</th>\n",
       "      <td>Tokyo</td>\n",
       "      <td>JPN</td>\n",
       "      <td>NaN</td>\n",
       "    </tr>\n",
       "    <tr>\n",
       "      <th>2178</th>\n",
       "      <td>Ludvika</td>\n",
       "      <td>SWE</td>\n",
       "      <td>NaN</td>\n",
       "    </tr>\n",
       "    <tr>\n",
       "      <th>2269</th>\n",
       "      <td>Yilan County</td>\n",
       "      <td>TPE</td>\n",
       "      <td>NaN</td>\n",
       "    </tr>\n",
       "    <tr>\n",
       "      <th>31391</th>\n",
       "      <td>Chiusi (siena)</td>\n",
       "      <td>ITA</td>\n",
       "      <td>NaN</td>\n",
       "    </tr>\n",
       "    <tr>\n",
       "      <th>18063</th>\n",
       "      <td>Hong Kong</td>\n",
       "      <td>HKG</td>\n",
       "      <td>NaN</td>\n",
       "    </tr>\n",
       "    <tr>\n",
       "      <th>8761</th>\n",
       "      <td>Singapore</td>\n",
       "      <td>SIN</td>\n",
       "      <td>NaN</td>\n",
       "    </tr>\n",
       "  </tbody>\n",
       "</table>\n",
       "</div>"
      ],
      "text/plain": [
       "                 city country state\n",
       "20881     Mexico City     MEX   NaN\n",
       "11329        Santiago     CHI   NaN\n",
       "13392           Tokyo     JPN   NaN\n",
       "2178          Ludvika     SWE   NaN\n",
       "2269     Yilan County     TPE   NaN\n",
       "31391  Chiusi (siena)     ITA   NaN\n",
       "18063       Hong Kong     HKG   NaN\n",
       "8761        Singapore     SIN   NaN"
      ]
     },
     "execution_count": 15,
     "metadata": {},
     "output_type": "execute_result"
    }
   ],
   "source": [
    "state_is_na = df['state'].isna()\n",
    "\n",
    "df[['city', 'country', 'state']][state_is_na].sample(8)"
   ]
  },
  {
   "cell_type": "markdown",
   "metadata": {},
   "source": [
    "Yes, it's true.\n",
    "\n",
    "Therefor, we will create a new value for them: ***others***."
   ]
  },
  {
   "cell_type": "code",
   "execution_count": 16,
   "metadata": {},
   "outputs": [],
   "source": [
    "df['state'][state_is_na] = 'others'"
   ]
  },
  {
   "cell_type": "markdown",
   "metadata": {},
   "source": [
    "### Whether Zero is Missing"
   ]
  },
  {
   "cell_type": "code",
   "execution_count": 17,
   "metadata": {},
   "outputs": [
    {
     "name": "stdout",
     "output_type": "stream",
     "text": [
      "Data points with Zero values:  0\n"
     ]
    }
   ],
   "source": [
    "# This case: zero values mean missing data. Check for it.\n",
    "print('Data points with Zero values: ', (df==0).sum().sum())"
   ]
  },
  {
   "cell_type": "markdown",
   "metadata": {},
   "source": [
    "Luckily, it's safe."
   ]
  },
  {
   "cell_type": "code",
   "execution_count": 18,
   "metadata": {},
   "outputs": [
    {
     "name": "stdout",
     "output_type": "stream",
     "text": [
      "Missing data left:  0\n"
     ]
    }
   ],
   "source": [
    "print('Missing data left: ', df.isna().sum().sum())"
   ]
  },
  {
   "cell_type": "markdown",
   "metadata": {},
   "source": [
    "# Anomaly Detection"
   ]
  },
  {
   "cell_type": "code",
   "execution_count": 19,
   "metadata": {},
   "outputs": [
    {
     "data": {
      "text/plain": [
       "5k                      7.75\n",
       "10k                    16.62\n",
       "20k                    36.10\n",
       "half                   38.03\n",
       "25k                    45.80\n",
       "30k                    56.45\n",
       "35k                    67.42\n",
       "40k                    76.10\n",
       "official               80.60\n",
       "pace                    3.08\n",
       "rank_overall            1.00\n",
       "rank_in_gender_only     1.00\n",
       "rank_in_division        1.00\n",
       "age                    18.00\n",
       "dtype: float64"
      ]
     },
     "execution_count": 19,
     "metadata": {},
     "output_type": "execute_result"
    }
   ],
   "source": [
    "# Negative values are Anomaly\n",
    "df.select_dtypes(exclude='O').min()"
   ]
  },
  {
   "cell_type": "markdown",
   "metadata": {},
   "source": [
    "# Outliers with the IQR Proximity Rule"
   ]
  },
  {
   "cell_type": "markdown",
   "metadata": {},
   "source": [
    "According to this https://scikit-learn.org/stable/auto_examples/preprocessing/plot_all_scaling.html#sphx-glr-auto-examples-preprocessing-plot-all-scaling-py, outliers have negative impact to scalings later, so we need to clean out of them."
   ]
  },
  {
   "cell_type": "markdown",
   "metadata": {},
   "source": [
    "***IQR limits***\n",
    "* Right tail: 75th quantile + 3* IQR\n",
    "\n",
    "* Left tail: 25th quantile - 3* IQR\n",
    "\n",
    "Where IQR is the inter-quartile range: 75th quantile - 25th quantile."
   ]
  },
  {
   "cell_type": "code",
   "execution_count": 21,
   "metadata": {},
   "outputs": [
    {
     "data": {
      "text/plain": [
       "name                     object\n",
       "5k                      float64\n",
       "10k                     float64\n",
       "20k                     float64\n",
       "half                    float64\n",
       "25k                     float64\n",
       "30k                     float64\n",
       "35k                     float64\n",
       "40k                     float64\n",
       "official                float64\n",
       "pace                    float64\n",
       "rank_overall           category\n",
       "rank_in_gender_only    category\n",
       "rank_in_division       category\n",
       "age                       int64\n",
       "gender                   object\n",
       "country                  object\n",
       "state                    object\n",
       "city                     object\n",
       "bib                      object\n",
       "dtype: object"
      ]
     },
     "execution_count": 21,
     "metadata": {},
     "output_type": "execute_result"
    }
   ],
   "source": [
    "df.dtypes"
   ]
  },
  {
   "cell_type": "code",
   "execution_count": 23,
   "metadata": {},
   "outputs": [],
   "source": [
    "numerics = ['int64', 'float64']\n",
    "to_outliers = list(df.select_dtypes(include=numerics).columns.values)\n",
    "\n",
    "outliers_trimmer = outlier_removers.OutlierTrimmer(distribution='skewed', tail='both', fold=3, variables=to_outliers)\n",
    "outliers_trimmer.fit(df)\n",
    "\n",
    "df = outliers_trimmer.transform(df)"
   ]
  },
  {
   "cell_type": "code",
   "execution_count": 24,
   "metadata": {},
   "outputs": [
    {
     "data": {
      "text/html": [
       "<div>\n",
       "<style scoped>\n",
       "    .dataframe tbody tr th:only-of-type {\n",
       "        vertical-align: middle;\n",
       "    }\n",
       "\n",
       "    .dataframe tbody tr th {\n",
       "        vertical-align: top;\n",
       "    }\n",
       "\n",
       "    .dataframe thead th {\n",
       "        text-align: right;\n",
       "    }\n",
       "</style>\n",
       "<table border=\"1\" class=\"dataframe\">\n",
       "  <thead>\n",
       "    <tr style=\"text-align: right;\">\n",
       "      <th></th>\n",
       "      <th>5k</th>\n",
       "      <th>10k</th>\n",
       "      <th>20k</th>\n",
       "      <th>half</th>\n",
       "      <th>25k</th>\n",
       "      <th>30k</th>\n",
       "      <th>35k</th>\n",
       "      <th>40k</th>\n",
       "      <th>official</th>\n",
       "      <th>pace</th>\n",
       "      <th>age</th>\n",
       "    </tr>\n",
       "  </thead>\n",
       "  <tbody>\n",
       "    <tr>\n",
       "      <th>count</th>\n",
       "      <td>31634.000000</td>\n",
       "      <td>31634.000000</td>\n",
       "      <td>31634.000000</td>\n",
       "      <td>31634.000000</td>\n",
       "      <td>31634.000000</td>\n",
       "      <td>31634.000000</td>\n",
       "      <td>31634.000000</td>\n",
       "      <td>31634.000000</td>\n",
       "      <td>31634.000000</td>\n",
       "      <td>31634.000000</td>\n",
       "      <td>31634.000000</td>\n",
       "    </tr>\n",
       "    <tr>\n",
       "      <th>mean</th>\n",
       "      <td>25.669532</td>\n",
       "      <td>51.613942</td>\n",
       "      <td>105.290512</td>\n",
       "      <td>111.178781</td>\n",
       "      <td>133.538698</td>\n",
       "      <td>163.838788</td>\n",
       "      <td>195.967822</td>\n",
       "      <td>228.116993</td>\n",
       "      <td>241.876447</td>\n",
       "      <td>9.233566</td>\n",
       "      <td>42.379339</td>\n",
       "    </tr>\n",
       "    <tr>\n",
       "      <th>std</th>\n",
       "      <td>4.186585</td>\n",
       "      <td>8.677743</td>\n",
       "      <td>19.098049</td>\n",
       "      <td>20.241443</td>\n",
       "      <td>25.483550</td>\n",
       "      <td>32.769477</td>\n",
       "      <td>40.641083</td>\n",
       "      <td>47.933124</td>\n",
       "      <td>50.697346</td>\n",
       "      <td>1.933606</td>\n",
       "      <td>11.296433</td>\n",
       "    </tr>\n",
       "    <tr>\n",
       "      <th>min</th>\n",
       "      <td>7.750000</td>\n",
       "      <td>16.620000</td>\n",
       "      <td>36.100000</td>\n",
       "      <td>38.030000</td>\n",
       "      <td>45.800000</td>\n",
       "      <td>56.450000</td>\n",
       "      <td>67.420000</td>\n",
       "      <td>76.100000</td>\n",
       "      <td>80.600000</td>\n",
       "      <td>3.080000</td>\n",
       "      <td>18.000000</td>\n",
       "    </tr>\n",
       "    <tr>\n",
       "      <th>1%</th>\n",
       "      <td>17.870000</td>\n",
       "      <td>35.800000</td>\n",
       "      <td>72.409900</td>\n",
       "      <td>76.420000</td>\n",
       "      <td>90.950000</td>\n",
       "      <td>109.946500</td>\n",
       "      <td>129.700000</td>\n",
       "      <td>149.536600</td>\n",
       "      <td>158.323300</td>\n",
       "      <td>6.050000</td>\n",
       "      <td>21.000000</td>\n",
       "    </tr>\n",
       "    <tr>\n",
       "      <th>25%</th>\n",
       "      <td>22.620000</td>\n",
       "      <td>45.350000</td>\n",
       "      <td>91.670000</td>\n",
       "      <td>96.750000</td>\n",
       "      <td>115.430000</td>\n",
       "      <td>140.500000</td>\n",
       "      <td>166.935000</td>\n",
       "      <td>193.605000</td>\n",
       "      <td>205.280000</td>\n",
       "      <td>7.830000</td>\n",
       "      <td>33.000000</td>\n",
       "    </tr>\n",
       "    <tr>\n",
       "      <th>50%</th>\n",
       "      <td>25.050000</td>\n",
       "      <td>50.280000</td>\n",
       "      <td>101.980000</td>\n",
       "      <td>107.680000</td>\n",
       "      <td>128.830000</td>\n",
       "      <td>157.480000</td>\n",
       "      <td>187.830000</td>\n",
       "      <td>218.450000</td>\n",
       "      <td>231.925000</td>\n",
       "      <td>8.850000</td>\n",
       "      <td>42.000000</td>\n",
       "    </tr>\n",
       "    <tr>\n",
       "      <th>75%</th>\n",
       "      <td>28.380000</td>\n",
       "      <td>56.980000</td>\n",
       "      <td>116.127500</td>\n",
       "      <td>122.650000</td>\n",
       "      <td>147.670000</td>\n",
       "      <td>182.150000</td>\n",
       "      <td>219.320000</td>\n",
       "      <td>256.480000</td>\n",
       "      <td>272.150000</td>\n",
       "      <td>10.380000</td>\n",
       "      <td>50.000000</td>\n",
       "    </tr>\n",
       "    <tr>\n",
       "      <th>99.99%</th>\n",
       "      <td>43.184276</td>\n",
       "      <td>88.012037</td>\n",
       "      <td>185.535050</td>\n",
       "      <td>195.971010</td>\n",
       "      <td>239.442205</td>\n",
       "      <td>297.180791</td>\n",
       "      <td>359.244225</td>\n",
       "      <td>412.286009</td>\n",
       "      <td>436.658535</td>\n",
       "      <td>16.745505</td>\n",
       "      <td>81.000000</td>\n",
       "    </tr>\n",
       "    <tr>\n",
       "      <th>max</th>\n",
       "      <td>45.680000</td>\n",
       "      <td>91.080000</td>\n",
       "      <td>189.020000</td>\n",
       "      <td>198.450000</td>\n",
       "      <td>243.030000</td>\n",
       "      <td>300.730000</td>\n",
       "      <td>365.620000</td>\n",
       "      <td>433.280000</td>\n",
       "      <td>461.870000</td>\n",
       "      <td>17.620000</td>\n",
       "      <td>81.000000</td>\n",
       "    </tr>\n",
       "  </tbody>\n",
       "</table>\n",
       "</div>"
      ],
      "text/plain": [
       "                  5k           10k           20k          half           25k  \\\n",
       "count   31634.000000  31634.000000  31634.000000  31634.000000  31634.000000   \n",
       "mean       25.669532     51.613942    105.290512    111.178781    133.538698   \n",
       "std         4.186585      8.677743     19.098049     20.241443     25.483550   \n",
       "min         7.750000     16.620000     36.100000     38.030000     45.800000   \n",
       "1%         17.870000     35.800000     72.409900     76.420000     90.950000   \n",
       "25%        22.620000     45.350000     91.670000     96.750000    115.430000   \n",
       "50%        25.050000     50.280000    101.980000    107.680000    128.830000   \n",
       "75%        28.380000     56.980000    116.127500    122.650000    147.670000   \n",
       "99.99%     43.184276     88.012037    185.535050    195.971010    239.442205   \n",
       "max        45.680000     91.080000    189.020000    198.450000    243.030000   \n",
       "\n",
       "                 30k           35k           40k      official          pace  \\\n",
       "count   31634.000000  31634.000000  31634.000000  31634.000000  31634.000000   \n",
       "mean      163.838788    195.967822    228.116993    241.876447      9.233566   \n",
       "std        32.769477     40.641083     47.933124     50.697346      1.933606   \n",
       "min        56.450000     67.420000     76.100000     80.600000      3.080000   \n",
       "1%        109.946500    129.700000    149.536600    158.323300      6.050000   \n",
       "25%       140.500000    166.935000    193.605000    205.280000      7.830000   \n",
       "50%       157.480000    187.830000    218.450000    231.925000      8.850000   \n",
       "75%       182.150000    219.320000    256.480000    272.150000     10.380000   \n",
       "99.99%    297.180791    359.244225    412.286009    436.658535     16.745505   \n",
       "max       300.730000    365.620000    433.280000    461.870000     17.620000   \n",
       "\n",
       "                 age  \n",
       "count   31634.000000  \n",
       "mean       42.379339  \n",
       "std        11.296433  \n",
       "min        18.000000  \n",
       "1%         21.000000  \n",
       "25%        33.000000  \n",
       "50%        42.000000  \n",
       "75%        50.000000  \n",
       "99.99%     81.000000  \n",
       "max        81.000000  "
      ]
     },
     "execution_count": 24,
     "metadata": {},
     "output_type": "execute_result"
    }
   ],
   "source": [
    "df.describe(percentiles=[0.01, 0.25, 0.75, 0.9999])"
   ]
  },
  {
   "cell_type": "code",
   "execution_count": 25,
   "metadata": {},
   "outputs": [],
   "source": [
    "df.to_csv('data_clean_noOutliers.csv', index=False)"
   ]
  }
 ],
 "metadata": {
  "kernelspec": {
   "display_name": "Python 3",
   "language": "python",
   "name": "python3"
  },
  "language_info": {
   "codemirror_mode": {
    "name": "ipython",
    "version": 3
   },
   "file_extension": ".py",
   "mimetype": "text/x-python",
   "name": "python",
   "nbconvert_exporter": "python",
   "pygments_lexer": "ipython3",
   "version": "3.7.6"
  }
 },
 "nbformat": 4,
 "nbformat_minor": 4
}
