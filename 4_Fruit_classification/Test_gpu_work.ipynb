{
 "cells": [
  {
   "cell_type": "code",
   "execution_count": 2,
   "metadata": {},
   "outputs": [
    {
     "name": "stdout",
     "output_type": "stream",
     "text": [
      "Train on 60000 samples\n",
      "Epoch 1/25\n",
      "60000/60000 [==============================] - 2s 40us/sample - loss: 0.2935 - acc: 0.9152\n",
      "Epoch 2/25\n",
      "60000/60000 [==============================] - 2s 39us/sample - loss: 0.1445 - acc: 0.9564\n",
      "Epoch 3/25\n",
      "60000/60000 [==============================] - 2s 37us/sample - loss: 0.1079 - acc: 0.9671\n",
      "Epoch 4/25\n",
      "60000/60000 [==============================] - 2s 37us/sample - loss: 0.0884 - acc: 0.9722\n",
      "Epoch 5/25\n",
      "60000/60000 [==============================] - 2s 38us/sample - loss: 0.0753 - acc: 0.9768\n",
      "Epoch 6/25\n",
      "60000/60000 [==============================] - 2s 40us/sample - loss: 0.0646 - acc: 0.9791\n",
      "Epoch 7/25\n",
      "60000/60000 [==============================] - 2s 38us/sample - loss: 0.0588 - acc: 0.9815\n",
      "Epoch 8/25\n",
      "60000/60000 [==============================] - 2s 39us/sample - loss: 0.0525 - acc: 0.9829\n",
      "Epoch 9/25\n",
      "60000/60000 [==============================] - 2s 38us/sample - loss: 0.0473 - acc: 0.9843\n",
      "Epoch 10/25\n",
      "60000/60000 [==============================] - 2s 40us/sample - loss: 0.0430 - acc: 0.9850\n",
      "Epoch 11/25\n",
      "60000/60000 [==============================] - 2s 37us/sample - loss: 0.0430 - acc: 0.9852\n",
      "Epoch 12/25\n",
      "60000/60000 [==============================] - 2s 37us/sample - loss: 0.0380 - acc: 0.9870\n",
      "Epoch 13/25\n",
      "60000/60000 [==============================] - 2s 38us/sample - loss: 0.0364 - acc: 0.9873\n",
      "Epoch 14/25\n",
      "60000/60000 [==============================] - 2s 37us/sample - loss: 0.0319 - acc: 0.9895\n",
      "Epoch 15/25\n",
      "60000/60000 [==============================] - 2s 37us/sample - loss: 0.0328 - acc: 0.9886\n",
      "Epoch 16/25\n",
      "60000/60000 [==============================] - 2s 37us/sample - loss: 0.0307 - acc: 0.9894\n",
      "Epoch 17/25\n",
      "60000/60000 [==============================] - 2s 38us/sample - loss: 0.0299 - acc: 0.9899\n",
      "Epoch 18/25\n",
      "60000/60000 [==============================] - 2s 38us/sample - loss: 0.0257 - acc: 0.9911\n",
      "Epoch 19/25\n",
      "60000/60000 [==============================] - 2s 37us/sample - loss: 0.0267 - acc: 0.9911\n",
      "Epoch 20/25\n",
      "60000/60000 [==============================] - 2s 37us/sample - loss: 0.0248 - acc: 0.9916\n",
      "Epoch 21/25\n",
      "60000/60000 [==============================] - 2s 37us/sample - loss: 0.0253 - acc: 0.9910\n",
      "Epoch 22/25\n",
      "60000/60000 [==============================] - 2s 38us/sample - loss: 0.0237 - acc: 0.9916\n",
      "Epoch 23/25\n",
      "60000/60000 [==============================] - 2s 37us/sample - loss: 0.0253 - acc: 0.9910\n",
      "Epoch 24/25\n",
      "60000/60000 [==============================] - 2s 38us/sample - loss: 0.0216 - acc: 0.9923\n",
      "Epoch 25/25\n",
      "60000/60000 [==============================] - 2s 38us/sample - loss: 0.0224 - acc: 0.9922\n",
      "10000/10000 [==============================] - 0s 25us/sample - loss: 0.0867 - acc: 0.9809\n",
      "CPU times: user 1min 35s, sys: 6.1 s, total: 1min 41s\n",
      "Wall time: 57.8 s\n"
     ]
    },
    {
     "data": {
      "text/plain": [
       "[0.086695278668238465, 0.98089999]"
      ]
     },
     "execution_count": 2,
     "metadata": {},
     "output_type": "execute_result"
    }
   ],
   "source": [
    "# Dung chay nhe, day la ban lay lam chuan.\n",
    "# GPU chay 1p35s\n",
    "%%time\n",
    "\n",
    "import tensorflow as tf\n",
    "mnist = tf.keras.datasets.mnist\n",
    "\n",
    "(x_train, y_train),(x_test, y_test) = mnist.load_data()\n",
    "x_train, x_test = x_train / 255.0, x_test / 255.0\n",
    "\n",
    "model = tf.keras.models.Sequential([\n",
    "  tf.keras.layers.Flatten(input_shape=(28, 28)),\n",
    "  tf.keras.layers.Dense(128, activation='relu'),\n",
    "  tf.keras.layers.Dropout(0.2),\n",
    "  tf.keras.layers.Dense(10, activation='softmax')\n",
    "])\n",
    "\n",
    "model.compile(optimizer='adam',\n",
    "              loss='sparse_categorical_crossentropy',\n",
    "              metrics=['accuracy'])\n",
    "\n",
    "model.fit(x_train, y_train, epochs=25)\n",
    "model.evaluate(x_test, y_test)"
   ]
  },
  {
   "cell_type": "code",
   "execution_count": 4,
   "metadata": {},
   "outputs": [
    {
     "name": "stdout",
     "output_type": "stream",
     "text": [
      "Epoch 1/25\n",
      "1875/1875 [==============================] - 2s 1ms/step - loss: 0.2979 - accuracy: 0.9135\n",
      "Epoch 2/25\n",
      "1875/1875 [==============================] - 2s 1ms/step - loss: 0.1438 - accuracy: 0.9568\n",
      "Epoch 3/25\n",
      "1875/1875 [==============================] - 2s 941us/step - loss: 0.1071 - accuracy: 0.9674\n",
      "Epoch 4/25\n",
      "1875/1875 [==============================] - 2s 921us/step - loss: 0.0874 - accuracy: 0.9731\n",
      "Epoch 5/25\n",
      "1875/1875 [==============================] - 2s 927us/step - loss: 0.0751 - accuracy: 0.9760\n",
      "Epoch 6/25\n",
      "1875/1875 [==============================] - 2s 915us/step - loss: 0.0657 - accuracy: 0.9789\n",
      "Epoch 7/25\n",
      "1875/1875 [==============================] - 2s 975us/step - loss: 0.0587 - accuracy: 0.9806\n",
      "Epoch 8/25\n",
      "1875/1875 [==============================] - 2s 923us/step - loss: 0.0528 - accuracy: 0.9832\n",
      "Epoch 9/25\n",
      "1875/1875 [==============================] - 2s 942us/step - loss: 0.0497 - accuracy: 0.9834\n",
      "Epoch 10/25\n",
      "1875/1875 [==============================] - 2s 893us/step - loss: 0.0443 - accuracy: 0.9855\n",
      "Epoch 11/25\n",
      "1875/1875 [==============================] - 2s 1ms/step - loss: 0.0430 - accuracy: 0.9854\n",
      "Epoch 12/25\n",
      "1875/1875 [==============================] - 2s 960us/step - loss: 0.0370 - accuracy: 0.9877\n",
      "Epoch 13/25\n",
      "1875/1875 [==============================] - 2s 868us/step - loss: 0.0373 - accuracy: 0.9873\n",
      "Epoch 14/25\n",
      "1875/1875 [==============================] - 2s 911us/step - loss: 0.0345 - accuracy: 0.9881\n",
      "Epoch 15/25\n",
      "1875/1875 [==============================] - 2s 944us/step - loss: 0.0317 - accuracy: 0.9889\n",
      "Epoch 16/25\n",
      "1875/1875 [==============================] - 2s 932us/step - loss: 0.0312 - accuracy: 0.9894\n",
      "Epoch 17/25\n",
      "1875/1875 [==============================] - 2s 862us/step - loss: 0.0292 - accuracy: 0.9901\n",
      "Epoch 18/25\n",
      "1875/1875 [==============================] - 2s 927us/step - loss: 0.0270 - accuracy: 0.9904\n",
      "Epoch 19/25\n",
      "1875/1875 [==============================] - 2s 926us/step - loss: 0.0276 - accuracy: 0.9907\n",
      "Epoch 20/25\n",
      "1875/1875 [==============================] - 2s 825us/step - loss: 0.0256 - accuracy: 0.9912\n",
      "Epoch 21/25\n",
      "1875/1875 [==============================] - 2s 937us/step - loss: 0.0257 - accuracy: 0.9911\n",
      "Epoch 22/25\n",
      "1875/1875 [==============================] - 2s 904us/step - loss: 0.0251 - accuracy: 0.9914\n",
      "Epoch 23/25\n",
      "1875/1875 [==============================] - 2s 895us/step - loss: 0.0222 - accuracy: 0.9926\n",
      "Epoch 24/25\n",
      "1875/1875 [==============================] - 2s 894us/step - loss: 0.0225 - accuracy: 0.9927\n",
      "Epoch 25/25\n",
      "1875/1875 [==============================] - 2s 838us/step - loss: 0.0224 - accuracy: 0.9922\n",
      "313/313 [==============================] - 0s 802us/step - loss: 0.0880 - accuracy: 0.9811\n",
      "CPU times: user 1min 7s, sys: 6.09 s, total: 1min 13s\n",
      "Wall time: 44.4 s\n"
     ]
    },
    {
     "data": {
      "text/plain": [
       "[0.08796022087335587, 0.9811000227928162]"
      ]
     },
     "execution_count": 4,
     "metadata": {},
     "output_type": "execute_result"
    }
   ],
   "source": [
    "%%time\n",
    "\n",
    "import tensorflow as tf\n",
    "mnist = tf.keras.datasets.mnist\n",
    "\n",
    "(x_train, y_train),(x_test, y_test) = mnist.load_data()\n",
    "x_train, x_test = x_train / 255.0, x_test / 255.0\n",
    "\n",
    "model = tf.keras.models.Sequential([\n",
    "  tf.keras.layers.Flatten(input_shape=(28, 28)),\n",
    "  tf.keras.layers.Dense(128, activation='relu'),\n",
    "  tf.keras.layers.Dropout(0.2),\n",
    "  tf.keras.layers.Dense(10, activation='softmax')\n",
    "])\n",
    "\n",
    "model.compile(optimizer='adam',\n",
    "              loss='sparse_categorical_crossentropy',\n",
    "              metrics=['accuracy'])\n",
    "\n",
    "model.fit(x_train, y_train, epochs=25)\n",
    "model.evaluate(x_test, y_test)"
   ]
  },
  {
   "cell_type": "code",
   "execution_count": 2,
   "metadata": {},
   "outputs": [
    {
     "data": {
      "text/plain": [
       "'2.2.0'"
      ]
     },
     "execution_count": 2,
     "metadata": {},
     "output_type": "execute_result"
    }
   ],
   "source": [
    "tf.__version__"
   ]
  }
 ],
 "metadata": {
  "kernelspec": {
   "display_name": "Python 3",
   "language": "python",
   "name": "python3"
  },
  "language_info": {
   "codemirror_mode": {
    "name": "ipython",
    "version": 3
   },
   "file_extension": ".py",
   "mimetype": "text/x-python",
   "name": "python",
   "nbconvert_exporter": "python",
   "pygments_lexer": "ipython3",
   "version": "3.7.6"
  }
 },
 "nbformat": 4,
 "nbformat_minor": 4
}
