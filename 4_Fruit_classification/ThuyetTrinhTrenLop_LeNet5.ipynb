{
 "cells": [
  {
   "cell_type": "code",
   "execution_count": 1,
   "metadata": {},
   "outputs": [
    {
     "name": "stderr",
     "output_type": "stream",
     "text": [
      "Using TensorFlow backend.\n"
     ]
    }
   ],
   "source": [
    "import keras as k\n",
    "import tensorflow as tf\n",
    "\n",
    "from keras.models import Sequential\n",
    "from keras.layers import Dense, Flatten, Conv2D, AveragePooling2D\n"
   ]
  },
  {
   "cell_type": "code",
   "execution_count": 48,
   "metadata": {},
   "outputs": [
    {
     "name": "stdout",
     "output_type": "stream",
     "text": [
      "Found 1409 images belonging to 3 classes.\n",
      "Found 473 images belonging to 3 classes.\n"
     ]
    }
   ],
   "source": [
    "# Datasets for models\n",
    "from keras.preprocessing.image import ImageDataGenerator\n",
    "\n",
    "# create generator\n",
    "datagen = ImageDataGenerator()\n",
    "\n",
    "# prepare an iterators for each dataset\n",
    "train_shit = datagen.flow_from_directory('train_smaller', \n",
    "                                        target_size=(32, 32),\n",
    "                                        class_mode='categorical',\n",
    "                                        shuffle=True,\n",
    "                                     batch_size=8)\n",
    "\n",
    "test_shit = datagen.flow_from_directory('test_smaller',\n",
    "                                       target_size=(32, 32),\n",
    "                                       class_mode='categorical',\n",
    "                                       shuffle=True,\n",
    "                                   batch_size=8)"
   ]
  },
  {
   "cell_type": "code",
   "execution_count": 45,
   "metadata": {},
   "outputs": [
    {
     "name": "stdout",
     "output_type": "stream",
     "text": [
      "Found 277 images belonging to 3 classes.\n",
      "Found 473 images belonging to 3 classes.\n"
     ]
    }
   ],
   "source": [
    "from keras.preprocessing.image import ImageDataGenerator\n",
    "\n",
    "imgGen = ImageDataGenerator()\n",
    "\n",
    "train = imgGen.flow_from_directory(directory='train_handmade',\n",
    "                                               target_size=(32, 32),\n",
    "                                               color_mode='rgb',\n",
    "                                               class_mode='categorical',\n",
    "                                               batch_size=8,\n",
    "                                               shuffle=True,\n",
    "                                               save_to_dir='train_saved')\n",
    "\n",
    "test = imgGen.flow_from_directory(directory='test_smaller',\n",
    "                                               target_size=(32, 32),\n",
    "                                               color_mode='rgb',\n",
    "                                               class_mode='categorical',\n",
    "                                               batch_size=8,\n",
    "                                               shuffle=True,\n",
    "                                               save_to_dir='train_saved')"
   ]
  },
  {
   "cell_type": "code",
   "execution_count": 7,
   "metadata": {},
   "outputs": [
    {
     "name": "stdout",
     "output_type": "stream",
     "text": [
      "Model: \"sequential_1\"\n",
      "_________________________________________________________________\n",
      "Layer (type)                 Output Shape              Param #   \n",
      "=================================================================\n",
      "conv2d_1 (Conv2D)            (None, 28, 28, 6)         456       \n",
      "_________________________________________________________________\n",
      "average_pooling2d_1 (Average (None, 14, 14, 6)         0         \n",
      "_________________________________________________________________\n",
      "conv2d_2 (Conv2D)            (None, 12, 12, 16)        880       \n",
      "_________________________________________________________________\n",
      "average_pooling2d_2 (Average (None, 6, 6, 16)          0         \n",
      "_________________________________________________________________\n",
      "flatten_1 (Flatten)          (None, 576)               0         \n",
      "_________________________________________________________________\n",
      "dense_1 (Dense)              (None, 120)               69240     \n",
      "_________________________________________________________________\n",
      "dense_2 (Dense)              (None, 84)                10164     \n",
      "_________________________________________________________________\n",
      "dense_3 (Dense)              (None, 3)                 255       \n",
      "=================================================================\n",
      "Total params: 80,995\n",
      "Trainable params: 80,995\n",
      "Non-trainable params: 0\n",
      "_________________________________________________________________\n"
     ]
    }
   ],
   "source": [
    "# LeNet-5\n",
    "lenet5 = Sequential()\n",
    "\n",
    "lenet5.add(Conv2D(filters=6, input_shape=(32, 32, 3), kernel_size=5, strides=1, activation='relu'))\n",
    "lenet5.add(AveragePooling2D())\n",
    "\n",
    "lenet5.add(Conv2D(filters=16, kernel_size=(3, 3), activation='relu'))\n",
    "lenet5.add(AveragePooling2D())\n",
    "\n",
    "lenet5.add(Flatten())\n",
    "\n",
    "lenet5.add(Dense(units=120, activation='relu'))\n",
    "\n",
    "lenet5.add(Dense(units=84, activation='relu'))\n",
    "\n",
    "lenet5.add(Dense(units=3, activation = 'softmax'))\n",
    "\n",
    "lenet5.summary()\n"
   ]
  },
  {
   "cell_type": "code",
   "execution_count": 8,
   "metadata": {},
   "outputs": [],
   "source": [
    "lenet5.compile(loss='categorical_crossentropy',\n",
    "               optimizer='adam')"
   ]
  },
  {
   "cell_type": "code",
   "execution_count": 13,
   "metadata": {},
   "outputs": [],
   "source": [
    "%load_ext tensorboard"
   ]
  },
  {
   "cell_type": "code",
   "execution_count": 17,
   "metadata": {},
   "outputs": [],
   "source": [
    "import datetime\n",
    "\n",
    "log_dir = \"logs/fit/\" + datetime.datetime.now().strftime(\"%Y%m%d-%H%M%S\")\n",
    "tensorboard_callback = tf.keras.callbacks.TensorBoard(log_dir=log_dir, histogram_freq=1)\n"
   ]
  },
  {
   "cell_type": "code",
   "execution_count": 38,
   "metadata": {
    "collapsed": true,
    "jupyter": {
     "outputs_hidden": true
    }
   },
   "outputs": [
    {
     "name": "stdout",
     "output_type": "stream",
     "text": [
      "Epoch 1/100\n",
      "14/14 [==============================] - 0s 7ms/step - loss: 0.0000e+00\n",
      "Epoch 2/100\n",
      "14/14 [==============================] - 0s 8ms/step - loss: 0.0000e+00\n",
      "Epoch 3/100\n",
      "14/14 [==============================] - 0s 9ms/step - loss: 0.0000e+00\n",
      "Epoch 4/100\n",
      "14/14 [==============================] - 0s 8ms/step - loss: 0.0000e+00\n",
      "Epoch 5/100\n",
      "14/14 [==============================] - 0s 7ms/step - loss: 0.0000e+00\n",
      "Epoch 6/100\n",
      "14/14 [==============================] - 0s 8ms/step - loss: 0.0000e+00\n",
      "Epoch 7/100\n",
      "14/14 [==============================] - 0s 8ms/step - loss: 0.0000e+00\n",
      "Epoch 8/100\n",
      "14/14 [==============================] - 0s 8ms/step - loss: 0.0000e+00\n",
      "Epoch 9/100\n",
      "14/14 [==============================] - 0s 9ms/step - loss: 0.0000e+00\n",
      "Epoch 10/100\n",
      "14/14 [==============================] - 0s 8ms/step - loss: 0.0000e+00\n",
      "Epoch 11/100\n",
      "14/14 [==============================] - 0s 6ms/step - loss: 0.0000e+00\n",
      "Epoch 12/100\n",
      "14/14 [==============================] - 0s 9ms/step - loss: 0.0000e+00\n",
      "Epoch 13/100\n",
      "14/14 [==============================] - 0s 8ms/step - loss: 0.0000e+00\n",
      "Epoch 14/100\n",
      "14/14 [==============================] - 0s 9ms/step - loss: 0.0000e+00\n",
      "Epoch 15/100\n",
      "14/14 [==============================] - 0s 9ms/step - loss: 0.0000e+00\n",
      "Epoch 16/100\n",
      "14/14 [==============================] - 0s 9ms/step - loss: 0.0000e+00\n",
      "Epoch 17/100\n",
      "14/14 [==============================] - 0s 8ms/step - loss: 0.0000e+00\n",
      "Epoch 18/100\n",
      "14/14 [==============================] - 0s 8ms/step - loss: 0.0000e+00\n",
      "Epoch 19/100\n",
      "14/14 [==============================] - 0s 6ms/step - loss: 0.0000e+00\n",
      "Epoch 20/100\n",
      "14/14 [==============================] - 0s 9ms/step - loss: 0.0000e+00\n",
      "Epoch 21/100\n",
      "14/14 [==============================] - 0s 6ms/step - loss: 0.0000e+00\n",
      "Epoch 22/100\n",
      "14/14 [==============================] - 0s 8ms/step - loss: 0.0000e+00\n",
      "Epoch 23/100\n",
      "14/14 [==============================] - 0s 8ms/step - loss: 0.0000e+00\n",
      "Epoch 24/100\n",
      "14/14 [==============================] - 0s 8ms/step - loss: 0.0000e+00\n",
      "Epoch 25/100\n",
      "14/14 [==============================] - 0s 8ms/step - loss: 0.0000e+00\n",
      "Epoch 26/100\n",
      "14/14 [==============================] - 0s 6ms/step - loss: 0.0000e+00\n",
      "Epoch 27/100\n",
      "14/14 [==============================] - 0s 8ms/step - loss: 0.0000e+00\n",
      "Epoch 28/100\n",
      "14/14 [==============================] - 0s 9ms/step - loss: 0.0000e+00\n",
      "Epoch 29/100\n",
      "14/14 [==============================] - 0s 6ms/step - loss: 0.0000e+00\n",
      "Epoch 30/100\n",
      "14/14 [==============================] - 0s 6ms/step - loss: 0.0000e+00\n",
      "Epoch 31/100\n",
      "14/14 [==============================] - 0s 6ms/step - loss: 0.0000e+00\n",
      "Epoch 32/100\n",
      "14/14 [==============================] - 0s 9ms/step - loss: 0.0000e+00\n",
      "Epoch 33/100\n",
      "14/14 [==============================] - 0s 6ms/step - loss: 0.0000e+00\n",
      "Epoch 34/100\n",
      "14/14 [==============================] - 0s 6ms/step - loss: 0.0000e+00\n",
      "Epoch 35/100\n",
      "14/14 [==============================] - 0s 9ms/step - loss: 0.0000e+00\n",
      "Epoch 36/100\n",
      "14/14 [==============================] - 0s 8ms/step - loss: 0.0000e+00\n",
      "Epoch 37/100\n",
      "14/14 [==============================] - 0s 6ms/step - loss: 0.0000e+00\n",
      "Epoch 38/100\n",
      "14/14 [==============================] - 0s 8ms/step - loss: 0.0000e+00\n",
      "Epoch 39/100\n",
      "14/14 [==============================] - 0s 6ms/step - loss: 0.0000e+00\n",
      "Epoch 40/100\n",
      "14/14 [==============================] - 0s 6ms/step - loss: 0.0000e+00\n",
      "Epoch 41/100\n",
      "14/14 [==============================] - 0s 6ms/step - loss: 0.0000e+00\n",
      "Epoch 42/100\n",
      "14/14 [==============================] - 0s 9ms/step - loss: 0.0000e+00\n",
      "Epoch 43/100\n",
      "14/14 [==============================] - 0s 6ms/step - loss: 0.0000e+00\n",
      "Epoch 44/100\n",
      "14/14 [==============================] - 0s 8ms/step - loss: 0.0000e+00\n",
      "Epoch 45/100\n",
      "14/14 [==============================] - 0s 9ms/step - loss: 0.0000e+00\n",
      "Epoch 46/100\n",
      "14/14 [==============================] - 0s 8ms/step - loss: 0.0000e+00\n",
      "Epoch 47/100\n",
      "14/14 [==============================] - 0s 9ms/step - loss: 0.0000e+00\n",
      "Epoch 48/100\n",
      "14/14 [==============================] - 0s 9ms/step - loss: 0.0000e+00\n",
      "Epoch 49/100\n",
      "14/14 [==============================] - 0s 9ms/step - loss: 0.0000e+00\n",
      "Epoch 50/100\n",
      "14/14 [==============================] - 0s 6ms/step - loss: 0.0000e+00\n",
      "Epoch 51/100\n",
      "14/14 [==============================] - 0s 9ms/step - loss: 0.0000e+00A: 0s - loss: 0.0000e+0\n",
      "Epoch 52/100\n",
      "14/14 [==============================] - 0s 6ms/step - loss: 0.0000e+00\n",
      "Epoch 53/100\n",
      "14/14 [==============================] - 0s 8ms/step - loss: 0.0000e+00\n",
      "Epoch 54/100\n",
      "14/14 [==============================] - 0s 8ms/step - loss: 0.0000e+00\n",
      "Epoch 55/100\n",
      "14/14 [==============================] - 0s 6ms/step - loss: 0.0000e+00\n",
      "Epoch 56/100\n",
      "14/14 [==============================] - 0s 6ms/step - loss: 0.0000e+00\n",
      "Epoch 57/100\n",
      "14/14 [==============================] - 0s 7ms/step - loss: 0.0000e+00\n",
      "Epoch 58/100\n",
      "14/14 [==============================] - 0s 8ms/step - loss: 0.0000e+00\n",
      "Epoch 59/100\n",
      "14/14 [==============================] - 0s 6ms/step - loss: 0.0000e+00\n",
      "Epoch 60/100\n",
      "14/14 [==============================] - 0s 8ms/step - loss: 0.0000e+00\n",
      "Epoch 61/100\n",
      "14/14 [==============================] - 0s 6ms/step - loss: 0.0000e+00\n",
      "Epoch 62/100\n",
      "14/14 [==============================] - 0s 6ms/step - loss: 0.0000e+00\n",
      "Epoch 63/100\n",
      "14/14 [==============================] - 0s 6ms/step - loss: 0.0000e+00\n",
      "Epoch 64/100\n",
      "14/14 [==============================] - 0s 10ms/step - loss: 0.0000e+00\n",
      "Epoch 65/100\n",
      "14/14 [==============================] - 0s 9ms/step - loss: 0.0000e+00\n",
      "Epoch 66/100\n",
      "14/14 [==============================] - 0s 7ms/step - loss: 0.0000e+00\n",
      "Epoch 67/100\n",
      "14/14 [==============================] - 0s 10ms/step - loss: 0.0000e+00\n",
      "Epoch 68/100\n",
      "14/14 [==============================] - 0s 6ms/step - loss: 0.0000e+00\n",
      "Epoch 69/100\n",
      "14/14 [==============================] - 0s 10ms/step - loss: 0.0000e+00\n",
      "Epoch 70/100\n",
      "14/14 [==============================] - 0s 7ms/step - loss: 0.0000e+00\n",
      "Epoch 71/100\n",
      "14/14 [==============================] - 0s 6ms/step - loss: 0.0000e+00\n",
      "Epoch 72/100\n",
      "14/14 [==============================] - 0s 8ms/step - loss: 0.0000e+00\n",
      "Epoch 73/100\n",
      "14/14 [==============================] - 0s 9ms/step - loss: 0.0000e+00\n",
      "Epoch 74/100\n",
      "14/14 [==============================] - 0s 8ms/step - loss: 0.0000e+00\n",
      "Epoch 75/100\n",
      "14/14 [==============================] - 0s 6ms/step - loss: 0.0000e+00\n",
      "Epoch 76/100\n",
      "14/14 [==============================] - 0s 9ms/step - loss: 0.0000e+00\n",
      "Epoch 77/100\n",
      "14/14 [==============================] - 0s 8ms/step - loss: 0.0000e+00\n",
      "Epoch 78/100\n",
      "14/14 [==============================] - 0s 6ms/step - loss: 0.0000e+00\n",
      "Epoch 79/100\n",
      "14/14 [==============================] - 0s 8ms/step - loss: 0.0000e+00\n",
      "Epoch 80/100\n",
      "14/14 [==============================] - 0s 7ms/step - loss: 0.0000e+00\n",
      "Epoch 81/100\n",
      "14/14 [==============================] - 0s 6ms/step - loss: 0.0000e+00\n",
      "Epoch 82/100\n",
      "14/14 [==============================] - 0s 8ms/step - loss: 0.0000e+00\n",
      "Epoch 83/100\n",
      "14/14 [==============================] - 0s 8ms/step - loss: 0.0000e+00\n",
      "Epoch 84/100\n",
      "14/14 [==============================] - 0s 7ms/step - loss: 0.0000e+00\n",
      "Epoch 85/100\n",
      "14/14 [==============================] - 0s 6ms/step - loss: 0.0000e+00\n",
      "Epoch 86/100\n",
      "14/14 [==============================] - 0s 8ms/step - loss: 0.0000e+00\n",
      "Epoch 87/100\n",
      "14/14 [==============================] - 0s 8ms/step - loss: 0.0000e+00\n",
      "Epoch 88/100\n",
      "14/14 [==============================] - 0s 8ms/step - loss: 0.0000e+00\n",
      "Epoch 89/100\n",
      "14/14 [==============================] - 0s 8ms/step - loss: 0.0000e+00\n",
      "Epoch 90/100\n",
      "14/14 [==============================] - 0s 9ms/step - loss: 0.0000e+00\n",
      "Epoch 91/100\n",
      "14/14 [==============================] - 0s 8ms/step - loss: 0.0000e+00\n",
      "Epoch 92/100\n",
      "14/14 [==============================] - 0s 7ms/step - loss: 0.0000e+00\n",
      "Epoch 93/100\n",
      "14/14 [==============================] - 0s 8ms/step - loss: 0.0000e+00\n",
      "Epoch 94/100\n",
      "14/14 [==============================] - 0s 7ms/step - loss: 0.0000e+00\n",
      "Epoch 95/100\n",
      "14/14 [==============================] - 0s 8ms/step - loss: 0.0000e+00\n",
      "Epoch 96/100\n",
      "14/14 [==============================] - 0s 8ms/step - loss: 0.0000e+00\n",
      "Epoch 97/100\n",
      "14/14 [==============================] - 0s 9ms/step - loss: 0.0000e+00\n",
      "Epoch 98/100\n",
      "14/14 [==============================] - 0s 7ms/step - loss: 0.0000e+00\n",
      "Epoch 99/100\n",
      "14/14 [==============================] - 0s 6ms/step - loss: 0.0000e+00\n",
      "Epoch 100/100\n",
      "14/14 [==============================] - 0s 7ms/step - loss: 0.0000e+00\n"
     ]
    },
    {
     "data": {
      "text/plain": [
       "<keras.callbacks.callbacks.History at 0x7fe74075c2d0>"
      ]
     },
     "execution_count": 38,
     "metadata": {},
     "output_type": "execute_result"
    }
   ],
   "source": [
    "\n",
    "lenet5.fit(train,\n",
    "                    steps_per_epoch=None,\n",
    "                    epochs=100)"
   ]
  },
  {
   "cell_type": "code",
   "execution_count": 39,
   "metadata": {
    "collapsed": true,
    "jupyter": {
     "outputs_hidden": true
    }
   },
   "outputs": [
    {
     "name": "stdout",
     "output_type": "stream",
     "text": [
      "60/60 [==============================] - 0s 5ms/step\n",
      "0.0\n"
     ]
    }
   ],
   "source": [
    "print(lenet5.evaluate(test))"
   ]
  },
  {
   "cell_type": "code",
   "execution_count": 28,
   "metadata": {
    "collapsed": true,
    "jupyter": {
     "outputs_hidden": true,
     "source_hidden": true
    }
   },
   "outputs": [
    {
     "data": {
      "text/plain": [
       "Reusing TensorBoard on port 6006 (pid 15859), started 0:07:12 ago. (Use '!kill 15859' to kill it.)"
      ]
     },
     "metadata": {},
     "output_type": "display_data"
    },
    {
     "data": {
      "text/html": [
       "\n",
       "      <iframe id=\"tensorboard-frame-6cfde4df828af77d\" width=\"100%\" height=\"800\" frameborder=\"0\">\n",
       "      </iframe>\n",
       "      <script>\n",
       "        (function() {\n",
       "          const frame = document.getElementById(\"tensorboard-frame-6cfde4df828af77d\");\n",
       "          const url = new URL(\"/\", window.location);\n",
       "          url.port = 6006;\n",
       "          frame.src = url;\n",
       "        })();\n",
       "      </script>\n",
       "  "
      ],
      "text/plain": [
       "<IPython.core.display.HTML object>"
      ]
     },
     "metadata": {},
     "output_type": "display_data"
    }
   ],
   "source": [
    "%tensorboard --logdir logs/fit"
   ]
  },
  {
   "cell_type": "code",
   "execution_count": 50,
   "metadata": {},
   "outputs": [],
   "source": [
    "model = Sequential()\n",
    "\n",
    "model.add(Conv2D(filters=6, kernel_size=(3, 3), activation='relu', input_shape=(32,32,3)))\n",
    "model.add(AveragePooling2D())\n",
    "\n",
    "model.add(Conv2D(filters=16, kernel_size=(3, 3), activation='relu'))\n",
    "model.add(AveragePooling2D())\n",
    "\n",
    "model.add(Flatten())\n",
    "\n",
    "model.add(Dense(units=120, activation='relu'))\n",
    "\n",
    "model.add(Dense(units=84, activation='relu'))\n",
    "\n",
    "model.add(Dense(units=10, activation = 'relu'))\n",
    "\n",
    "model.add(Dense(units=3, activation = 'softmax'))"
   ]
  },
  {
   "cell_type": "code",
   "execution_count": 51,
   "metadata": {},
   "outputs": [
    {
     "name": "stdout",
     "output_type": "stream",
     "text": [
      "Epoch 1/30\n",
      "177/177 [==============================] - 1s 4ms/step - loss: 0.0813\n",
      "Epoch 2/30\n",
      "177/177 [==============================] - 1s 5ms/step - loss: 3.4651e-06\n",
      "Epoch 3/30\n",
      "177/177 [==============================] - 1s 4ms/step - loss: 1.2437e-06\n",
      "Epoch 4/30\n",
      "177/177 [==============================] - 1s 3ms/step - loss: 5.8688e-07\n",
      "Epoch 5/30\n",
      "177/177 [==============================] - 1s 7ms/step - loss: 3.1419e-07\n",
      "Epoch 6/30\n",
      "177/177 [==============================] - 1s 3ms/step - loss: 1.7722e-07\n",
      "Epoch 7/30\n",
      "177/177 [==============================] - 1s 4ms/step - loss: 1.0625e-07\n",
      "Epoch 8/30\n",
      "177/177 [==============================] - 1s 6ms/step - loss: 7.6276e-08\n",
      "Epoch 9/30\n",
      "177/177 [==============================] - 1s 6ms/step - loss: 6.0196e-08\n",
      "Epoch 10/30\n",
      "177/177 [==============================] - 1s 4ms/step - loss: 4.7645e-08\n",
      "Epoch 11/30\n",
      "177/177 [==============================] - 1s 4ms/step - loss: 3.9738e-08\n",
      "Epoch 12/30\n",
      "177/177 [==============================] - 1s 3ms/step - loss: 3.5855e-08\n",
      "Epoch 13/30\n",
      "177/177 [==============================] - 1s 4ms/step - loss: 3.1059e-08\n",
      "Epoch 14/30\n",
      "177/177 [==============================] - 1s 3ms/step - loss: 2.6099e-08\n",
      "Epoch 15/30\n",
      "177/177 [==============================] - 1s 3ms/step - loss: 2.4499e-08\n",
      "Epoch 16/30\n",
      "177/177 [==============================] - 1s 6ms/step - loss: 2.1637e-08\n",
      "Epoch 17/30\n",
      "177/177 [==============================] - 1s 6ms/step - loss: 1.8943e-08\n",
      "Epoch 18/30\n",
      "177/177 [==============================] - 1s 4ms/step - loss: 1.7764e-08\n",
      "Epoch 19/30\n",
      "177/177 [==============================] - 1s 5ms/step - loss: 1.5743e-08\n",
      "Epoch 20/30\n",
      "177/177 [==============================] - 1s 4ms/step - loss: 1.3218e-08\n",
      "Epoch 21/30\n",
      "177/177 [==============================] - 1s 4ms/step - loss: 1.1450e-08\n",
      "Epoch 22/30\n",
      "177/177 [==============================] - 1s 3ms/step - loss: 9.9344e-09\n",
      "Epoch 23/30\n",
      "177/177 [==============================] - 1s 3ms/step - loss: 9.0083e-09\n",
      "Epoch 24/30\n",
      "177/177 [==============================] - 1s 3ms/step - loss: 8.5032e-09\n",
      "Epoch 25/30\n",
      "177/177 [==============================] - 1s 4ms/step - loss: 8.0822e-09\n",
      "Epoch 26/30\n",
      "177/177 [==============================] - 1s 3ms/step - loss: 6.9036e-09\n",
      "Epoch 27/30\n",
      "177/177 [==============================] - 1s 4ms/step - loss: 6.7352e-09\n",
      "Epoch 28/30\n",
      "177/177 [==============================] - 2s 9ms/step - loss: 7.1561e-09\n",
      "Epoch 29/30\n",
      "177/177 [==============================] - 1s 8ms/step - loss: 8.4190e-09\n",
      "Epoch 30/30\n",
      "177/177 [==============================] - 1s 4ms/step - loss: 6.9877e-09\n",
      "60/60 [==============================] - 0s 5ms/step\n",
      "0.0\n"
     ]
    }
   ],
   "source": [
    "model.compile(loss='categorical_crossentropy', optimizer='adam')\n",
    "model.fit(train_shit, steps_per_epoch=None, epochs=30)\n",
    "\n",
    "print(model.evaluate(test))"
   ]
  }
 ],
 "metadata": {
  "kernelspec": {
   "display_name": "Python 3",
   "language": "python",
   "name": "python3"
  },
  "language_info": {
   "codemirror_mode": {
    "name": "ipython",
    "version": 3
   },
   "file_extension": ".py",
   "mimetype": "text/x-python",
   "name": "python",
   "nbconvert_exporter": "python",
   "pygments_lexer": "ipython3",
   "version": "3.7.6"
  }
 },
 "nbformat": 4,
 "nbformat_minor": 4
}
