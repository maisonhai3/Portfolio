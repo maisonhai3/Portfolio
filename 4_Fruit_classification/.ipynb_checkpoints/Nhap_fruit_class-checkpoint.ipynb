{
 "cells": [
  {
   "cell_type": "code",
   "execution_count": 3,
   "metadata": {},
   "outputs": [],
   "source": [
    "# Imports\n",
    "import os\n",
    "import matplotlib.pyplot as plt\n",
    "from PIL import Image\n",
    "import math\n"
   ]
  },
  {
   "cell_type": "code",
   "execution_count": 4,
   "metadata": {},
   "outputs": [],
   "source": [
    "# Imports\n",
    "from tensorflow.keras.models import Sequential\n",
    "from tensorflow.keras.layers import Dense, Flatten, Conv2D\n",
    "from tensorflow.keras.losses import sparse_categorical_crossentropy\n",
    "from tensorflow.keras.optimizers import Adam\n",
    "from tensorflow.keras.preprocessing.image import ImageDataGenerator"
   ]
  },
  {
   "cell_type": "code",
   "execution_count": 12,
   "metadata": {},
   "outputs": [
    {
     "name": "stdout",
     "output_type": "stream",
     "text": [
      "Num GPUs Available:  1\n"
     ]
    }
   ],
   "source": [
    "import tensorflow as tf\n",
    "print(\"Num GPUs Available: \", len(tf.config.experimental.list_physical_devices('GPU')))\n"
   ]
  },
  {
   "cell_type": "code",
   "execution_count": 14,
   "metadata": {},
   "outputs": [
    {
     "name": "stdout",
     "output_type": "stream",
     "text": [
      "tf.Tensor(\n",
      "[[22. 28.]\n",
      " [49. 64.]], shape=(2, 2), dtype=float32)\n"
     ]
    }
   ],
   "source": [
    "# tf.debugging.set_log_device_placement(True)\n",
    "\n",
    "# Create some tensors\n",
    "a = tf.constant([[1.0, 2.0, 3.0], [4.0, 5.0, 6.0]])\n",
    "b = tf.constant([[1.0, 2.0], [3.0, 4.0], [5.0, 6.0]])\n",
    "c = tf.matmul(a, b)\n",
    "\n",
    "print(c)"
   ]
  },
  {
   "cell_type": "code",
   "execution_count": 5,
   "metadata": {},
   "outputs": [],
   "source": [
    "# Data configuration\n",
    "training_set_folder = './Training_smaller'\n",
    "test_set_folder     = './Test_smaller'\n",
    "\n",
    "# Model configuration\n",
    "batch_size = 25\n",
    "img_width, img_height, img_num_channels = 25, 25, 3\n",
    "loss_function = sparse_categorical_crossentropy\n",
    "no_classes = 10\n",
    "no_epochs = 25\n",
    "optimizer = Adam()\n",
    "verbosity = 1"
   ]
  },
  {
   "cell_type": "code",
   "execution_count": 10,
   "metadata": {},
   "outputs": [
    {
     "name": "stdout",
     "output_type": "stream",
     "text": [
      "Found 4951 images belonging to 10 classes.\n"
     ]
    }
   ],
   "source": [
    "# Determine shape of the data\n",
    "input_shape = (img_width, img_height, img_num_channels)\n",
    "\n",
    "# Create a generator\n",
    "train_datagen = ImageDataGenerator(\n",
    "  rescale=1./255\n",
    ")\n",
    "train_datagen = train_datagen.flow_from_directory(\n",
    "        training_set_folder,\n",
    "        save_to_dir='./Data_generated',\n",
    "        save_format='jpeg',\n",
    "        batch_size=batch_size,\n",
    "        target_size=(25, 25),\n",
    "        class_mode='sparse')"
   ]
  },
  {
   "cell_type": "code",
   "execution_count": 7,
   "metadata": {},
   "outputs": [
    {
     "name": "stdout",
     "output_type": "stream",
     "text": [
      "Model: \"sequential\"\n",
      "_________________________________________________________________\n",
      "Layer (type)                 Output Shape              Param #   \n",
      "=================================================================\n",
      "conv2d (Conv2D)              (None, 21, 21, 16)        1216      \n",
      "_________________________________________________________________\n",
      "conv2d_1 (Conv2D)            (None, 17, 17, 32)        12832     \n",
      "_________________________________________________________________\n",
      "conv2d_2 (Conv2D)            (None, 13, 13, 64)        51264     \n",
      "_________________________________________________________________\n",
      "conv2d_3 (Conv2D)            (None, 9, 9, 128)         204928    \n",
      "_________________________________________________________________\n",
      "flatten (Flatten)            (None, 10368)             0         \n",
      "_________________________________________________________________\n",
      "dense (Dense)                (None, 16)                165904    \n",
      "_________________________________________________________________\n",
      "dense_1 (Dense)              (None, 10)                170       \n",
      "=================================================================\n",
      "Total params: 436,314\n",
      "Trainable params: 436,314\n",
      "Non-trainable params: 0\n",
      "_________________________________________________________________\n"
     ]
    }
   ],
   "source": [
    "# Create the model\n",
    "model = Sequential()\n",
    "model.add(Conv2D(16, kernel_size=(5, 5), activation='relu', input_shape=input_shape))\n",
    "model.add(Conv2D(32, kernel_size=(5, 5), activation='relu'))\n",
    "model.add(Conv2D(64, kernel_size=(5, 5), activation='relu'))\n",
    "model.add(Conv2D(128, kernel_size=(5, 5), activation='relu'))\n",
    "model.add(Flatten())\n",
    "model.add(Dense(16, activation='relu'))\n",
    "model.add(Dense(no_classes, activation='softmax'))\n",
    "\n",
    "# Display a model summary\n",
    "model.summary()"
   ]
  },
  {
   "cell_type": "code",
   "execution_count": 11,
   "metadata": {
    "collapsed": true,
    "jupyter": {
     "outputs_hidden": true
    }
   },
   "outputs": [
    {
     "name": "stdout",
     "output_type": "stream",
     "text": [
      "WARNING:tensorflow:sample_weight modes were coerced from\n",
      "  ...\n",
      "    to  \n",
      "  ['...']\n",
      "Train for 199 steps\n",
      "Epoch 1/25\n",
      "199/199 [==============================] - 53s 264ms/step - loss: 0.6368 - accuracy: 0.7550\n",
      "Epoch 2/25\n",
      "199/199 [==============================] - 6s 30ms/step - loss: 0.0424 - accuracy: 0.9885 0s - loss: 0.0437 - accuracy: \n",
      "Epoch 3/25\n",
      "199/199 [==============================] - 6s 31ms/step - loss: 5.1031e-04 - accuracy: 0.9998\n",
      "Epoch 4/25\n",
      "199/199 [==============================] - 6s 32ms/step - loss: 1.1415e-04 - accuracy: 1.0000\n",
      "Epoch 5/25\n",
      "199/199 [==============================] - 6s 32ms/step - loss: 6.0149e-05 - accuracy: 1.0000\n",
      "Epoch 6/25\n",
      "199/199 [==============================] - 7s 37ms/step - loss: 4.0076e-05 - accuracy: 1.0000\n",
      "Epoch 7/25\n",
      "199/199 [==============================] - 7s 34ms/step - loss: 2.8529e-05 - accuracy: 1.0000\n",
      "Epoch 8/25\n",
      "199/199 [==============================] - 7s 36ms/step - loss: 2.1257e-05 - accuracy: 1.0000\n",
      "Epoch 9/25\n",
      "199/199 [==============================] - 7s 34ms/step - loss: 1.6351e-05 - accuracy: 1.0000\n",
      "Epoch 10/25\n",
      "199/199 [==============================] - 7s 36ms/step - loss: 1.2878e-05 - accuracy: 1.0000 1s - loss:\n",
      "Epoch 11/25\n",
      "199/199 [==============================] - 7s 36ms/step - loss: 1.0326e-05 - accuracy: 1.0000\n",
      "Epoch 12/25\n",
      "199/199 [==============================] - 7s 37ms/step - loss: 8.4083e-06 - accuracy: 1.0000\n",
      "Epoch 13/25\n",
      "199/199 [==============================] - 8s 40ms/step - loss: 6.9259e-06 - accuracy: 1.0000 2s - ETA: 1s - loss: 7.0944e - ETA: 0s - loss: 6.9663e-06 - \n",
      "Epoch 14/25\n",
      "199/199 [==============================] - 8s 38ms/step - loss: 5.7614e-06 - accuracy: 1.0000\n",
      "Epoch 15/25\n",
      "199/199 [==============================] - 8s 39ms/step - loss: 4.8325e-06 - accuracy: 1.0000\n",
      "Epoch 16/25\n",
      "199/199 [==============================] - 8s 40ms/step - loss: 4.0900e-06 - accuracy: 1.0000 0s - loss: 4.1336e-06 - accuracy: 1.\n",
      "Epoch 17/25\n",
      "199/199 [==============================] - 8s 39ms/step - loss: 3.4850e-06 - accuracy: 1.0000 5s - loss: 3.6437e-06 -  - E - ETA: 1s - loss:\n",
      "Epoch 18/25\n",
      "199/199 [==============================] - 8s 40ms/step - loss: 2.9874e-06 - accuracy: 1.0000 0s - loss: 3.0537e-06 - accura\n",
      "Epoch 19/25\n",
      "199/199 [==============================] - 8s 38ms/step - loss: 2.5740e-06 - accuracy: 1.0000\n",
      "Epoch 20/25\n",
      "199/199 [==============================] - 8s 42ms/step - loss: 2.2275e-06 - accuracy: 1.0000\n",
      "Epoch 21/25\n",
      "199/199 [==============================] - 8s 40ms/step - loss: 1.9354e-06 - accuracy: 1.0000\n",
      "Epoch 22/25\n",
      "199/199 [==============================] - 7s 37ms/step - loss: 1.6874e-06 - accuracy: 1.0000 0s - loss: 1.7\n",
      "Epoch 23/25\n",
      "199/199 [==============================] - 8s 40ms/step - loss: 1.4760e-06 - accuracy: 1.0000\n",
      "Epoch 24/25\n",
      "199/199 [==============================] - 7s 37ms/step - loss: 1.2945e-06 - accuracy: 1.0000\n",
      "Epoch 25/25\n",
      "199/199 [==============================] - 8s 40ms/step - loss: 1.1378e-06 - accuracy: 1.0000\n"
     ]
    },
    {
     "data": {
      "text/plain": [
       "<tensorflow.python.keras.callbacks.History at 0x20fdd05f148>"
      ]
     },
     "execution_count": 11,
     "metadata": {},
     "output_type": "execute_result"
    }
   ],
   "source": [
    "# Compile the model\n",
    "model.compile(loss=loss_function,\n",
    "              optimizer=optimizer,\n",
    "              metrics=['accuracy'])\n",
    "\n",
    "# Start training\n",
    "model.fit(\n",
    "        train_datagen,\n",
    "        epochs=no_epochs,\n",
    "        shuffle=False)"
   ]
  },
  {
   "cell_type": "code",
   "execution_count": 16,
   "metadata": {},
   "outputs": [
    {
     "ename": "AttributeError",
     "evalue": "module 'tensorflow' has no attribute 'ConfigProto'",
     "output_type": "error",
     "traceback": [
      "\u001b[1;31m---------------------------------------------------------------------------\u001b[0m",
      "\u001b[1;31mAttributeError\u001b[0m                            Traceback (most recent call last)",
      "\u001b[1;32m<ipython-input-16-f07098c9a09f>\u001b[0m in \u001b[0;36m<module>\u001b[1;34m\u001b[0m\n\u001b[0;32m      2\u001b[0m \u001b[0mos\u001b[0m\u001b[1;33m.\u001b[0m\u001b[0menviron\u001b[0m\u001b[1;33m[\u001b[0m\u001b[1;34m\"CUDA_VISIBLE_DEVICES\"\u001b[0m\u001b[1;33m]\u001b[0m \u001b[1;33m=\u001b[0m \u001b[1;34m'0'\u001b[0m\u001b[1;33m\u001b[0m\u001b[1;33m\u001b[0m\u001b[0m\n\u001b[0;32m      3\u001b[0m \u001b[1;33m\u001b[0m\u001b[0m\n\u001b[1;32m----> 4\u001b[1;33m \u001b[0mconfig\u001b[0m \u001b[1;33m=\u001b[0m \u001b[0mtf\u001b[0m\u001b[1;33m.\u001b[0m\u001b[0mConfigProto\u001b[0m\u001b[1;33m(\u001b[0m\u001b[1;33m)\u001b[0m\u001b[1;33m\u001b[0m\u001b[1;33m\u001b[0m\u001b[0m\n\u001b[0m\u001b[0;32m      5\u001b[0m \u001b[0msess\u001b[0m \u001b[1;33m=\u001b[0m \u001b[0mtf\u001b[0m\u001b[1;33m.\u001b[0m\u001b[0mSession\u001b[0m\u001b[1;33m(\u001b[0m\u001b[0mconfig\u001b[0m\u001b[1;33m=\u001b[0m\u001b[0mconfig\u001b[0m\u001b[1;33m)\u001b[0m\u001b[1;33m\u001b[0m\u001b[1;33m\u001b[0m\u001b[0m\n",
      "\u001b[1;31mAttributeError\u001b[0m: module 'tensorflow' has no attribute 'ConfigProto'"
     ]
    }
   ],
   "source": [
    "os.environ[\"CUDA_DEVICE_ORDER\"] = \"PCI_BUS_ID\"\n",
    "os.environ[\"CUDA_VISIBLE_DEVICES\"] = '0'\n",
    "\n",
    "config = tf.ConfigProto()\n",
    "sess = tf.Session(config=config)"
   ]
  }
 ],
 "metadata": {
  "kernelspec": {
   "display_name": "Python 3",
   "language": "python",
   "name": "python3"
  },
  "language_info": {
   "codemirror_mode": {
    "name": "ipython",
    "version": 3
   },
   "file_extension": ".py",
   "mimetype": "text/x-python",
   "name": "python",
   "nbconvert_exporter": "python",
   "pygments_lexer": "ipython3",
   "version": "3.7.7"
  }
 },
 "nbformat": 4,
 "nbformat_minor": 4
}
