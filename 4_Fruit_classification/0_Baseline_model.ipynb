{
 "cells": [
  {
   "cell_type": "markdown",
   "metadata": {},
   "source": [
    "# Introduction\n",
    "\n",
    "In this notebook, we are putting Deep Learning models in to practices.\n",
    "\n",
    "With the dataset of ***360 Fruit***, which includes around a hundred of fruit families with hundreds images for each, we are using:\n",
    "* A ***handmade-by-me CNN***.\n",
    "* A state-of-the-OLD-art: ***LeNet5***\n",
    "* Transform learning with the giant ***ResNet-152***\n",
    "* Transform learning with the tiny ***SqueezeNet***\n",
    "\n",
    "Then, each model practicing following by a classification report and a tunning.\n",
    "\n",
    "At last, we will discuss which one is the best, why, how, and other questions.\n"
   ]
  },
  {
   "cell_type": "markdown",
   "metadata": {},
   "source": [
    "***Dataset properties***\n",
    "\n",
    "* Total number of images: 90483.\n",
    "* Training set size: 67692 images (one fruit or vegetable per image).\n",
    "* Test set size: 22688 images (one fruit or vegetable per image).\n",
    "* Multi-fruits set size: 103 images (more than one fruit (or fruit class) per image)\n",
    "* Number of classes: ***131*** (fruits and vegetables).\n",
    "* Image size: ***100x100*** pixels."
   ]
  },
  {
   "cell_type": "markdown",
   "metadata": {},
   "source": [
    "# Import Packages"
   ]
  },
  {
   "cell_type": "code",
   "execution_count": 1,
   "metadata": {},
   "outputs": [
    {
     "name": "stderr",
     "output_type": "stream",
     "text": [
      "Using TensorFlow backend.\n"
     ]
    }
   ],
   "source": [
    "# Bases\n",
    "import keras as k\n",
    "import tensorflow as tf\n",
    "from keras import backend as K\n",
    "\n",
    "## data\n",
    "from tensorflow.keras.preprocessing.image import ImageDataGenerator\n",
    "\n",
    "## building\n",
    "from tensorflow.keras.models import Sequential\n",
    "from tensorflow.keras.layers import Dense, Conv2D, Flatten, Dropout, MaxPooling2D, LayerNormalization, GlobalAveragePooling2D, AveragePooling2D\n",
    "\n",
    "## plotting\n",
    "import os\n",
    "import numpy as np\n",
    "import matplotlib.pyplot as plt\n",
    "\n",
    "## callbacks\n",
    "from keras.callbacks import TensorBoard\n",
    "import time\n",
    "\n",
    "from keras.applications import ResNet152\n",
    "from keras import Input, Model\n",
    "\n",
    "import sklearn\n",
    "from sklearn.metrics import  classification_report, roc_curve"
   ]
  },
  {
   "cell_type": "markdown",
   "metadata": {},
   "source": [
    "## Environment Configuration for GPU"
   ]
  },
  {
   "cell_type": "markdown",
   "metadata": {},
   "source": [
    "As the VRAM of GPU is 3GB, not enough to work with cudnn, we will do some tricks force GPU to work."
   ]
  },
  {
   "cell_type": "code",
   "execution_count": 2,
   "metadata": {},
   "outputs": [
    {
     "name": "stdout",
     "output_type": "stream",
     "text": [
      "1 Physical GPU, 2 Logical GPUs\n"
     ]
    }
   ],
   "source": [
    "gpus = tf.config.experimental.list_physical_devices('GPU')\n",
    "\n",
    "memory_limit=1024\n",
    "if gpus:\n",
    "  # Create 2 virtual GPUs with 1GB memory each\n",
    "  try:\n",
    "    tf.config.experimental.set_virtual_device_configuration(\n",
    "        gpus[0],\n",
    "        [tf.config.experimental.VirtualDeviceConfiguration(memory_limit=memory_limit),\n",
    "         #tf.config.experimental.VirtualDeviceConfiguration(memory_limit=memory_limit),\n",
    "         tf.config.experimental.VirtualDeviceConfiguration(memory_limit=memory_limit)])\n",
    "    logical_gpus = tf.config.experimental.list_logical_devices('GPU')\n",
    "    print(len(gpus), \"Physical GPU,\", len(logical_gpus), \"Logical GPUs\")\n",
    "  except RuntimeError as e:\n",
    "    # Virtual devices must be set before GPUs have been initialized\n",
    "    print(e)"
   ]
  },
  {
   "cell_type": "code",
   "execution_count": 3,
   "metadata": {},
   "outputs": [
    {
     "data": {
      "text/plain": [
       "True"
      ]
     },
     "execution_count": 3,
     "metadata": {},
     "output_type": "execute_result"
    }
   ],
   "source": [
    "tf.test.is_built_with_cuda()"
   ]
  },
  {
   "cell_type": "code",
   "execution_count": 4,
   "metadata": {},
   "outputs": [
    {
     "data": {
      "text/plain": [
       "[PhysicalDevice(name='/physical_device:CPU:0', device_type='CPU'),\n",
       " PhysicalDevice(name='/physical_device:XLA_CPU:0', device_type='XLA_CPU'),\n",
       " PhysicalDevice(name='/physical_device:GPU:0', device_type='GPU'),\n",
       " PhysicalDevice(name='/physical_device:XLA_GPU:0', device_type='XLA_GPU')]"
      ]
     },
     "execution_count": 4,
     "metadata": {},
     "output_type": "execute_result"
    }
   ],
   "source": [
    "tf.config.list_physical_devices()"
   ]
  },
  {
   "cell_type": "code",
   "execution_count": 5,
   "metadata": {},
   "outputs": [
    {
     "name": "stdout",
     "output_type": "stream",
     "text": [
      "[name: \"/device:CPU:0\"\n",
      "device_type: \"CPU\"\n",
      "memory_limit: 268435456\n",
      "locality {\n",
      "}\n",
      "incarnation: 12067930824567493878\n",
      ", name: \"/device:XLA_CPU:0\"\n",
      "device_type: \"XLA_CPU\"\n",
      "memory_limit: 17179869184\n",
      "locality {\n",
      "}\n",
      "incarnation: 6558053770790966327\n",
      "physical_device_desc: \"device: XLA_CPU device\"\n",
      ", name: \"/device:GPU:0\"\n",
      "device_type: \"GPU\"\n",
      "memory_limit: 1073741824\n",
      "locality {\n",
      "  bus_id: 1\n",
      "  links {\n",
      "  }\n",
      "}\n",
      "incarnation: 3780154892045269550\n",
      "physical_device_desc: \"device: 0, name: GeForce GTX 1650, pci bus id: 0000:01:00.0, compute capability: 7.5\"\n",
      ", name: \"/device:XLA_GPU:0\"\n",
      "device_type: \"XLA_GPU\"\n",
      "memory_limit: 17179869184\n",
      "locality {\n",
      "}\n",
      "incarnation: 4958943799766633031\n",
      "physical_device_desc: \"device: XLA_GPU device\"\n",
      "]\n"
     ]
    }
   ],
   "source": [
    "from tensorflow.python.client import device_lib\n",
    "print(device_lib.list_local_devices())"
   ]
  },
  {
   "cell_type": "markdown",
   "metadata": {},
   "source": [
    "## Helpful Functions"
   ]
  },
  {
   "cell_type": "code",
   "execution_count": 6,
   "metadata": {},
   "outputs": [],
   "source": [
    "# This function: plots images in the form of a 1 row x 5 cols grid.\n",
    "def plotImages(images_arr):\n",
    "    fig, axes = plt.subplots(1, 5, figsize=(20,20))\n",
    "    axes = axes.flatten()\n",
    "    for img, ax in zip(images_arr, axes):\n",
    "        ax.imshow(img)\n",
    "        ax.axis('off')\n",
    "    plt.tight_layout()\n",
    "    plt.show()"
   ]
  },
  {
   "cell_type": "markdown",
   "metadata": {},
   "source": [
    "# Preprocessing Data"
   ]
  },
  {
   "cell_type": "markdown",
   "metadata": {},
   "source": [
    "The dataset has the following directory ***structure***:\n",
    "\n",
    "<pre>\n",
    "<b>Fruit Images Dataset</b>\n",
    "|__ <b>train</b>\n",
    "    |______ <b>Apple Braeburn</b>: [0_100.jpg, ..]\n",
    "    |______ <b>Apple Crimson Snow</b>: [0_100.jpg, ..] \n",
    "    ..\n",
    "    |______ <b>Apple Watermelon</b>: [0_100.jpg, ..]\n",
    "|__ <b>test</b>\n",
    "    |______ <b>Apple Braeburn</b>: [0_100.jpg, ..]\n",
    "    |______ <b>Apple Crimson Snow</b>: [0_100.jpg, ..] \n",
    "    ..\n",
    "    |______ <b>Apple Watermelon</b>: [0_100.jpg, ..]\n",
    "</pre>"
   ]
  },
  {
   "cell_type": "markdown",
   "metadata": {},
   "source": [
    "***How to prepare data***\n",
    "\n",
    "Format the images into appropriately pre-processed floating point tensors before feeding to the network:\n",
    "\n",
    "1. Read images from the disk.\n",
    "2. Decode contents of these images and convert it into proper grid format as per their RGB content.\n",
    "3. Convert them into floating point tensors.\n",
    "4. Rescale the tensors from values between 0 and 255 to values between 0 and 1, as neural networks prefer to deal with small input values.\n",
    "\n",
    "Fortunately, all these tasks can be done with the `ImageDataGenerator` class provided by `tf.keras`, which can:\n",
    "* Read images and preprocess them into proper tensors. \n",
    "* Set up generators that convert these images into batches of tensors — helpful when training the network."
   ]
  },
  {
   "cell_type": "code",
   "execution_count": 7,
   "metadata": {},
   "outputs": [],
   "source": [
    "# Generator\n",
    "train_generator = ImageDataGenerator(rescale=1/255)\n",
    "test_generator = ImageDataGenerator(rescale=1/255)"
   ]
  },
  {
   "cell_type": "code",
   "execution_count": 8,
   "metadata": {},
   "outputs": [],
   "source": [
    "# Variable for pre-processing and training\n",
    "batch_size = 128\n",
    "epochs = 15\n",
    "\n",
    "IMG_HEIGHT = 100\n",
    "IMG_WIDTH = 100\n",
    "\n",
    "num_classes = 131\n",
    "\n",
    "class_mode = 'categorical'\n",
    "\n",
    "where_train = '/home/maihai/GitHub/Fruit-Images-Dataset/train'\n",
    "where_test  = '/home/maihai/GitHub/Fruit-Images-Dataset/test'"
   ]
  },
  {
   "cell_type": "markdown",
   "metadata": {},
   "source": [
    "After defining the generators, the `flow_from_directory` method will:\n",
    "* Load images from the disk,\n",
    "* Applies rescaling,\n",
    "* Applies resizes images into the required dimensions."
   ]
  },
  {
   "cell_type": "code",
   "execution_count": 9,
   "metadata": {},
   "outputs": [
    {
     "name": "stdout",
     "output_type": "stream",
     "text": [
      "Found 67692 images belonging to 131 classes.\n"
     ]
    }
   ],
   "source": [
    "# Train set\n",
    "train_data_gen = train_generator.flow_from_directory(directory=where_train, \n",
    "                                         target_size=(IMG_HEIGHT, IMG_WIDTH),\n",
    "                                         class_mode=class_mode,\n",
    "                                         shuffle=False,\n",
    "                                         batch_size=batch_size)\n"
   ]
  },
  {
   "cell_type": "code",
   "execution_count": 10,
   "metadata": {},
   "outputs": [
    {
     "name": "stdout",
     "output_type": "stream",
     "text": [
      "Found 22688 images belonging to 131 classes.\n"
     ]
    }
   ],
   "source": [
    "# Test set\n",
    "test_data_gen = test_generator.flow_from_directory(directory=where_test,\n",
    "                                        target_size=(IMG_HEIGHT, IMG_WIDTH),\n",
    "                                        class_mode=class_mode,\n",
    "                                        shuffle=False,\n",
    "                                        batch_size=batch_size)"
   ]
  },
  {
   "cell_type": "code",
   "execution_count": 11,
   "metadata": {},
   "outputs": [],
   "source": [
    "# Set variables for model training later\n",
    "\n",
    "num_train = train_data_gen.samples\n",
    "num_test  = test_data_gen.samples"
   ]
  },
  {
   "cell_type": "markdown",
   "metadata": {},
   "source": [
    "## Visualize Images"
   ]
  },
  {
   "cell_type": "code",
   "execution_count": 12,
   "metadata": {},
   "outputs": [
    {
     "data": {
      "image/png": "[encoded data removed]",
      "text/plain": [
       "<Figure size 1440x1440 with 5 Axes>"
      ]
     },
     "metadata": {
      "needs_background": "light"
     },
     "output_type": "display_data"
    }
   ],
   "source": [
    "sample_training_images, _ = next(train_data_gen)\n",
    "\n",
    "plotImages(sample_training_images[:5])"
   ]
  },
  {
   "cell_type": "markdown",
   "metadata": {},
   "source": [
    "# Model - Version 1"
   ]
  },
  {
   "cell_type": "markdown",
   "metadata": {},
   "source": [
    "## Fiting"
   ]
  },
  {
   "cell_type": "code",
   "execution_count": 18,
   "metadata": {},
   "outputs": [
    {
     "name": "stdout",
     "output_type": "stream",
     "text": [
      "Model: \"sequential\"\n",
      "_________________________________________________________________\n",
      "Layer (type)                 Output Shape              Param #   \n",
      "=================================================================\n",
      "conv2d (Conv2D)              (None, 100, 100, 16)      448       \n",
      "_________________________________________________________________\n",
      "max_pooling2d (MaxPooling2D) (None, 50, 50, 16)        0         \n",
      "_________________________________________________________________\n",
      "conv2d_1 (Conv2D)            (None, 50, 50, 32)        4640      \n",
      "_________________________________________________________________\n",
      "max_pooling2d_1 (MaxPooling2 (None, 25, 25, 32)        0         \n",
      "_________________________________________________________________\n",
      "conv2d_2 (Conv2D)            (None, 25, 25, 64)        18496     \n",
      "_________________________________________________________________\n",
      "max_pooling2d_2 (MaxPooling2 (None, 12, 12, 64)        0         \n",
      "_________________________________________________________________\n",
      "flatten (Flatten)            (None, 9216)              0         \n",
      "_________________________________________________________________\n",
      "dense (Dense)                (None, 512)               4719104   \n",
      "_________________________________________________________________\n",
      "dense_1 (Dense)              (None, 131)               67203     \n",
      "=================================================================\n",
      "Total params: 4,809,891\n",
      "Trainable params: 4,809,891\n",
      "Non-trainable params: 0\n",
      "_________________________________________________________________\n"
     ]
    }
   ],
   "source": [
    "model_baseline = Sequential([\n",
    "    Conv2D(16, 3, padding='same', activation='relu', input_shape=(IMG_HEIGHT, IMG_WIDTH ,3)),\n",
    "    MaxPooling2D(),\n",
    "    \n",
    "    Conv2D(32, 3, padding='same', activation='relu'),\n",
    "    MaxPooling2D(),\n",
    "    \n",
    "    Conv2D(64, 3, padding='same', activation='relu'),\n",
    "    MaxPooling2D(),\n",
    "    \n",
    "    Flatten(),\n",
    "    Dense(512, activation='relu'),\n",
    "    Dense(131, activation = 'softmax')\n",
    "])\n",
    "\n",
    "model_baseline.summary()"
   ]
  },
  {
   "cell_type": "code",
   "execution_count": 19,
   "metadata": {},
   "outputs": [],
   "source": [
    "model_baseline.compile(optimizer='adam',\n",
    "              loss=tf.keras.losses.CategoricalCrossentropy(),\n",
    "              metrics=['categorical_accuracy', 'AUC'])"
   ]
  },
  {
   "cell_type": "code",
   "execution_count": 20,
   "metadata": {},
   "outputs": [],
   "source": [
    "# Set up TensorBoard\n",
    "NAME = 'Handmade_model_baseline_{}'.format(int(time.time()))\n",
    "tensorboard = TensorBoard(log_dir='logs/{}'.format(NAME))"
   ]
  },
  {
   "cell_type": "code",
   "execution_count": 21,
   "metadata": {},
   "outputs": [
    {
     "name": "stdout",
     "output_type": "stream",
     "text": [
      "Epoch 1/15\n",
      "WARNING:tensorflow:From /home/maihai/anaconda3/envs/DLgpu/lib/python3.7/site-packages/tensorflow/python/ops/resource_variable_ops.py:1817: calling BaseResourceVariable.__init__ (from tensorflow.python.ops.resource_variable_ops) with constraint is deprecated and will be removed in a future version.\n",
      "Instructions for updating:\n",
      "If using Keras pass *_constraint arguments to layers.\n",
      "528/528 [==============================] - 26s 48ms/step - loss: 4.9750 - categorical_accuracy: 0.0041 - auc: 0.5321\n",
      "Epoch 2/15\n",
      "528/528 [==============================] - 25s 48ms/step - loss: 4.8055 - categorical_accuracy: 0.0000e+00 - auc: 0.5882\n",
      "Epoch 3/15\n",
      "528/528 [==============================] - 25s 47ms/step - loss: 4.9192 - categorical_accuracy: 0.0073 - auc: 0.4844\n",
      "Epoch 4/15\n",
      "528/528 [==============================] - 25s 48ms/step - loss: 4.8987 - categorical_accuracy: 0.0000e+00 - auc: 0.5000\n",
      "Epoch 5/15\n",
      "528/528 [==============================] - 25s 47ms/step - loss: 4.8965 - categorical_accuracy: 0.0000e+00 - auc: 0.5000\n",
      "Epoch 6/15\n",
      "528/528 [==============================] - 24s 46ms/step - loss: 4.8946 - categorical_accuracy: 0.0000e+00 - auc: 0.5000\n",
      "Epoch 7/15\n",
      "528/528 [==============================] - 24s 46ms/step - loss: 4.8928 - categorical_accuracy: 0.0000e+00 - auc: 0.5000\n",
      "Epoch 8/15\n",
      "528/528 [==============================] - 24s 46ms/step - loss: 4.8912 - categorical_accuracy: 0.0055 - auc: 0.4987\n",
      "Epoch 9/15\n",
      "528/528 [==============================] - 24s 46ms/step - loss: 4.8897 - categorical_accuracy: 0.0146 - auc: 0.4975\n",
      "Epoch 10/15\n",
      "528/528 [==============================] - 25s 47ms/step - loss: 4.8883 - categorical_accuracy: 0.0146 - auc: 0.5004\n",
      "Epoch 11/15\n",
      "528/528 [==============================] - 25s 47ms/step - loss: 4.6063 - categorical_accuracy: 0.0330 - auc: 0.6902\n",
      "Epoch 12/15\n",
      "528/528 [==============================] - 25s 47ms/step - loss: 4.8821 - categorical_accuracy: 0.0000e+00 - auc: 0.5291\n",
      "Epoch 13/15\n",
      "528/528 [==============================] - 25s 47ms/step - loss: 4.8919 - categorical_accuracy: 0.0146 - auc: 0.4998\n",
      "Epoch 14/15\n",
      "528/528 [==============================] - 25s 47ms/step - loss: 4.8845 - categorical_accuracy: 0.0146 - auc: 0.4988\n",
      "Epoch 15/15\n",
      "528/528 [==============================] - 25s 47ms/step - loss: 4.8835 - categorical_accuracy: 0.0146 - auc: 0.4978\n",
      "CPU times: user 10min 11s, sys: 22.3 s, total: 10min 34s\n",
      "Wall time: 6min 15s\n"
     ]
    }
   ],
   "source": [
    "%%time\n",
    "# Train model_baseline\n",
    "history = model_baseline.fit(train_data_gen,\n",
    "                             steps_per_epoch=num_train // batch_size,\n",
    "                             epochs=epochs,\n",
    "                             callbacks=[tensorboard])"
   ]
  },
  {
   "cell_type": "code",
   "execution_count": 22,
   "metadata": {},
   "outputs": [],
   "source": [
    "model_baseline.save('baseline_model_NOTHING_more.hdf5')\n",
    "\n",
    "where_to_save = 'baseline_model_NOTHING_more_weights'\n",
    "model_baseline.save_weights(filepath=where_to_save,\n",
    "                            overwrite=True)"
   ]
  },
  {
   "cell_type": "code",
   "execution_count": 56,
   "metadata": {},
   "outputs": [],
   "source": [
    "# Clear VRAM\n",
    "K.clear_session()"
   ]
  },
  {
   "cell_type": "markdown",
   "metadata": {},
   "source": [
    "## Learning Curve"
   ]
  },
  {
   "cell_type": "code",
   "execution_count": 46,
   "metadata": {},
   "outputs": [
    {
     "data": {
      "text/plain": [
       "dict_keys(['loss', 'categorical_accuracy', 'auc', 'val_loss', 'val_categorical_accuracy', 'val_auc'])"
      ]
     },
     "execution_count": 46,
     "metadata": {},
     "output_type": "execute_result"
    }
   ],
   "source": [
    "history.history.keys()"
   ]
  },
  {
   "cell_type": "code",
   "execution_count": 23,
   "metadata": {},
   "outputs": [
    {
     "data": {
      "image/png": "[encoded data removed]",
      "text/plain": [
       "<Figure size 576x576 with 2 Axes>"
      ]
     },
     "metadata": {
      "needs_background": "light"
     },
     "output_type": "display_data"
    }
   ],
   "source": [
    "auc = history.history['auc']\n",
    "#val_auc = history.history['val_auc']\n",
    "\n",
    "loss=history.history['loss']\n",
    "#val_loss=history.history['val_loss']\n",
    "\n",
    "epochs_range = range(epochs)\n",
    "\n",
    "plt.figure(figsize=(8, 8))\n",
    "plt.subplot(1, 2, 1)\n",
    "plt.plot(epochs_range, auc, label='Training AUC')\n",
    "#plt.plot(epochs_range, val_auc, label='Validation AUC')\n",
    "plt.legend(loc='lower right')\n",
    "plt.title('Training and Validation AUC')\n",
    "\n",
    "plt.subplot(1, 2, 2)\n",
    "plt.plot(epochs_range, loss, label='Training Loss')\n",
    "#plt.plot(epochs_range, val_loss, label='Validation Loss')\n",
    "plt.legend(loc='upper right')\n",
    "plt.title('Training and Validation Loss')\n",
    "plt.show()"
   ]
  },
  {
   "cell_type": "markdown",
   "metadata": {},
   "source": [
    "## Clasification report"
   ]
  },
  {
   "cell_type": "markdown",
   "metadata": {},
   "source": [
    "model_baseline.load_weights('Handmade_model_baseline_weights')"
   ]
  },
  {
   "cell_type": "code",
   "execution_count": 24,
   "metadata": {},
   "outputs": [
    {
     "name": "stdout",
     "output_type": "stream",
     "text": [
      "178/177 [==============================] - 8s 45ms/step\n"
     ]
    }
   ],
   "source": [
    "y_pred = model_baseline.predict(test_data_gen,\n",
    "                                batch_size=batch_size,\n",
    "                                    steps=num_test/batch_size,\n",
    "                                    verbose=1)\n",
    "y_pred = np.argmax(y_pred[:num_test], axis=1)"
   ]
  },
  {
   "cell_type": "code",
   "execution_count": 27,
   "metadata": {},
   "outputs": [],
   "source": [
    "y_true = test_data_gen.labels"
   ]
  },
  {
   "cell_type": "code",
   "execution_count": 28,
   "metadata": {},
   "outputs": [
    {
     "name": "stdout",
     "output_type": "stream",
     "text": [
      "              precision    recall  f1-score   support\n",
      "\n",
      "           0       0.00      0.00      0.00       164\n",
      "           1       0.00      0.00      0.00       148\n",
      "           2       0.00      0.00      0.00       160\n",
      "           3       0.00      0.00      0.00       164\n",
      "           4       0.00      0.00      0.00       161\n",
      "           5       0.00      0.00      0.00       164\n",
      "           6       0.00      0.00      0.00       152\n",
      "           7       0.00      0.00      0.00       164\n",
      "           8       0.00      0.00      0.00       164\n",
      "           9       0.00      0.00      0.00       144\n",
      "          10       0.00      0.00      0.00       166\n",
      "          11       0.00      0.00      0.00       164\n",
      "          12       0.00      0.00      0.00       219\n",
      "          13       0.00      0.00      0.00       164\n",
      "          14       0.00      0.00      0.00       143\n",
      "          15       0.00      0.00      0.00       166\n",
      "          16       0.00      0.00      0.00       166\n",
      "          17       0.00      0.00      0.00       152\n",
      "          18       0.00      0.00      0.00       166\n",
      "          19       0.00      0.00      0.00       150\n",
      "          20       0.00      0.00      0.00       154\n",
      "          21       0.00      0.00      0.00       166\n",
      "          22       0.00      0.00      0.00       164\n",
      "          23       0.00      0.00      0.00       164\n",
      "          24       0.00      0.00      0.00       166\n",
      "          25       0.00      0.00      0.00       234\n",
      "          26       0.00      0.00      0.00       164\n",
      "          27       0.00      0.00      0.00       246\n",
      "          28       0.00      0.00      0.00       246\n",
      "          29       0.00      0.00      0.00       164\n",
      "          30       0.00      0.00      0.00       164\n",
      "          31       0.00      0.00      0.00       164\n",
      "          32       0.00      0.00      0.00       153\n",
      "          33       0.00      0.00      0.00       166\n",
      "          34       0.00      0.00      0.00       166\n",
      "          35       0.00      0.00      0.00       150\n",
      "          36       0.00      0.00      0.00       154\n",
      "          37       0.00      0.00      0.00       130\n",
      "          38       0.00      0.00      0.00       156\n",
      "          39       0.00      0.00      0.00       166\n",
      "          40       0.00      0.00      0.00       156\n",
      "          41       0.00      0.00      0.00       234\n",
      "          42       0.00      0.00      0.00        99\n",
      "          43       0.00      0.00      0.00       166\n",
      "          44       0.01      1.00      0.03       328\n",
      "          45       0.00      0.00      0.00       164\n",
      "          46       0.00      0.00      0.00       166\n",
      "          47       0.00      0.00      0.00       166\n",
      "          48       0.00      0.00      0.00       164\n",
      "          49       0.00      0.00      0.00       158\n",
      "          50       0.00      0.00      0.00       166\n",
      "          51       0.00      0.00      0.00       164\n",
      "          52       0.00      0.00      0.00       166\n",
      "          53       0.00      0.00      0.00       157\n",
      "          54       0.00      0.00      0.00       166\n",
      "          55       0.00      0.00      0.00       166\n",
      "          56       0.00      0.00      0.00       156\n",
      "          57       0.00      0.00      0.00       157\n",
      "          58       0.00      0.00      0.00       166\n",
      "          59       0.00      0.00      0.00       164\n",
      "          60       0.00      0.00      0.00       166\n",
      "          61       0.00      0.00      0.00       166\n",
      "          62       0.00      0.00      0.00       166\n",
      "          63       0.00      0.00      0.00       166\n",
      "          64       0.00      0.00      0.00       166\n",
      "          65       0.00      0.00      0.00       142\n",
      "          66       0.00      0.00      0.00       102\n",
      "          67       0.00      0.00      0.00       166\n",
      "          68       0.00      0.00      0.00       246\n",
      "          69       0.00      0.00      0.00       164\n",
      "          70       0.00      0.00      0.00       164\n",
      "          71       0.00      0.00      0.00       160\n",
      "          72       0.00      0.00      0.00       218\n",
      "          73       0.00      0.00      0.00       178\n",
      "          74       0.00      0.00      0.00       150\n",
      "          75       0.00      0.00      0.00       155\n",
      "          76       0.00      0.00      0.00       146\n",
      "          77       0.00      0.00      0.00       160\n",
      "          78       0.00      0.00      0.00       164\n",
      "          79       0.00      0.00      0.00       166\n",
      "          80       0.00      0.00      0.00       164\n",
      "          81       0.00      0.00      0.00       246\n",
      "          82       0.00      0.00      0.00       164\n",
      "          83       0.00      0.00      0.00       164\n",
      "          84       0.00      0.00      0.00       232\n",
      "          85       0.00      0.00      0.00       166\n",
      "          86       0.00      0.00      0.00       234\n",
      "          87       0.00      0.00      0.00       102\n",
      "          88       0.00      0.00      0.00       166\n",
      "          89       0.00      0.00      0.00       222\n",
      "          90       0.00      0.00      0.00       237\n",
      "          91       0.00      0.00      0.00       166\n",
      "          92       0.00      0.00      0.00       166\n",
      "          93       0.00      0.00      0.00       148\n",
      "          94       0.00      0.00      0.00       234\n",
      "          95       0.00      0.00      0.00       222\n",
      "          96       0.00      0.00      0.00       222\n",
      "          97       0.00      0.00      0.00       164\n",
      "          98       0.00      0.00      0.00       164\n",
      "          99       0.00      0.00      0.00       166\n",
      "         100       0.00      0.00      0.00       163\n",
      "         101       0.00      0.00      0.00       166\n",
      "         102       0.00      0.00      0.00       151\n",
      "         103       0.00      0.00      0.00       142\n",
      "         104       0.00      0.00      0.00       304\n",
      "         105       0.00      0.00      0.00       164\n",
      "         106       0.00      0.00      0.00       153\n",
      "         107       0.00      0.00      0.00       150\n",
      "         108       0.00      0.00      0.00       151\n",
      "         109       0.00      0.00      0.00       150\n",
      "         110       0.00      0.00      0.00       150\n",
      "         111       0.00      0.00      0.00       166\n",
      "         112       0.00      0.00      0.00       164\n",
      "         113       0.00      0.00      0.00       166\n",
      "         114       0.00      0.00      0.00       164\n",
      "         115       0.00      0.00      0.00       162\n",
      "         116       0.00      0.00      0.00       164\n",
      "         117       0.00      0.00      0.00       246\n",
      "         118       0.00      0.00      0.00       166\n",
      "         119       0.00      0.00      0.00       166\n",
      "         120       0.00      0.00      0.00       246\n",
      "         121       0.00      0.00      0.00       225\n",
      "         122       0.00      0.00      0.00       246\n",
      "         123       0.00      0.00      0.00       160\n",
      "         124       0.00      0.00      0.00       164\n",
      "         125       0.00      0.00      0.00       228\n",
      "         126       0.00      0.00      0.00       127\n",
      "         127       0.00      0.00      0.00       153\n",
      "         128       0.00      0.00      0.00       158\n",
      "         129       0.00      0.00      0.00       249\n",
      "         130       0.00      0.00      0.00       157\n",
      "\n",
      "    accuracy                           0.01     22688\n",
      "   macro avg       0.00      0.01      0.00     22688\n",
      "weighted avg       0.00      0.01      0.00     22688\n",
      "\n"
     ]
    },
    {
     "name": "stderr",
     "output_type": "stream",
     "text": [
      "/home/maihai/anaconda3/envs/DLgpu/lib/python3.7/site-packages/sklearn/metrics/_classification.py:1272: UndefinedMetricWarning: Precision and F-score are ill-defined and being set to 0.0 in labels with no predicted samples. Use `zero_division` parameter to control this behavior.\n",
      "  _warn_prf(average, modifier, msg_start, len(result))\n"
     ]
    }
   ],
   "source": [
    "print(classification_report(y_true, y_pred))"
   ]
  },
  {
   "cell_type": "markdown",
   "metadata": {},
   "source": [
    "### Inspection"
   ]
  },
  {
   "cell_type": "code",
   "execution_count": 51,
   "metadata": {},
   "outputs": [
    {
     "data": {
      "text/plain": [
       "array([ 8, 70,  0,  8,  8,  8,  8,  8,  8,  8,  8,  8,  8,  0,  8,  8,  8,\n",
       "        8,  8,  8,  8,  8,  8,  0,  0,  0,  0,  0,  0,  0,  0,  0,  0,  0,\n",
       "        0,  0,  1,  1,  1,  1,  1,  1,  1,  1,  1,  1,  1,  1,  1,  1,  1,\n",
       "        1,  1,  1,  1,  1,  1,  1,  1,  1,  1,  1,  1,  1,  1,  1,  1,  1,\n",
       "        1,  1,  1,  1,  1,  1,  1,  1,  1,  1,  1,  1,  1,  1,  1,  1,  1,\n",
       "        1,  1,  1,  1,  1,  1,  1,  1,  1,  1,  1,  1,  1,  1,  1])"
      ]
     },
     "execution_count": 51,
     "metadata": {},
     "output_type": "execute_result"
    }
   ],
   "source": [
    "y_pred[:100]"
   ]
  },
  {
   "cell_type": "markdown",
   "metadata": {},
   "source": [
    "# Model - Version 2"
   ]
  },
  {
   "cell_type": "markdown",
   "metadata": {},
   "source": [
    "## Fiting"
   ]
  },
  {
   "cell_type": "code",
   "execution_count": 28,
   "metadata": {},
   "outputs": [
    {
     "name": "stdout",
     "output_type": "stream",
     "text": [
      "Model: \"sequential\"\n",
      "_________________________________________________________________\n",
      "Layer (type)                 Output Shape              Param #   \n",
      "=================================================================\n",
      "conv2d (Conv2D)              (None, 100, 100, 32)      11648     \n",
      "_________________________________________________________________\n",
      "max_pooling2d (MaxPooling2D) (None, 50, 50, 32)        0         \n",
      "_________________________________________________________________\n",
      "conv2d_1 (Conv2D)            (None, 50, 50, 64)        247872    \n",
      "_________________________________________________________________\n",
      "max_pooling2d_1 (MaxPooling2 (None, 25, 25, 64)        0         \n",
      "_________________________________________________________________\n",
      "conv2d_2 (Conv2D)            (None, 25, 25, 128)       991360    \n",
      "_________________________________________________________________\n",
      "max_pooling2d_2 (MaxPooling2 (None, 12, 12, 128)       0         \n",
      "_________________________________________________________________\n",
      "flatten (Flatten)            (None, 18432)             0         \n",
      "_________________________________________________________________\n",
      "dense (Dense)                (None, 120)               2211960   \n",
      "_________________________________________________________________\n",
      "dense_1 (Dense)              (None, 131)               15851     \n",
      "=================================================================\n",
      "Total params: 3,478,691\n",
      "Trainable params: 3,478,691\n",
      "Non-trainable params: 0\n",
      "_________________________________________________________________\n"
     ]
    }
   ],
   "source": [
    "model_baseline = Sequential([\n",
    "    Conv2D(32, (11, 11), padding='same', activation='relu', input_shape=(IMG_HEIGHT, IMG_WIDTH ,3)),\n",
    "    MaxPooling2D(),\n",
    "    \n",
    "    Conv2D(64, (11, 11), padding='same', activation='relu'),\n",
    "    MaxPooling2D(),\n",
    "    \n",
    "    Conv2D(128, (11, 11), padding='same', activation='relu'),\n",
    "    MaxPooling2D(),\n",
    "    \n",
    "    Flatten(),\n",
    "    Dense(120, activation='relu'),\n",
    "    \n",
    "    Dense(131, activation = 'softmax') # Output\n",
    "])\n",
    "\n",
    "model_baseline.summary()"
   ]
  },
  {
   "cell_type": "code",
   "execution_count": 16,
   "metadata": {},
   "outputs": [],
   "source": [
    "model_baseline.compile(optimizer='adam',\n",
    "              loss=tf.keras.losses.CategoricalCrossentropy(),\n",
    "              metrics=['categorical_accuracy', 'AUC'])"
   ]
  },
  {
   "cell_type": "code",
   "execution_count": 17,
   "metadata": {},
   "outputs": [],
   "source": [
    "# Set up TensorBoard\n",
    "NAME = 'Handmade_model_baseline_{}'.format(int(time.time()))\n",
    "tensorboard = TensorBoard(log_dir='logs/{}'.format(NAME))"
   ]
  },
  {
   "cell_type": "code",
   "execution_count": 18,
   "metadata": {},
   "outputs": [
    {
     "name": "stdout",
     "output_type": "stream",
     "text": [
      "Epoch 1/15\n",
      "WARNING:tensorflow:From /home/maihai/anaconda3/envs/DLgpu/lib/python3.7/site-packages/tensorflow/python/ops/resource_variable_ops.py:1817: calling BaseResourceVariable.__init__ (from tensorflow.python.ops.resource_variable_ops) with constraint is deprecated and will be removed in a future version.\n",
      "Instructions for updating:\n",
      "If using Keras pass *_constraint arguments to layers.\n",
      "528/528 [==============================] - 128s 243ms/step - loss: 5.0078 - categorical_accuracy: 0.0060 - auc: 0.4987\n",
      "Epoch 2/15\n",
      "528/528 [==============================] - 124s 235ms/step - loss: 4.9019 - categorical_accuracy: 0.0044 - auc: 0.5000\n",
      "Epoch 3/15\n",
      "528/528 [==============================] - 124s 234ms/step - loss: 4.8996 - categorical_accuracy: 5.9203e-04 - auc: 0.5000\n",
      "Epoch 4/15\n",
      "528/528 [==============================] - 123s 234ms/step - loss: 4.8975 - categorical_accuracy: 0.0000e+00 - auc: 0.5000\n",
      "Epoch 5/15\n",
      "528/528 [==============================] - 125s 237ms/step - loss: 4.8954 - categorical_accuracy: 5.9203e-05 - auc: 0.5000\n",
      "Epoch 6/15\n",
      "528/528 [==============================] - 129s 244ms/step - loss: 4.8937 - categorical_accuracy: 0.0099 - auc: 0.5000\n",
      "Epoch 7/15\n",
      "528/528 [==============================] - 134s 254ms/step - loss: 4.8920 - categorical_accuracy: 5.9203e-05 - auc: 0.5000\n",
      "Epoch 8/15\n",
      "528/528 [==============================] - 129s 244ms/step - loss: 4.8904 - categorical_accuracy: 0.0017 - auc: 0.5000\n",
      "Epoch 9/15\n",
      "528/528 [==============================] - 127s 240ms/step - loss: 4.8890 - categorical_accuracy: 0.0112 - auc: 0.4981\n",
      "Epoch 10/15\n",
      "528/528 [==============================] - 122s 230ms/step - loss: 4.8877 - categorical_accuracy: 0.0146 - auc: 0.4975\n",
      "Epoch 11/15\n",
      "528/528 [==============================] - 121s 230ms/step - loss: 4.8864 - categorical_accuracy: 0.0146 - auc: 0.5019\n",
      "Epoch 12/15\n",
      "528/528 [==============================] - 122s 230ms/step - loss: 4.8851 - categorical_accuracy: 0.0146 - auc: 0.5035\n",
      "Epoch 13/15\n",
      "528/528 [==============================] - 121s 229ms/step - loss: 4.8841 - categorical_accuracy: 0.0146 - auc: 0.5035\n",
      "Epoch 14/15\n",
      "528/528 [==============================] - 121s 229ms/step - loss: 4.8832 - categorical_accuracy: 0.0146 - auc: 0.5035\n",
      "Epoch 15/15\n",
      "528/528 [==============================] - 121s 228ms/step - loss: 4.8823 - categorical_accuracy: 0.0146 - auc: 0.5033\n",
      "CPU times: user 29min 39s, sys: 30.5 s, total: 30min 10s\n",
      "Wall time: 31min 19s\n"
     ]
    }
   ],
   "source": [
    "%%time\n",
    "# Train model_baseline\n",
    "history = model_baseline.fit(train_data_gen,\n",
    "                             steps_per_epoch=num_train // batch_size,\n",
    "                             epochs=epochs,\n",
    "                             callbacks=[tensorboard])"
   ]
  },
  {
   "cell_type": "code",
   "execution_count": 19,
   "metadata": {},
   "outputs": [],
   "source": [
    "model_baseline.save('baseline_ver_2.hdf5')\n",
    "\n",
    "where_to_save = 'baseline_ver_2_weights'\n",
    "model_baseline.save_weights(filepath=where_to_save,\n",
    "                            overwrite=True)"
   ]
  },
  {
   "cell_type": "code",
   "execution_count": 43,
   "metadata": {},
   "outputs": [],
   "source": [
    "# Clear VRAM\n",
    "K.clear_session()"
   ]
  },
  {
   "cell_type": "markdown",
   "metadata": {},
   "source": [
    "## Learning Curve"
   ]
  },
  {
   "cell_type": "code",
   "execution_count": 20,
   "metadata": {},
   "outputs": [
    {
     "data": {
      "text/plain": [
       "dict_keys(['loss', 'categorical_accuracy', 'auc'])"
      ]
     },
     "execution_count": 20,
     "metadata": {},
     "output_type": "execute_result"
    }
   ],
   "source": [
    "history.history.keys()"
   ]
  },
  {
   "cell_type": "code",
   "execution_count": 21,
   "metadata": {},
   "outputs": [
    {
     "data": {
      "image/png": "[encoded data removed]",
      "text/plain": [
       "<Figure size 576x576 with 2 Axes>"
      ]
     },
     "metadata": {
      "needs_background": "light"
     },
     "output_type": "display_data"
    }
   ],
   "source": [
    "auc = history.history['auc']\n",
    "#val_auc = history.history['val_auc']\n",
    "\n",
    "loss=history.history['loss']\n",
    "#val_loss=history.history['val_loss']\n",
    "\n",
    "epochs_range = range(epochs)\n",
    "\n",
    "plt.figure(figsize=(8, 8))\n",
    "plt.subplot(1, 2, 1)\n",
    "plt.plot(epochs_range, auc, label='Training AUC')\n",
    "#plt.plot(epochs_range, val_auc, label='Validation AUC')\n",
    "plt.legend(loc='lower right')\n",
    "plt.title('Training and Validation AUC')\n",
    "\n",
    "plt.subplot(1, 2, 2)\n",
    "plt.plot(epochs_range, loss, label='Training Loss')\n",
    "#plt.plot(epochs_range, val_loss, label='Validation Loss')\n",
    "plt.legend(loc='upper right')\n",
    "plt.title('Training and Validation Loss')\n",
    "plt.show()"
   ]
  },
  {
   "cell_type": "markdown",
   "metadata": {},
   "source": [
    "## Clasification report"
   ]
  },
  {
   "cell_type": "code",
   "execution_count": null,
   "metadata": {},
   "outputs": [],
   "source": [
    "# model_baseline.load_weights('baseline_ver_2_weights')"
   ]
  },
  {
   "cell_type": "code",
   "execution_count": 30,
   "metadata": {},
   "outputs": [
    {
     "name": "stdout",
     "output_type": "stream",
     "text": [
      "178/177 [==============================] - 11s 61ms/step\n"
     ]
    }
   ],
   "source": [
    "y_pred = model_baseline.predict(test_data_gen,\n",
    "                                    steps=num_test/batch_size,\n",
    "                                    verbose=1)\n",
    "y_pred = np.argmax(y_pred, axis=1)"
   ]
  },
  {
   "cell_type": "code",
   "execution_count": 31,
   "metadata": {},
   "outputs": [],
   "source": [
    "y_true = test_data_gen.labels"
   ]
  },
  {
   "cell_type": "code",
   "execution_count": 32,
   "metadata": {},
   "outputs": [
    {
     "name": "stdout",
     "output_type": "stream",
     "text": [
      "              precision    recall  f1-score   support\n",
      "\n",
      "           0       0.00      0.00      0.00       164\n",
      "           1       0.00      0.00      0.00       148\n",
      "           2       0.00      0.00      0.00       160\n",
      "           3       0.00      0.00      0.00       164\n",
      "           4       0.00      0.00      0.00       161\n",
      "           5       0.00      0.00      0.00       164\n",
      "           6       0.00      0.00      0.00       152\n",
      "           7       0.00      0.00      0.00       164\n",
      "           8       0.00      0.00      0.00       164\n",
      "           9       0.00      0.00      0.00       144\n",
      "          10       0.00      0.00      0.00       166\n",
      "          11       0.00      0.00      0.00       164\n",
      "          12       0.00      0.00      0.00       219\n",
      "          13       0.00      0.00      0.00       164\n",
      "          14       0.00      0.00      0.00       143\n",
      "          15       0.00      0.00      0.00       166\n",
      "          16       0.00      0.00      0.00       166\n",
      "          17       0.00      0.00      0.00       152\n",
      "          18       0.00      0.00      0.00       166\n",
      "          19       0.00      0.00      0.00       150\n",
      "          20       0.00      0.00      0.00       154\n",
      "          21       0.00      0.00      0.00       166\n",
      "          22       0.00      0.00      0.00       164\n",
      "          23       0.00      0.00      0.00       164\n",
      "          24       0.00      0.00      0.00       166\n",
      "          25       0.00      0.00      0.00       234\n",
      "          26       0.00      0.00      0.00       164\n",
      "          27       0.00      0.00      0.00       246\n",
      "          28       0.00      0.00      0.00       246\n",
      "          29       0.00      0.00      0.00       164\n",
      "          30       0.00      0.00      0.00       164\n",
      "          31       0.00      0.00      0.00       164\n",
      "          32       0.00      0.00      0.00       153\n",
      "          33       0.00      0.00      0.00       166\n",
      "          34       0.00      0.00      0.00       166\n",
      "          35       0.00      0.00      0.00       150\n",
      "          36       0.00      0.00      0.00       154\n",
      "          37       0.00      0.00      0.00       130\n",
      "          38       0.00      0.00      0.00       156\n",
      "          39       0.00      0.00      0.00       166\n",
      "          40       0.00      0.00      0.00       156\n",
      "          41       0.00      0.00      0.00       234\n",
      "          42       0.00      0.00      0.00        99\n",
      "          43       0.00      0.00      0.00       166\n",
      "          44       0.01      1.00      0.03       328\n",
      "          45       0.00      0.00      0.00       164\n",
      "          46       0.00      0.00      0.00       166\n",
      "          47       0.00      0.00      0.00       166\n",
      "          48       0.00      0.00      0.00       164\n",
      "          49       0.00      0.00      0.00       158\n",
      "          50       0.00      0.00      0.00       166\n",
      "          51       0.00      0.00      0.00       164\n",
      "          52       0.00      0.00      0.00       166\n",
      "          53       0.00      0.00      0.00       157\n",
      "          54       0.00      0.00      0.00       166\n",
      "          55       0.00      0.00      0.00       166\n",
      "          56       0.00      0.00      0.00       156\n",
      "          57       0.00      0.00      0.00       157\n",
      "          58       0.00      0.00      0.00       166\n",
      "          59       0.00      0.00      0.00       164\n",
      "          60       0.00      0.00      0.00       166\n",
      "          61       0.00      0.00      0.00       166\n",
      "          62       0.00      0.00      0.00       166\n",
      "          63       0.00      0.00      0.00       166\n",
      "          64       0.00      0.00      0.00       166\n",
      "          65       0.00      0.00      0.00       142\n",
      "          66       0.00      0.00      0.00       102\n",
      "          67       0.00      0.00      0.00       166\n",
      "          68       0.00      0.00      0.00       246\n",
      "          69       0.00      0.00      0.00       164\n",
      "          70       0.00      0.00      0.00       164\n",
      "          71       0.00      0.00      0.00       160\n",
      "          72       0.00      0.00      0.00       218\n",
      "          73       0.00      0.00      0.00       178\n",
      "          74       0.00      0.00      0.00       150\n",
      "          75       0.00      0.00      0.00       155\n",
      "          76       0.00      0.00      0.00       146\n",
      "          77       0.00      0.00      0.00       160\n",
      "          78       0.00      0.00      0.00       164\n",
      "          79       0.00      0.00      0.00       166\n",
      "          80       0.00      0.00      0.00       164\n",
      "          81       0.00      0.00      0.00       246\n",
      "          82       0.00      0.00      0.00       164\n",
      "          83       0.00      0.00      0.00       164\n",
      "          84       0.00      0.00      0.00       232\n",
      "          85       0.00      0.00      0.00       166\n",
      "          86       0.00      0.00      0.00       234\n",
      "          87       0.00      0.00      0.00       102\n",
      "          88       0.00      0.00      0.00       166\n",
      "          89       0.00      0.00      0.00       222\n",
      "          90       0.00      0.00      0.00       237\n",
      "          91       0.00      0.00      0.00       166\n",
      "          92       0.00      0.00      0.00       166\n",
      "          93       0.00      0.00      0.00       148\n",
      "          94       0.00      0.00      0.00       234\n",
      "          95       0.00      0.00      0.00       222\n",
      "          96       0.00      0.00      0.00       222\n",
      "          97       0.00      0.00      0.00       164\n",
      "          98       0.00      0.00      0.00       164\n",
      "          99       0.00      0.00      0.00       166\n",
      "         100       0.00      0.00      0.00       163\n",
      "         101       0.00      0.00      0.00       166\n",
      "         102       0.00      0.00      0.00       151\n",
      "         103       0.00      0.00      0.00       142\n",
      "         104       0.00      0.00      0.00       304\n",
      "         105       0.00      0.00      0.00       164\n",
      "         106       0.00      0.00      0.00       153\n",
      "         107       0.00      0.00      0.00       150\n",
      "         108       0.00      0.00      0.00       151\n",
      "         109       0.00      0.00      0.00       150\n",
      "         110       0.00      0.00      0.00       150\n",
      "         111       0.00      0.00      0.00       166\n",
      "         112       0.00      0.00      0.00       164\n",
      "         113       0.00      0.00      0.00       166\n",
      "         114       0.00      0.00      0.00       164\n",
      "         115       0.00      0.00      0.00       162\n",
      "         116       0.00      0.00      0.00       164\n",
      "         117       0.00      0.00      0.00       246\n",
      "         118       0.00      0.00      0.00       166\n",
      "         119       0.00      0.00      0.00       166\n",
      "         120       0.00      0.00      0.00       246\n",
      "         121       0.00      0.00      0.00       225\n",
      "         122       0.00      0.00      0.00       246\n",
      "         123       0.00      0.00      0.00       160\n",
      "         124       0.00      0.00      0.00       164\n",
      "         125       0.00      0.00      0.00       228\n",
      "         126       0.00      0.00      0.00       127\n",
      "         127       0.00      0.00      0.00       153\n",
      "         128       0.00      0.00      0.00       158\n",
      "         129       0.00      0.00      0.00       249\n",
      "         130       0.00      0.00      0.00       157\n",
      "\n",
      "    accuracy                           0.01     22688\n",
      "   macro avg       0.00      0.01      0.00     22688\n",
      "weighted avg       0.00      0.01      0.00     22688\n",
      "\n"
     ]
    },
    {
     "name": "stderr",
     "output_type": "stream",
     "text": [
      "/home/maihai/anaconda3/envs/DLgpu/lib/python3.7/site-packages/sklearn/metrics/_classification.py:1272: UndefinedMetricWarning: Precision and F-score are ill-defined and being set to 0.0 in labels with no predicted samples. Use `zero_division` parameter to control this behavior.\n",
      "  _warn_prf(average, modifier, msg_start, len(result))\n"
     ]
    }
   ],
   "source": [
    "print(classification_report(y_true, y_pred))"
   ]
  },
  {
   "cell_type": "markdown",
   "metadata": {},
   "source": [
    "## Inspection"
   ]
  },
  {
   "cell_type": "code",
   "execution_count": 34,
   "metadata": {},
   "outputs": [
    {
     "data": {
      "text/plain": [
       "True"
      ]
     },
     "execution_count": 34,
     "metadata": {},
     "output_type": "execute_result"
    }
   ],
   "source": [
    "y_true.shape == y_pred.shape"
   ]
  },
  {
   "cell_type": "code",
   "execution_count": 36,
   "metadata": {},
   "outputs": [
    {
     "data": {
      "text/plain": [
       "array([0, 0, 0, 0, 0, 0, 0, 0, 0, 0, 0, 0, 0, 0, 0, 0, 0, 0, 0, 0, 0, 0,\n",
       "       0, 0, 0, 0, 0, 0, 0, 0, 0, 0, 0, 0, 0, 0, 0, 0, 0, 0, 0, 0, 0, 0,\n",
       "       0, 0, 0, 0, 0, 0], dtype=int32)"
      ]
     },
     "execution_count": 36,
     "metadata": {},
     "output_type": "execute_result"
    }
   ],
   "source": [
    "y_true[0:50]"
   ]
  },
  {
   "cell_type": "code",
   "execution_count": 42,
   "metadata": {},
   "outputs": [
    {
     "data": {
      "text/plain": [
       "array([  0,   1,   2,   3,   4,   5,   6,   7,   8,   9,  10,  11,  12,\n",
       "        13,  14,  15,  16,  17,  18,  19,  20,  21,  22,  23,  24,  25,\n",
       "        26,  27,  28,  29,  30,  31,  32,  33,  34,  35,  36,  37,  38,\n",
       "        39,  40,  41,  42,  43,  44,  45,  46,  47,  48,  49,  50,  51,\n",
       "        52,  53,  54,  55,  56,  57,  58,  59,  60,  61,  62,  63,  64,\n",
       "        65,  66,  67,  68,  69,  70,  71,  72,  73,  74,  75,  76,  77,\n",
       "        78,  79,  80,  81,  82,  83,  84,  85,  86,  87,  88,  89,  90,\n",
       "        91,  92,  93,  94,  95,  96,  97,  98,  99, 100, 101, 102, 103,\n",
       "       104, 105, 106, 107, 108, 109, 110, 111, 112, 113, 114, 115, 116,\n",
       "       117, 118, 119, 120, 121, 122, 123, 124, 125, 126, 127, 128, 129,\n",
       "       130], dtype=int32)"
      ]
     },
     "execution_count": 42,
     "metadata": {},
     "output_type": "execute_result"
    }
   ],
   "source": [
    "np.unique(y_true)"
   ]
  },
  {
   "cell_type": "code",
   "execution_count": 37,
   "metadata": {},
   "outputs": [
    {
     "data": {
      "text/plain": [
       "array([44, 44, 44, 44, 44, 44, 44, 44, 44, 44, 44, 44, 44, 44, 44, 44, 44,\n",
       "       44, 44, 44, 44, 44, 44, 44, 44, 44, 44, 44, 44, 44, 44, 44, 44, 44,\n",
       "       44, 44, 44, 44, 44, 44, 44, 44, 44, 44, 44, 44, 44, 44, 44, 44])"
      ]
     },
     "execution_count": 37,
     "metadata": {},
     "output_type": "execute_result"
    }
   ],
   "source": [
    "y_pred[0:50]"
   ]
  },
  {
   "cell_type": "code",
   "execution_count": 41,
   "metadata": {},
   "outputs": [
    {
     "data": {
      "text/plain": [
       "array([44])"
      ]
     },
     "execution_count": 41,
     "metadata": {},
     "output_type": "execute_result"
    }
   ],
   "source": [
    "np.unique(y_pred)"
   ]
  },
  {
   "cell_type": "markdown",
   "metadata": {},
   "source": [
    "# Model - LeNet5"
   ]
  },
  {
   "cell_type": "markdown",
   "metadata": {},
   "source": [
    "## Fiting"
   ]
  },
  {
   "cell_type": "code",
   "execution_count": 29,
   "metadata": {},
   "outputs": [],
   "source": [
    "# Clear VRAM\n",
    "K.clear_session()"
   ]
  },
  {
   "cell_type": "code",
   "execution_count": 39,
   "metadata": {},
   "outputs": [
    {
     "name": "stdout",
     "output_type": "stream",
     "text": [
      "Model: \"sequential_1\"\n",
      "_________________________________________________________________\n",
      "Layer (type)                 Output Shape              Param #   \n",
      "=================================================================\n",
      "conv2d_2 (Conv2D)            (None, 96, 96, 6)         456       \n",
      "_________________________________________________________________\n",
      "average_pooling2d_2 (Average (None, 48, 48, 6)         0         \n",
      "_________________________________________________________________\n",
      "conv2d_3 (Conv2D)            (None, 46, 46, 16)        880       \n",
      "_________________________________________________________________\n",
      "average_pooling2d_3 (Average (None, 23, 23, 16)        0         \n",
      "_________________________________________________________________\n",
      "flatten_1 (Flatten)          (None, 8464)              0         \n",
      "_________________________________________________________________\n",
      "dense_2 (Dense)              (None, 120)               1015800   \n",
      "_________________________________________________________________\n",
      "dense_3 (Dense)              (None, 84)                10164     \n",
      "_________________________________________________________________\n",
      "dense_4 (Dense)              (None, 131)               11135     \n",
      "=================================================================\n",
      "Total params: 1,038,435\n",
      "Trainable params: 1,038,435\n",
      "Non-trainable params: 0\n",
      "_________________________________________________________________\n"
     ]
    }
   ],
   "source": [
    "model_baseline = Sequential([\n",
    "    Conv2D(filters=6, input_shape=(IMG_HEIGHT, IMG_WIDTH ,3), kernel_size=5, strides=1, activation='relu'),\n",
    "    AveragePooling2D(),\n",
    "    \n",
    "    Conv2D(filters=16, kernel_size=(3, 3), activation='relu'),\n",
    "    AveragePooling2D(),\n",
    "    \n",
    "    Flatten(),\n",
    "    Dense(units=120, activation='relu'),\n",
    "    Dense(units=84, activation='relu'),\n",
    "    \n",
    "    Dense(131, activation = 'softmax')\n",
    "])\n",
    "\n",
    "model_baseline.summary()"
   ]
  },
  {
   "cell_type": "code",
   "execution_count": 40,
   "metadata": {},
   "outputs": [],
   "source": [
    "model_baseline.compile(optimizer='adam',\n",
    "              loss='categorical_crossentropy',\n",
    "              metrics=['categorical_accuracy', 'AUC'])"
   ]
  },
  {
   "cell_type": "code",
   "execution_count": 32,
   "metadata": {},
   "outputs": [],
   "source": [
    "# Set up TensorBoard\n",
    "NAME = 'Handmade_model_baseline_{}'.format(int(time.time()))\n",
    "tensorboard = TensorBoard(log_dir='logs/{}'.format(NAME))"
   ]
  },
  {
   "cell_type": "code",
   "execution_count": 41,
   "metadata": {},
   "outputs": [
    {
     "name": "stdout",
     "output_type": "stream",
     "text": [
      "Epoch 1/15\n",
      "528/528 [==============================] - 23s 43ms/step - loss: 4.9736 - categorical_accuracy: 0.0021 - auc: 0.5053\n",
      "Epoch 2/15\n",
      "528/528 [==============================] - 23s 43ms/step - loss: 4.9140 - categorical_accuracy: 0.0000e+00 - auc: 0.4939\n",
      "Epoch 3/15\n",
      "528/528 [==============================] - 23s 43ms/step - loss: 4.9010 - categorical_accuracy: 0.0101 - auc: 0.4998\n",
      "Epoch 4/15\n",
      "528/528 [==============================] - 23s 44ms/step - loss: 4.5462 - categorical_accuracy: 0.0106 - auc: 0.7187\n",
      "Epoch 5/15\n",
      "528/528 [==============================] - 24s 45ms/step - loss: 4.1599 - categorical_accuracy: 0.0173 - auc: 0.8456\n",
      "Epoch 6/15\n",
      "528/528 [==============================] - 24s 45ms/step - loss: 3.7445 - categorical_accuracy: 0.0242 - auc: 0.9058\n",
      "Epoch 7/15\n",
      "528/528 [==============================] - 24s 45ms/step - loss: 4.7043 - categorical_accuracy: 0.0073 - auc: 0.6725\n",
      "Epoch 8/15\n",
      "528/528 [==============================] - 24s 45ms/step - loss: 4.4968 - categorical_accuracy: 0.0059 - auc: 0.7308\n",
      "Epoch 9/15\n",
      "528/528 [==============================] - 24s 45ms/step - loss: 4.8406 - categorical_accuracy: 0.0016 - auc: 0.5779\n",
      "Epoch 10/15\n",
      "528/528 [==============================] - 23s 44ms/step - loss: 4.7741 - categorical_accuracy: 0.0000e+00 - auc: 0.6036\n",
      "Epoch 11/15\n",
      "528/528 [==============================] - 23s 44ms/step - loss: 4.9044 - categorical_accuracy: 5.9203e-05 - auc: 0.4911\n",
      "Epoch 12/15\n",
      "528/528 [==============================] - 23s 43ms/step - loss: 4.8931 - categorical_accuracy: 0.0057 - auc: 0.4975\n",
      "Epoch 13/15\n",
      "528/528 [==============================] - 23s 44ms/step - loss: 4.8914 - categorical_accuracy: 5.9203e-05 - auc: 0.4995\n",
      "Epoch 14/15\n",
      "528/528 [==============================] - 23s 43ms/step - loss: 4.8898 - categorical_accuracy: 0.0017 - auc: 0.5015\n",
      "Epoch 15/15\n",
      "528/528 [==============================] - 23s 44ms/step - loss: 4.7289 - categorical_accuracy: 0.0146 - auc: 0.5865\n",
      "CPU times: user 7min 54s, sys: 18.1 s, total: 8min 13s\n",
      "Wall time: 5min 49s\n"
     ]
    }
   ],
   "source": [
    "%%time\n",
    "# Train model_baseline\n",
    "history = model_baseline.fit(train_data_gen,\n",
    "                             steps_per_epoch=num_train // batch_size,\n",
    "                             epochs=epochs,\n",
    "                             callbacks=[tensorboard])"
   ]
  },
  {
   "cell_type": "code",
   "execution_count": 23,
   "metadata": {},
   "outputs": [],
   "source": [
    "model_baseline.save('LeNet5.hdf5')\n",
    "\n",
    "where_to_save = 'LeNet5_weights'\n",
    "model_baseline.save_weights(filepath=where_to_save,\n",
    "                            overwrite=True)"
   ]
  },
  {
   "cell_type": "markdown",
   "metadata": {},
   "source": [
    "## Learning Curve"
   ]
  },
  {
   "cell_type": "code",
   "execution_count": 42,
   "metadata": {},
   "outputs": [
    {
     "data": {
      "text/plain": [
       "dict_keys(['loss', 'categorical_accuracy', 'auc'])"
      ]
     },
     "execution_count": 42,
     "metadata": {},
     "output_type": "execute_result"
    }
   ],
   "source": [
    "history.history.keys()"
   ]
  },
  {
   "cell_type": "code",
   "execution_count": 43,
   "metadata": {},
   "outputs": [
    {
     "data": {
      "image/png": "[encoded data removed]",
      "text/plain": [
       "<Figure size 576x576 with 2 Axes>"
      ]
     },
     "metadata": {
      "needs_background": "light"
     },
     "output_type": "display_data"
    }
   ],
   "source": [
    "auc = history.history['auc']\n",
    "#val_auc = history.history['val_auc']\n",
    "\n",
    "loss=history.history['loss']\n",
    "#val_loss=history.history['val_loss']\n",
    "\n",
    "epochs_range = range(epochs)\n",
    "\n",
    "plt.figure(figsize=(8, 8))\n",
    "plt.subplot(1, 2, 1)\n",
    "plt.plot(epochs_range, auc, label='Training AUC')\n",
    "#plt.plot(epochs_range, val_auc, label='Validation AUC')\n",
    "plt.legend(loc='lower right')\n",
    "plt.title('Training and Validation AUC')\n",
    "\n",
    "plt.subplot(1, 2, 2)\n",
    "plt.plot(epochs_range, loss, label='Training Loss')\n",
    "#plt.plot(epochs_range, val_loss, label='Validation Loss')\n",
    "plt.legend(loc='upper right')\n",
    "plt.title('Training and Validation Loss')\n",
    "plt.show()"
   ]
  },
  {
   "cell_type": "markdown",
   "metadata": {},
   "source": [
    "## Clasification report"
   ]
  },
  {
   "cell_type": "code",
   "execution_count": null,
   "metadata": {},
   "outputs": [],
   "source": [
    "# model_baseline.load_weights('baseline_ver_2_weights')"
   ]
  },
  {
   "cell_type": "code",
   "execution_count": 44,
   "metadata": {},
   "outputs": [
    {
     "name": "stdout",
     "output_type": "stream",
     "text": [
      "178/177 [==============================] - 7s 42ms/step\n"
     ]
    }
   ],
   "source": [
    "y_pred = model_baseline.predict(test_data_gen,\n",
    "                                    steps=num_test/batch_size,\n",
    "                                    verbose=1)\n",
    "y_pred = np.argmax(y_pred, axis=1)"
   ]
  },
  {
   "cell_type": "code",
   "execution_count": 45,
   "metadata": {},
   "outputs": [],
   "source": [
    "y_true = test_data_gen.labels"
   ]
  },
  {
   "cell_type": "code",
   "execution_count": 46,
   "metadata": {},
   "outputs": [
    {
     "name": "stdout",
     "output_type": "stream",
     "text": [
      "              precision    recall  f1-score   support\n",
      "\n",
      "           0       0.00      0.00      0.00       164\n",
      "           1       0.00      0.00      0.00       148\n",
      "           2       0.00      0.00      0.00       160\n",
      "           3       0.00      0.00      0.00       164\n",
      "           4       0.00      0.00      0.00       161\n",
      "           5       0.00      0.00      0.00       164\n",
      "           6       0.00      0.00      0.00       152\n",
      "           7       0.00      0.00      0.00       164\n",
      "           8       0.00      0.00      0.00       164\n",
      "           9       0.00      0.00      0.00       144\n",
      "          10       0.00      0.00      0.00       166\n",
      "          11       0.00      0.00      0.00       164\n",
      "          12       0.00      0.00      0.00       219\n",
      "          13       0.00      0.00      0.00       164\n",
      "          14       0.00      0.00      0.00       143\n",
      "          15       0.00      0.00      0.00       166\n",
      "          16       0.00      0.00      0.00       166\n",
      "          17       0.00      0.00      0.00       152\n",
      "          18       0.00      0.00      0.00       166\n",
      "          19       0.00      0.00      0.00       150\n",
      "          20       0.00      0.00      0.00       154\n",
      "          21       0.00      0.00      0.00       166\n",
      "          22       0.00      0.00      0.00       164\n",
      "          23       0.00      0.00      0.00       164\n",
      "          24       0.00      0.00      0.00       166\n",
      "          25       0.00      0.00      0.00       234\n",
      "          26       0.00      0.00      0.00       164\n",
      "          27       0.00      0.00      0.00       246\n",
      "          28       0.00      0.00      0.00       246\n",
      "          29       0.00      0.00      0.00       164\n",
      "          30       0.00      0.00      0.00       164\n",
      "          31       0.00      0.00      0.00       164\n",
      "          32       0.00      0.00      0.00       153\n",
      "          33       0.00      0.00      0.00       166\n",
      "          34       0.00      0.00      0.00       166\n",
      "          35       0.00      0.00      0.00       150\n",
      "          36       0.00      0.00      0.00       154\n",
      "          37       0.00      0.00      0.00       130\n",
      "          38       0.00      0.00      0.00       156\n",
      "          39       0.00      0.00      0.00       166\n",
      "          40       0.00      0.00      0.00       156\n",
      "          41       0.00      0.00      0.00       234\n",
      "          42       0.00      0.00      0.00        99\n",
      "          43       0.00      0.00      0.00       166\n",
      "          44       0.00      0.00      0.00       328\n",
      "          45       0.00      0.00      0.00       164\n",
      "          46       0.00      0.00      0.00       166\n",
      "          47       0.00      0.00      0.00       166\n",
      "          48       0.00      0.00      0.00       164\n",
      "          49       0.00      0.00      0.00       158\n",
      "          50       0.00      0.00      0.00       166\n",
      "          51       0.00      0.00      0.00       164\n",
      "          52       0.00      0.00      0.00       166\n",
      "          53       0.00      0.00      0.00       157\n",
      "          54       0.00      0.00      0.00       166\n",
      "          55       0.00      0.00      0.00       166\n",
      "          56       0.00      0.00      0.00       156\n",
      "          57       0.00      0.00      0.00       157\n",
      "          58       0.00      0.00      0.00       166\n",
      "          59       0.00      0.00      0.00       164\n",
      "          60       0.00      0.00      0.00       166\n",
      "          61       0.00      0.00      0.00       166\n",
      "          62       0.00      0.00      0.00       166\n",
      "          63       0.00      0.00      0.00       166\n",
      "          64       0.00      0.00      0.00       166\n",
      "          65       0.00      0.00      0.00       142\n",
      "          66       0.00      0.00      0.00       102\n",
      "          67       0.00      0.00      0.00       166\n",
      "          68       0.00      0.00      0.00       246\n",
      "          69       0.00      0.00      0.00       164\n",
      "          70       0.00      0.00      0.00       164\n",
      "          71       0.00      0.00      0.00       160\n",
      "          72       0.00      0.00      0.00       218\n",
      "          73       0.00      0.00      0.00       178\n",
      "          74       0.00      0.00      0.00       150\n",
      "          75       0.00      0.00      0.00       155\n",
      "          76       0.00      0.00      0.00       146\n",
      "          77       0.00      0.00      0.00       160\n",
      "          78       0.00      0.00      0.00       164\n",
      "          79       0.00      0.00      0.00       166\n",
      "          80       0.00      0.00      0.00       164\n",
      "          81       0.00      0.00      0.00       246\n",
      "          82       0.00      0.00      0.00       164\n",
      "          83       0.00      0.00      0.00       164\n",
      "          84       0.00      0.00      0.00       232\n",
      "          85       0.00      0.00      0.00       166\n",
      "          86       0.00      0.00      0.00       234\n",
      "          87       0.00      0.00      0.00       102\n",
      "          88       0.00      0.00      0.00       166\n",
      "          89       0.00      0.00      0.00       222\n",
      "          90       0.00      0.00      0.00       237\n",
      "          91       0.00      0.00      0.00       166\n",
      "          92       0.00      0.00      0.00       166\n",
      "          93       0.00      0.00      0.00       148\n",
      "          94       0.00      0.00      0.00       234\n",
      "          95       0.00      0.00      0.00       222\n",
      "          96       0.00      0.00      0.00       222\n",
      "          97       0.00      0.00      0.00       164\n",
      "          98       0.00      0.00      0.00       164\n",
      "          99       0.00      0.00      0.00       166\n",
      "         100       0.00      0.00      0.00       163\n",
      "         101       0.00      0.00      0.00       166\n",
      "         102       0.00      0.00      0.00       151\n",
      "         103       0.00      0.00      0.00       142\n",
      "         104       0.00      0.00      0.00       304\n",
      "         105       0.00      0.00      0.00       164\n",
      "         106       0.00      0.00      0.00       153\n",
      "         107       0.00      0.00      0.00       150\n",
      "         108       0.00      0.00      0.00       151\n",
      "         109       0.00      0.00      0.00       150\n",
      "         110       0.00      0.00      0.00       150\n",
      "         111       0.00      0.00      0.00       166\n",
      "         112       0.00      0.00      0.00       164\n",
      "         113       0.00      0.00      0.00       166\n",
      "         114       0.00      0.00      0.00       164\n",
      "         115       0.00      0.00      0.00       162\n",
      "         116       0.00      0.00      0.00       164\n",
      "         117       0.01      1.00      0.02       246\n",
      "         118       0.00      0.00      0.00       166\n",
      "         119       0.00      0.00      0.00       166\n",
      "         120       0.00      0.00      0.00       246\n",
      "         121       0.00      0.00      0.00       225\n",
      "         122       0.00      0.00      0.00       246\n",
      "         123       0.00      0.00      0.00       160\n",
      "         124       0.00      0.00      0.00       164\n",
      "         125       0.00      0.00      0.00       228\n",
      "         126       0.00      0.00      0.00       127\n",
      "         127       0.00      0.00      0.00       153\n",
      "         128       0.00      0.00      0.00       158\n",
      "         129       0.00      0.00      0.00       249\n",
      "         130       0.00      0.00      0.00       157\n",
      "\n",
      "    accuracy                           0.01     22688\n",
      "   macro avg       0.00      0.01      0.00     22688\n",
      "weighted avg       0.00      0.01      0.00     22688\n",
      "\n"
     ]
    },
    {
     "name": "stderr",
     "output_type": "stream",
     "text": [
      "/home/maihai/anaconda3/envs/DLgpu/lib/python3.7/site-packages/sklearn/metrics/_classification.py:1272: UndefinedMetricWarning: Precision and F-score are ill-defined and being set to 0.0 in labels with no predicted samples. Use `zero_division` parameter to control this behavior.\n",
      "  _warn_prf(average, modifier, msg_start, len(result))\n"
     ]
    }
   ],
   "source": [
    "print(classification_report(y_true, y_pred))"
   ]
  },
  {
   "cell_type": "markdown",
   "metadata": {},
   "source": [
    "# Model - Ver 3"
   ]
  },
  {
   "cell_type": "markdown",
   "metadata": {},
   "source": [
    "## Fiting"
   ]
  },
  {
   "cell_type": "code",
   "execution_count": 26,
   "metadata": {},
   "outputs": [],
   "source": [
    "# Clear VRAM\n",
    "K.clear_session()"
   ]
  },
  {
   "cell_type": "code",
   "execution_count": 27,
   "metadata": {},
   "outputs": [
    {
     "name": "stdout",
     "output_type": "stream",
     "text": [
      "Model: \"sequential\"\n",
      "_________________________________________________________________\n",
      "Layer (type)                 Output Shape              Param #   \n",
      "=================================================================\n",
      "conv2d (Conv2D)              (None, 96, 96, 32)        2432      \n",
      "_________________________________________________________________\n",
      "average_pooling2d (AveragePo (None, 48, 48, 32)        0         \n",
      "_________________________________________________________________\n",
      "conv2d_1 (Conv2D)            (None, 46, 46, 64)        18496     \n",
      "_________________________________________________________________\n",
      "average_pooling2d_1 (Average (None, 23, 23, 64)        0         \n",
      "_________________________________________________________________\n",
      "flatten (Flatten)            (None, 33856)             0         \n",
      "_________________________________________________________________\n",
      "dense (Dense)                (None, 120)               4062840   \n",
      "_________________________________________________________________\n",
      "dense_1 (Dense)              (None, 84)                10164     \n",
      "_________________________________________________________________\n",
      "dense_2 (Dense)              (None, 131)               11135     \n",
      "=================================================================\n",
      "Total params: 4,105,067\n",
      "Trainable params: 4,105,067\n",
      "Non-trainable params: 0\n",
      "_________________________________________________________________\n"
     ]
    }
   ],
   "source": [
    "model_baseline = Sequential([\n",
    "    Conv2D(filters=32, input_shape=(IMG_HEIGHT, IMG_WIDTH ,3), kernel_size=5, strides=1, activation='relu'),\n",
    "    AveragePooling2D(),\n",
    "    \n",
    "    Conv2D(filters=64, kernel_size=(3, 3), activation='relu'),\n",
    "    AveragePooling2D(),\n",
    "    \n",
    "    Flatten(),\n",
    "    Dense(units=120, activation='relu'),\n",
    "    Dense(units=84, activation='relu'),\n",
    "    \n",
    "    Dense(131, activation = 'softmax')\n",
    "])\n",
    "\n",
    "model_baseline.summary()"
   ]
  },
  {
   "cell_type": "code",
   "execution_count": 28,
   "metadata": {},
   "outputs": [],
   "source": [
    "model_baseline.compile(optimizer='adam',\n",
    "              loss='categorical_crossentropy',\n",
    "              metrics=['categorical_accuracy', 'AUC'])"
   ]
  },
  {
   "cell_type": "code",
   "execution_count": 23,
   "metadata": {},
   "outputs": [],
   "source": [
    "# Set up TensorBoard\n",
    "NAME = 'Handmade_model_baseline_{}'.format(int(time.time()))\n",
    "tensorboard = TensorBoard(log_dir='logs/{}'.format(NAME))"
   ]
  },
  {
   "cell_type": "code",
   "execution_count": 29,
   "metadata": {},
   "outputs": [
    {
     "name": "stdout",
     "output_type": "stream",
     "text": [
      "Epoch 1/15\n",
      "528/528 [==============================] - 30s 57ms/step - loss: 5.0469 - categorical_accuracy: 0.0084 - auc: 0.5214\n",
      "Epoch 2/15\n",
      "528/528 [==============================] - 30s 57ms/step - loss: 4.9026 - categorical_accuracy: 0.0000e+00 - auc: 0.5000\n",
      "Epoch 3/15\n",
      "528/528 [==============================] - 30s 57ms/step - loss: 4.8992 - categorical_accuracy: 0.0000e+00 - auc: 0.5000\n",
      "Epoch 4/15\n",
      "528/528 [==============================] - 30s 57ms/step - loss: 4.8781 - categorical_accuracy: 6.3625e-04 - auc: 0.5563\n",
      "Epoch 5/15\n",
      "528/528 [==============================] - 30s 56ms/step - loss: 4.8163 - categorical_accuracy: 0.0089 - auc: 0.5968\n",
      "Epoch 6/15\n",
      "528/528 [==============================] - 30s 56ms/step - loss: 4.7032 - categorical_accuracy: 0.0024 - auc: 0.6170\n",
      "Epoch 7/15\n",
      "528/528 [==============================] - 30s 57ms/step - loss: 4.8964 - categorical_accuracy: 0.0146 - auc: 0.5000\n",
      "Epoch 8/15\n",
      "528/528 [==============================] - 30s 57ms/step - loss: 4.8902 - categorical_accuracy: 0.0146 - auc: 0.5000\n",
      "Epoch 9/15\n",
      "528/528 [==============================] - 30s 57ms/step - loss: 4.8888 - categorical_accuracy: 0.0146 - auc: 0.4978\n",
      "Epoch 10/15\n",
      "528/528 [==============================] - 30s 57ms/step - loss: 4.8875 - categorical_accuracy: 0.0146 - auc: 0.4975\n",
      "Epoch 11/15\n",
      "528/528 [==============================] - 30s 56ms/step - loss: 4.8864 - categorical_accuracy: 0.0146 - auc: 0.5035\n",
      "Epoch 12/15\n",
      "528/528 [==============================] - 29s 55ms/step - loss: 4.8853 - categorical_accuracy: 0.0146 - auc: 0.5035\n",
      "Epoch 13/15\n",
      "528/528 [==============================] - 29s 55ms/step - loss: 4.8843 - categorical_accuracy: 0.0146 - auc: 0.5035\n",
      "Epoch 14/15\n",
      "528/528 [==============================] - 29s 55ms/step - loss: 4.8833 - categorical_accuracy: 0.0146 - auc: 0.5035\n",
      "Epoch 15/15\n",
      "528/528 [==============================] - 29s 55ms/step - loss: 4.8824 - categorical_accuracy: 0.0146 - auc: 0.5035\n",
      "CPU times: user 11min 6s, sys: 24.3 s, total: 11min 31s\n",
      "Wall time: 7min 27s\n"
     ]
    }
   ],
   "source": [
    "%%time\n",
    "# Train model_baseline\n",
    "history = model_baseline.fit(train_data_gen,\n",
    "                             steps_per_epoch=num_train // batch_size,\n",
    "                             epochs=epochs,\n",
    "                             callbacks=[tensorboard])"
   ]
  },
  {
   "cell_type": "code",
   "execution_count": 23,
   "metadata": {},
   "outputs": [],
   "source": [
    "model_baseline.save('Ver3.hdf5')\n",
    "\n",
    "where_to_save = 'Ver3_weights'\n",
    "model_baseline.save_weights(filepath=where_to_save,\n",
    "                            overwrite=True)"
   ]
  },
  {
   "cell_type": "markdown",
   "metadata": {},
   "source": [
    "## Learning Curve"
   ]
  },
  {
   "cell_type": "code",
   "execution_count": 30,
   "metadata": {},
   "outputs": [
    {
     "data": {
      "text/plain": [
       "dict_keys(['loss', 'categorical_accuracy', 'auc'])"
      ]
     },
     "execution_count": 30,
     "metadata": {},
     "output_type": "execute_result"
    }
   ],
   "source": [
    "history.history.keys()"
   ]
  },
  {
   "cell_type": "code",
   "execution_count": 31,
   "metadata": {},
   "outputs": [
    {
     "data": {
      "image/png": "[encoded data removed]",
      "text/plain": [
       "<Figure size 576x576 with 2 Axes>"
      ]
     },
     "metadata": {
      "needs_background": "light"
     },
     "output_type": "display_data"
    }
   ],
   "source": [
    "auc = history.history['auc']\n",
    "#val_auc = history.history['val_auc']\n",
    "\n",
    "loss=history.history['loss']\n",
    "#val_loss=history.history['val_loss']\n",
    "\n",
    "epochs_range = range(epochs)\n",
    "\n",
    "plt.figure(figsize=(8, 8))\n",
    "plt.subplot(1, 2, 1)\n",
    "plt.plot(epochs_range, auc, label='Training AUC')\n",
    "#plt.plot(epochs_range, val_auc, label='Validation AUC')\n",
    "plt.legend(loc='lower right')\n",
    "plt.title('Training and Validation AUC')\n",
    "\n",
    "plt.subplot(1, 2, 2)\n",
    "plt.plot(epochs_range, loss, label='Training Loss')\n",
    "#plt.plot(epochs_range, val_loss, label='Validation Loss')\n",
    "plt.legend(loc='upper right')\n",
    "plt.title('Training and Validation Loss')\n",
    "plt.show()"
   ]
  },
  {
   "cell_type": "markdown",
   "metadata": {},
   "source": [
    "## Clasification report"
   ]
  },
  {
   "cell_type": "code",
   "execution_count": null,
   "metadata": {},
   "outputs": [],
   "source": [
    "# model_baseline.load_weights('baseline_ver_2_weights')"
   ]
  },
  {
   "cell_type": "code",
   "execution_count": 32,
   "metadata": {},
   "outputs": [
    {
     "name": "stdout",
     "output_type": "stream",
     "text": [
      "178/177 [==============================] - 10s 57ms/step\n"
     ]
    }
   ],
   "source": [
    "y_pred = model_baseline.predict(test_data_gen,\n",
    "                                    steps=num_test/batch_size,\n",
    "                                    verbose=1)\n",
    "y_pred = np.argmax(y_pred, axis=1)"
   ]
  },
  {
   "cell_type": "code",
   "execution_count": 33,
   "metadata": {},
   "outputs": [],
   "source": [
    "y_true = test_data_gen.labels"
   ]
  },
  {
   "cell_type": "code",
   "execution_count": 34,
   "metadata": {},
   "outputs": [
    {
     "name": "stdout",
     "output_type": "stream",
     "text": [
      "              precision    recall  f1-score   support\n",
      "\n",
      "           0       0.00      0.00      0.00       164\n",
      "           1       0.00      0.00      0.00       148\n",
      "           2       0.00      0.00      0.00       160\n",
      "           3       0.00      0.00      0.00       164\n",
      "           4       0.00      0.00      0.00       161\n",
      "           5       0.00      0.00      0.00       164\n",
      "           6       0.00      0.00      0.00       152\n",
      "           7       0.00      0.00      0.00       164\n",
      "           8       0.00      0.00      0.00       164\n",
      "           9       0.00      0.00      0.00       144\n",
      "          10       0.00      0.00      0.00       166\n",
      "          11       0.00      0.00      0.00       164\n",
      "          12       0.00      0.00      0.00       219\n",
      "          13       0.00      0.00      0.00       164\n",
      "          14       0.00      0.00      0.00       143\n",
      "          15       0.00      0.00      0.00       166\n",
      "          16       0.00      0.00      0.00       166\n",
      "          17       0.00      0.00      0.00       152\n",
      "          18       0.00      0.00      0.00       166\n",
      "          19       0.00      0.00      0.00       150\n",
      "          20       0.00      0.00      0.00       154\n",
      "          21       0.00      0.00      0.00       166\n",
      "          22       0.00      0.00      0.00       164\n",
      "          23       0.00      0.00      0.00       164\n",
      "          24       0.00      0.00      0.00       166\n",
      "          25       0.00      0.00      0.00       234\n",
      "          26       0.00      0.00      0.00       164\n",
      "          27       0.00      0.00      0.00       246\n",
      "          28       0.00      0.00      0.00       246\n",
      "          29       0.00      0.00      0.00       164\n",
      "          30       0.00      0.00      0.00       164\n",
      "          31       0.00      0.00      0.00       164\n",
      "          32       0.00      0.00      0.00       153\n",
      "          33       0.00      0.00      0.00       166\n",
      "          34       0.00      0.00      0.00       166\n",
      "          35       0.00      0.00      0.00       150\n",
      "          36       0.00      0.00      0.00       154\n",
      "          37       0.00      0.00      0.00       130\n",
      "          38       0.00      0.00      0.00       156\n",
      "          39       0.00      0.00      0.00       166\n",
      "          40       0.00      0.00      0.00       156\n",
      "          41       0.00      0.00      0.00       234\n",
      "          42       0.00      0.00      0.00        99\n",
      "          43       0.00      0.00      0.00       166\n",
      "          44       0.01      1.00      0.03       328\n",
      "          45       0.00      0.00      0.00       164\n",
      "          46       0.00      0.00      0.00       166\n",
      "          47       0.00      0.00      0.00       166\n",
      "          48       0.00      0.00      0.00       164\n",
      "          49       0.00      0.00      0.00       158\n",
      "          50       0.00      0.00      0.00       166\n",
      "          51       0.00      0.00      0.00       164\n",
      "          52       0.00      0.00      0.00       166\n",
      "          53       0.00      0.00      0.00       157\n",
      "          54       0.00      0.00      0.00       166\n",
      "          55       0.00      0.00      0.00       166\n",
      "          56       0.00      0.00      0.00       156\n",
      "          57       0.00      0.00      0.00       157\n",
      "          58       0.00      0.00      0.00       166\n",
      "          59       0.00      0.00      0.00       164\n",
      "          60       0.00      0.00      0.00       166\n",
      "          61       0.00      0.00      0.00       166\n",
      "          62       0.00      0.00      0.00       166\n",
      "          63       0.00      0.00      0.00       166\n",
      "          64       0.00      0.00      0.00       166\n",
      "          65       0.00      0.00      0.00       142\n",
      "          66       0.00      0.00      0.00       102\n",
      "          67       0.00      0.00      0.00       166\n",
      "          68       0.00      0.00      0.00       246\n",
      "          69       0.00      0.00      0.00       164\n",
      "          70       0.00      0.00      0.00       164\n",
      "          71       0.00      0.00      0.00       160\n",
      "          72       0.00      0.00      0.00       218\n",
      "          73       0.00      0.00      0.00       178\n",
      "          74       0.00      0.00      0.00       150\n",
      "          75       0.00      0.00      0.00       155\n",
      "          76       0.00      0.00      0.00       146\n",
      "          77       0.00      0.00      0.00       160\n",
      "          78       0.00      0.00      0.00       164\n",
      "          79       0.00      0.00      0.00       166\n",
      "          80       0.00      0.00      0.00       164\n",
      "          81       0.00      0.00      0.00       246\n",
      "          82       0.00      0.00      0.00       164\n",
      "          83       0.00      0.00      0.00       164\n",
      "          84       0.00      0.00      0.00       232\n",
      "          85       0.00      0.00      0.00       166\n",
      "          86       0.00      0.00      0.00       234\n",
      "          87       0.00      0.00      0.00       102\n",
      "          88       0.00      0.00      0.00       166\n",
      "          89       0.00      0.00      0.00       222\n",
      "          90       0.00      0.00      0.00       237\n",
      "          91       0.00      0.00      0.00       166\n",
      "          92       0.00      0.00      0.00       166\n",
      "          93       0.00      0.00      0.00       148\n",
      "          94       0.00      0.00      0.00       234\n",
      "          95       0.00      0.00      0.00       222\n",
      "          96       0.00      0.00      0.00       222\n",
      "          97       0.00      0.00      0.00       164\n",
      "          98       0.00      0.00      0.00       164\n",
      "          99       0.00      0.00      0.00       166\n",
      "         100       0.00      0.00      0.00       163\n",
      "         101       0.00      0.00      0.00       166\n",
      "         102       0.00      0.00      0.00       151\n",
      "         103       0.00      0.00      0.00       142\n",
      "         104       0.00      0.00      0.00       304\n",
      "         105       0.00      0.00      0.00       164\n",
      "         106       0.00      0.00      0.00       153\n",
      "         107       0.00      0.00      0.00       150\n",
      "         108       0.00      0.00      0.00       151\n",
      "         109       0.00      0.00      0.00       150\n",
      "         110       0.00      0.00      0.00       150\n",
      "         111       0.00      0.00      0.00       166\n",
      "         112       0.00      0.00      0.00       164\n",
      "         113       0.00      0.00      0.00       166\n",
      "         114       0.00      0.00      0.00       164\n",
      "         115       0.00      0.00      0.00       162\n",
      "         116       0.00      0.00      0.00       164\n",
      "         117       0.00      0.00      0.00       246\n",
      "         118       0.00      0.00      0.00       166\n",
      "         119       0.00      0.00      0.00       166\n",
      "         120       0.00      0.00      0.00       246\n",
      "         121       0.00      0.00      0.00       225\n",
      "         122       0.00      0.00      0.00       246\n",
      "         123       0.00      0.00      0.00       160\n",
      "         124       0.00      0.00      0.00       164\n",
      "         125       0.00      0.00      0.00       228\n",
      "         126       0.00      0.00      0.00       127\n",
      "         127       0.00      0.00      0.00       153\n",
      "         128       0.00      0.00      0.00       158\n",
      "         129       0.00      0.00      0.00       249\n",
      "         130       0.00      0.00      0.00       157\n",
      "\n",
      "    accuracy                           0.01     22688\n",
      "   macro avg       0.00      0.01      0.00     22688\n",
      "weighted avg       0.00      0.01      0.00     22688\n",
      "\n"
     ]
    },
    {
     "name": "stderr",
     "output_type": "stream",
     "text": [
      "/home/maihai/anaconda3/envs/DLgpu/lib/python3.7/site-packages/sklearn/metrics/_classification.py:1272: UndefinedMetricWarning: Precision and F-score are ill-defined and being set to 0.0 in labels with no predicted samples. Use `zero_division` parameter to control this behavior.\n",
      "  _warn_prf(average, modifier, msg_start, len(result))\n"
     ]
    }
   ],
   "source": [
    "print(classification_report(y_true, y_pred))"
   ]
  }
 ],
 "metadata": {
  "kernelspec": {
   "display_name": "Python 3",
   "language": "python",
   "name": "python3"
  },
  "language_info": {
   "codemirror_mode": {
    "name": "ipython",
    "version": 3
   },
   "file_extension": ".py",
   "mimetype": "text/x-python",
   "name": "python",
   "nbconvert_exporter": "python",
   "pygments_lexer": "ipython3",
   "version": "3.7.6"
  },
  "toc-autonumbering": true,
  "toc-showcode": false,
  "toc-showmarkdowntxt": false,
  "toc-showtags": false
 },
 "nbformat": 4,
 "nbformat_minor": 4
}
