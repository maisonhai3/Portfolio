{
 "cells": [
  {
   "cell_type": "markdown",
   "metadata": {},
   "source": [
    "# Import + Checking Environment"
   ]
  },
  {
   "cell_type": "code",
   "execution_count": 1,
   "metadata": {},
   "outputs": [
    {
     "name": "stderr",
     "output_type": "stream",
     "text": [
      "Using TensorFlow backend.\n"
     ]
    },
    {
     "name": "stdout",
     "output_type": "stream",
     "text": [
      "tensorflow:  2.2.0\n",
      "keras:  2.3.1\n"
     ]
    }
   ],
   "source": [
    "import keras as k\n",
    "import tensorflow as tf\n",
    "print('tensorflow: ', tf.__version__)\n",
    "print('keras: ', k.__version__)\n",
    "\n",
    "from keras.preprocessing.image import ImageDataGenerator\n",
    "\n",
    "from keras.models import Sequential\n",
    "from keras.layers import Dense, Flatten, Conv2D, AveragePooling2D\n"
   ]
  },
  {
   "cell_type": "code",
   "execution_count": 2,
   "metadata": {},
   "outputs": [
    {
     "data": {
      "text/plain": [
       "False"
      ]
     },
     "execution_count": 2,
     "metadata": {},
     "output_type": "execute_result"
    }
   ],
   "source": [
    "tf.test.is_built_with_cuda()"
   ]
  },
  {
   "cell_type": "code",
   "execution_count": 3,
   "metadata": {},
   "outputs": [
    {
     "data": {
      "text/plain": [
       "[]"
      ]
     },
     "execution_count": 3,
     "metadata": {},
     "output_type": "execute_result"
    }
   ],
   "source": [
    "tf.config.list_physical_devices('GPU')"
   ]
  },
  {
   "cell_type": "code",
   "execution_count": 4,
   "metadata": {},
   "outputs": [
    {
     "data": {
      "text/plain": [
       "''"
      ]
     },
     "execution_count": 4,
     "metadata": {},
     "output_type": "execute_result"
    }
   ],
   "source": [
    "tf.test.gpu_device_name()"
   ]
  },
  {
   "cell_type": "code",
   "execution_count": 5,
   "metadata": {},
   "outputs": [
    {
     "name": "stdout",
     "output_type": "stream",
     "text": [
      "[name: \"/device:CPU:0\"\n",
      "device_type: \"CPU\"\n",
      "memory_limit: 268435456\n",
      "locality {\n",
      "}\n",
      "incarnation: 14115195037861584279\n",
      ", name: \"/device:XLA_CPU:0\"\n",
      "device_type: \"XLA_CPU\"\n",
      "memory_limit: 17179869184\n",
      "locality {\n",
      "}\n",
      "incarnation: 4892290268117421706\n",
      "physical_device_desc: \"device: XLA_CPU device\"\n",
      "]\n"
     ]
    }
   ],
   "source": [
    "from tensorflow.python.client import device_lib\n",
    "print(device_lib.list_local_devices())"
   ]
  },
  {
   "cell_type": "markdown",
   "metadata": {},
   "source": [
    "# Preprocessing"
   ]
  },
  {
   "cell_type": "code",
   "execution_count": 6,
   "metadata": {},
   "outputs": [
    {
     "name": "stdout",
     "output_type": "stream",
     "text": [
      "Found 67692 images belonging to 131 classes.\n",
      "Found 22688 images belonging to 131 classes.\n"
     ]
    }
   ],
   "source": [
    "# the FULL dataset\n",
    "\n",
    "# create generator\n",
    "datagen = ImageDataGenerator()\n",
    "\n",
    "# prepare an iterators for each dataset\n",
    "train_full = datagen.flow_from_directory('train_full', \n",
    "                                          target_size=(32, 32),\n",
    "                                          class_mode='categorical',\n",
    "                                          shuffle=True,\n",
    "                                          batch_size=8)\n",
    "\n",
    "test_full = datagen.flow_from_directory('test_full',\n",
    "                                         target_size=(32, 32),\n",
    "                                         class_mode='categorical',\n",
    "                                         shuffle=True,\n",
    "                                         batch_size=8)"
   ]
  },
  {
   "cell_type": "code",
   "execution_count": 7,
   "metadata": {},
   "outputs": [
    {
     "name": "stdout",
     "output_type": "stream",
     "text": [
      "Found 1409 images belonging to 3 classes.\n",
      "Found 473 images belonging to 3 classes.\n"
     ]
    }
   ],
   "source": [
    "# the SMALLER dataset\n",
    "\n",
    "# create generator\n",
    "imgGen = ImageDataGenerator()\n",
    "\n",
    "# prepare an iterators for each dataset\n",
    "train_smaller = imgGen.flow_from_directory('train_smaller', \n",
    "                                            target_size=(32, 32),\n",
    "                                            class_mode='categorical',\n",
    "                                            shuffle=True,\n",
    "                                            batch_size=8)\n",
    "imgGen\n",
    "test_smaller = datagen.flow_from_directory('test_smaller',\n",
    "                                            target_size=(32, 32),\n",
    "                                            class_mode='categorical',\n",
    "                                            shuffle=True,\n",
    "                                            batch_size=8)"
   ]
  },
  {
   "cell_type": "code",
   "execution_count": 9,
   "metadata": {},
   "outputs": [
    {
     "name": "stdout",
     "output_type": "stream",
     "text": [
      "Found 277 images belonging to 3 classes.\n",
      "Found 473 images belonging to 3 classes.\n"
     ]
    }
   ],
   "source": [
    "# the TINY dataset\n",
    "\n",
    "# create generator\n",
    "imgGen = ImageDataGenerator()\n",
    "\n",
    "train = imgGen.flow_from_directory(directory='train_handmade',\n",
    "                                               target_size=(32, 32),\n",
    "                                               color_mode='rgb',\n",
    "                                               class_mode='categorical',\n",
    "                                               batch_size=8,\n",
    "                                               shuffle=True,\n",
    "                                               save_to_dir='train_saved')\n",
    "\n",
    "test = imgGen.flow_from_directory(directory='test_smaller',\n",
    "                                               target_size=(32, 32),\n",
    "                                               color_mode='rgb',\n",
    "                                               class_mode='categorical',\n",
    "                                               batch_size=8,\n",
    "                                               shuffle=True,\n",
    "                                               save_to_dir='train_saved')"
   ]
  },
  {
   "cell_type": "markdown",
   "metadata": {},
   "source": [
    "# The LeNet-5"
   ]
  },
  {
   "cell_type": "code",
   "execution_count": 10,
   "metadata": {},
   "outputs": [
    {
     "name": "stdout",
     "output_type": "stream",
     "text": [
      "Model: \"sequential_1\"\n",
      "_________________________________________________________________\n",
      "Layer (type)                 Output Shape              Param #   \n",
      "=================================================================\n",
      "conv2d_1 (Conv2D)            (None, 28, 28, 6)         456       \n",
      "_________________________________________________________________\n",
      "average_pooling2d_1 (Average (None, 14, 14, 6)         0         \n",
      "_________________________________________________________________\n",
      "conv2d_2 (Conv2D)            (None, 12, 12, 16)        880       \n",
      "_________________________________________________________________\n",
      "average_pooling2d_2 (Average (None, 6, 6, 16)          0         \n",
      "_________________________________________________________________\n",
      "flatten_1 (Flatten)          (None, 576)               0         \n",
      "_________________________________________________________________\n",
      "dense_1 (Dense)              (None, 120)               69240     \n",
      "_________________________________________________________________\n",
      "dense_2 (Dense)              (None, 84)                10164     \n",
      "_________________________________________________________________\n",
      "dense_3 (Dense)              (None, 131)               11135     \n",
      "=================================================================\n",
      "Total params: 91,875\n",
      "Trainable params: 91,875\n",
      "Non-trainable params: 0\n",
      "_________________________________________________________________\n"
     ]
    }
   ],
   "source": [
    "# LeNet-5 - output 131\n",
    "lenet5 = Sequential()\n",
    "\n",
    "lenet5.add(Conv2D(filters=6, input_shape=(32, 32, 3), kernel_size=5, strides=1, activation='relu'))\n",
    "lenet5.add(AveragePooling2D())\n",
    "\n",
    "lenet5.add(Conv2D(filters=16, kernel_size=(3, 3), activation='relu'))\n",
    "lenet5.add(AveragePooling2D())\n",
    "\n",
    "lenet5.add(Flatten())\n",
    "\n",
    "lenet5.add(Dense(units=120, activation='relu'))\n",
    "lenet5.add(Dense(units=84, activation='relu'))\n",
    "\n",
    "# Output\n",
    "lenet5.add(Dense(units=131, activation = 'softmax'))\n",
    "\n",
    "lenet5.summary()\n"
   ]
  },
  {
   "cell_type": "code",
   "execution_count": 11,
   "metadata": {},
   "outputs": [],
   "source": [
    "lenet5.compile(loss='categorical_crossentropy', optimizer='adam')"
   ]
  },
  {
   "cell_type": "code",
   "execution_count": null,
   "metadata": {},
   "outputs": [],
   "source": [
    "lenet5.fit(train_full, steps_per_epoch=None, epochs=100)"
   ]
  },
  {
   "cell_type": "code",
   "execution_count": null,
   "metadata": {},
   "outputs": [],
   "source": [
    "print(lenet5.evaluate(test_full))"
   ]
  },
  {
   "cell_type": "markdown",
   "metadata": {},
   "source": [
    "# Tensorboard"
   ]
  },
  {
   "cell_type": "code",
   "execution_count": 12,
   "metadata": {},
   "outputs": [],
   "source": [
    "from keras.callbacks import TensorBoard\n",
    "import datetime # miscellanous: to name folders\n",
    "\n",
    "log_dir = \"logs/fit/\" + datetime.datetime.now().strftime(\"%Y%m%d-%H%M%S\")\n",
    "tensorboard_callback = k.callbacks.TensorBoard(log_dir=log_dir)"
   ]
  },
  {
   "cell_type": "code",
   "execution_count": 27,
   "metadata": {},
   "outputs": [
    {
     "name": "stdout",
     "output_type": "stream",
     "text": [
      "Epoch 1/15\n",
      "8462/8462 [==============================] - 45s 5ms/step - loss: 0.4726 - categorical_accuracy: 0.9874 - auc_1: 0.9947 - val_loss: 24.5191 - val_categorical_accuracy: 0.8932 - val_auc_1: 0.9496\n",
      "Epoch 2/15\n",
      "8462/8462 [==============================] - 46s 5ms/step - loss: 0.5526 - categorical_accuracy: 0.9878 - auc_1: 0.9948 - val_loss: 7.9424 - val_categorical_accuracy: 0.8999 - val_auc_1: 0.9521\n",
      "Epoch 3/15\n",
      "8462/8462 [==============================] - 46s 5ms/step - loss: 0.5212 - categorical_accuracy: 0.9898 - auc_1: 0.9955 - val_loss: 6.8745 - val_categorical_accuracy: 0.8613 - val_auc_1: 0.9331\n",
      "Epoch 4/15\n",
      "8462/8462 [==============================] - 46s 5ms/step - loss: 0.5245 - categorical_accuracy: 0.9902 - auc_1: 0.9956 - val_loss: 37.5403 - val_categorical_accuracy: 0.8841 - val_auc_1: 0.9434\n",
      "Epoch 5/15\n",
      "8462/8462 [==============================] - 46s 5ms/step - loss: 0.6070 - categorical_accuracy: 0.9904 - auc_1: 0.9956 - val_loss: 0.0000e+00 - val_categorical_accuracy: 0.8875 - val_auc_1: 0.9454\n",
      "Epoch 6/15\n",
      "8462/8462 [==============================] - 46s 5ms/step - loss: 0.5709 - categorical_accuracy: 0.9916 - auc_1: 0.9961 - val_loss: 0.0000e+00 - val_categorical_accuracy: 0.8871 - val_auc_1: 0.9447\n",
      "Epoch 7/15\n",
      "8462/8462 [==============================] - 46s 5ms/step - loss: 0.7188 - categorical_accuracy: 0.9919 - auc_1: 0.9962 - val_loss: 18.6729 - val_categorical_accuracy: 0.8121 - val_auc_1: 0.9081\n",
      "Epoch 8/15\n",
      "8462/8462 [==============================] - 45s 5ms/step - loss: 0.6699 - categorical_accuracy: 0.9914 - auc_1: 0.9960 - val_loss: 0.0000e+00 - val_categorical_accuracy: 0.9038 - val_auc_1: 0.9527\n",
      "Epoch 9/15\n",
      "8462/8462 [==============================] - 46s 5ms/step - loss: 0.7281 - categorical_accuracy: 0.9920 - auc_1: 0.9962 - val_loss: 55.6245 - val_categorical_accuracy: 0.8877 - val_auc_1: 0.9446\n",
      "Epoch 10/15\n",
      "8462/8462 [==============================] - 46s 5ms/step - loss: 0.7865 - categorical_accuracy: 0.9927 - auc_1: 0.9966 - val_loss: 3.1292e-07 - val_categorical_accuracy: 0.8931 - val_auc_1: 0.9470\n",
      "Epoch 11/15\n",
      "8462/8462 [==============================] - 46s 5ms/step - loss: 0.8089 - categorical_accuracy: 0.9932 - auc_1: 0.9968 - val_loss: 0.0000e+00 - val_categorical_accuracy: 0.8969 - val_auc_1: 0.9488\n",
      "Epoch 12/15\n",
      "8462/8462 [==============================] - 46s 5ms/step - loss: 0.7981 - categorical_accuracy: 0.9933 - auc_1: 0.9968 - val_loss: 0.0000e+00 - val_categorical_accuracy: 0.8829 - val_auc_1: 0.9421\n",
      "Epoch 13/15\n",
      "8462/8462 [==============================] - 46s 5ms/step - loss: 0.8636 - categorical_accuracy: 0.9941 - auc_1: 0.9971 - val_loss: 0.0000e+00 - val_categorical_accuracy: 0.8997 - val_auc_1: 0.9502\n",
      "Epoch 14/15\n",
      "8462/8462 [==============================] - 50s 6ms/step - loss: 0.8295 - categorical_accuracy: 0.9940 - auc_1: 0.9971 - val_loss: 0.0000e+00 - val_categorical_accuracy: 0.9002 - val_auc_1: 0.9505\n",
      "Epoch 15/15\n",
      "8462/8462 [==============================] - 52s 6ms/step - loss: 0.8621 - categorical_accuracy: 0.9941 - auc_1: 0.9971 - val_loss: 0.0000e+00 - val_categorical_accuracy: 0.8847 - val_auc_1: 0.9428\n",
      "CPU times: user 47min, sys: 2min 10s, total: 49min 10s\n",
      "Wall time: 11min 37s\n"
     ]
    },
    {
     "data": {
      "text/plain": [
       "<keras.callbacks.callbacks.History at 0x7f11e025fcd0>"
      ]
     },
     "execution_count": 27,
     "metadata": {},
     "output_type": "execute_result"
    }
   ],
   "source": [
    "%%time\n",
    "# LeNet5 + Tensorboard + the FULL dataset\n",
    "lenet5.compile(loss='categorical_crossentropy',\n",
    "               optimizer='adam',\n",
    "               metrics=[k.metrics.CategoricalAccuracy(), # Using 2 metrics\n",
    "                        k.metrics.AUC()])\n",
    "\n",
    "lenet5.fit(train_full, \n",
    "           validation_data=test_full,\n",
    "           steps_per_epoch=None, epochs=15,\n",
    "           callbacks=[tensorboard_callback])"
   ]
  },
  {
   "cell_type": "code",
   "execution_count": 29,
   "metadata": {},
   "outputs": [
    {
     "name": "stdout",
     "output_type": "stream",
     "text": [
      "2836/2836 [==============================] - 9s 3ms/step\n",
      "[0.0, 0.8846967816352844, 0.9428174495697021]\n",
      "CPU times: user 32.5 s, sys: 1.46 s, total: 33.9 s\n",
      "Wall time: 9.31 s\n"
     ]
    }
   ],
   "source": [
    "%%time\n",
    "print(lenet5.evaluate(test_full))"
   ]
  }
 ],
 "metadata": {
  "kernelspec": {
   "display_name": "Python 3",
   "language": "python",
   "name": "python3"
  },
  "language_info": {
   "codemirror_mode": {
    "name": "ipython",
    "version": 3
   },
   "file_extension": ".py",
   "mimetype": "text/x-python",
   "name": "python",
   "nbconvert_exporter": "python",
   "pygments_lexer": "ipython3",
   "version": "3.7.6"
  }
 },
 "nbformat": 4,
 "nbformat_minor": 4
}
